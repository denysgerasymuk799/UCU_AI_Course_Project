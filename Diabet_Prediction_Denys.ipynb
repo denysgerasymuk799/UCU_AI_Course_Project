{
 "cells": [
  {
   "cell_type": "markdown",
   "metadata": {
    "collapsed": true,
    "pycharm": {
     "name": "#%% md\n"
    }
   },
   "source": [
    "# Project title: Diabet Prediction\n",
    "\n",
    "## Authors: Denys Herasymuk & Yaroslav Morozevych\n",
    "\n",
    "**Variant**: the remainder of the division = 3\n",
    "\n",
    "## Contents of This Notebook\n",
    "\n",
    "Click on the section and go to this cell immediately.\n",
    "\n",
    "* [Section 1. Explore Data](#section_1)\n",
    "* [Section 2. Identifying Stationarity](#section_2)\n",
    "* [Section 3. Nonstationary-to-Stationary Transformations](#section_3)\n",
    "* [Section 4. Correlation analysis](#section_4)\n",
    "* [Section 5. Feature generation and validation of DL models](#section_5)\n",
    "* [Section 6. Fbprophet and Nbeats models](#section_6)\n",
    "* [Section 7. Predict on 12 months out of dataframe](#section_7)\n",
    "\n",
    "\n",
    "When you use Run All button with this notebook, you should wait approx. 10-15 mins to get output of all cells.\n",
    "\n",
    "**How to run this notebook**\n",
    "\n",
    "* Create a new conda env with python 3.7\n",
    "* Run `jupyter notebook` in your new env via terminal (without installing any packages now)\n",
    "* Based on (this link)[https://stackoverflow.com/questions/61353951/no-module-named-fbprophet]. Run these two cells in your jupyter:\n",
    "```\n",
    "!conda install -c conda-forge fbprophet -y\n",
    "!pip install --upgrade plotly\n",
    "```\n",
    "\n",
    "* In terminal run  -- `pip install -r requirements.txt`\n",
    "* In any case, a useful command -- `conda create --clone py35 --name py35-2` from here -- https://docs.conda.io/projects/conda/en/4.6.0/_downloads/52a95608c49671267e40c689e0bc00ca/conda-cheatsheet.pdf\n",
    "\n",
    "* How to install pytorch -- https://pytorch.org/get-started/locally/\n",
    "* In such a way I installed it on Ubuntu\n",
    "`pip3 install torch==1.10.0+cpu torchvision==0.11.1+cpu torchaudio==0.10.0+cpu -f https://download.pytorch.org/whl/cpu/torch_stable.html`\n",
    "\n",
    "* Nbeats installing -- `pip3 install nbeats-pytorch`"
   ]
  },
  {
   "cell_type": "markdown",
   "source": [
    "## General Configuration"
   ],
   "metadata": {
    "collapsed": false
   }
  },
  {
   "cell_type": "code",
   "execution_count": 55,
   "outputs": [],
   "source": [
    "import os\n",
    "import sys\n",
    "import math\n",
    "import sklearn\n",
    "import itertools\n",
    "import matplotlib\n",
    "import numpy as np\n",
    "import pandas as pd\n",
    "import seaborn as sns\n",
    "import statsmodels as ss\n",
    "import matplotlib.pyplot as plt\n",
    "\n",
    "from pprint import pprint\n",
    "from copy import deepcopy\n",
    "from sklearn.metrics import f1_score\n",
    "from sklearn.metrics import make_scorer\n",
    "from sklearn.model_selection import train_test_split, GridSearchCV\n",
    "from sklearn.ensemble import RandomForestClassifier\n",
    "from sklearn.tree import DecisionTreeClassifier"
   ],
   "metadata": {
    "collapsed": false,
    "pycharm": {
     "name": "#%%\n"
    }
   }
  },
  {
   "cell_type": "code",
   "execution_count": 18,
   "outputs": [],
   "source": [
    "%matplotlib inline\n",
    "\n",
    "# alt.data_transformers.disable_max_rows()\n",
    "# alt.renderers.enable('html')\n",
    "\n",
    "plt.style.use('mpl20')\n",
    "matplotlib.rcParams['figure.dpi'] = 100\n",
    "matplotlib.rcParams['figure.figsize'] = 15, 5\n",
    "\n",
    "# import warnings\n",
    "# warnings.filterwarnings('ignore')"
   ],
   "metadata": {
    "collapsed": false,
    "pycharm": {
     "name": "#%%\n"
    }
   }
  },
  {
   "cell_type": "markdown",
   "source": [
    "## Python & Library Versions"
   ],
   "metadata": {
    "collapsed": false
   }
  },
  {
   "cell_type": "code",
   "execution_count": 19,
   "outputs": [
    {
     "name": "stdout",
     "output_type": "stream",
     "text": [
      "3.8.12 (default, Oct 12 2021, 13:49:34) \n",
      "[GCC 7.5.0] \n",
      "\n",
      "library    version\n",
      "------------------\n",
      "matplotlib  3.5.1\n",
      "numpy       1.19.2\n",
      "pandas      1.3.5\n",
      "statsmodels 0.13.1\n",
      "seaborn     0.11.2\n",
      "sklearn     1.0.1\n"
     ]
    }
   ],
   "source": [
    "versions = ( (\"matplotlib\", matplotlib.__version__),\n",
    "             (\"numpy\", np.__version__),\n",
    "             (\"pandas\", pd.__version__),\n",
    "             (\"statsmodels\", ss.__version__),\n",
    "             (\"seaborn\", sns.__version__),\n",
    "             (\"sklearn\", sklearn.__version__),\n",
    "             # (\"keras\", keras.__version__),\n",
    "             # (\"xgboost\", xgboost.__version__),\n",
    "             )\n",
    "\n",
    "print(sys.version, \"\\n\")\n",
    "print(\"library\" + \" \" * 4 + \"version\")\n",
    "print(\"-\" * 18)\n",
    "\n",
    "for tup1, tup2 in versions:\n",
    "    print(\"{:11} {}\".format(tup1, tup2))"
   ],
   "metadata": {
    "collapsed": false,
    "pycharm": {
     "name": "#%%\n"
    }
   }
  },
  {
   "cell_type": "markdown",
   "source": [
    "<a id='section_1'></a>\n",
    "\n",
    "## Section 1. Explore Data"
   ],
   "metadata": {
    "collapsed": false
   }
  },
  {
   "cell_type": "code",
   "execution_count": 20,
   "outputs": [],
   "source": [
    "diabetes_df = pd.read_csv(os.path.join(\".\", \"data\", \"diabetes.csv\"))"
   ],
   "metadata": {
    "collapsed": false,
    "pycharm": {
     "name": "#%%\n"
    }
   }
  },
  {
   "cell_type": "code",
   "execution_count": 21,
   "outputs": [
    {
     "data": {
      "text/plain": "   Pregnancies  Glucose  BloodPressure  SkinThickness  Insulin   BMI  \\\n0            6      148             72             35        0  33.6   \n1            1       85             66             29        0  26.6   \n2            8      183             64              0        0  23.3   \n3            1       89             66             23       94  28.1   \n4            0      137             40             35      168  43.1   \n\n   DiabetesPedigreeFunction  Age  Outcome  \n0                     0.627   50        1  \n1                     0.351   31        0  \n2                     0.672   32        1  \n3                     0.167   21        0  \n4                     2.288   33        1  ",
      "text/html": "<div>\n<style scoped>\n    .dataframe tbody tr th:only-of-type {\n        vertical-align: middle;\n    }\n\n    .dataframe tbody tr th {\n        vertical-align: top;\n    }\n\n    .dataframe thead th {\n        text-align: right;\n    }\n</style>\n<table border=\"1\" class=\"dataframe\">\n  <thead>\n    <tr style=\"text-align: right;\">\n      <th></th>\n      <th>Pregnancies</th>\n      <th>Glucose</th>\n      <th>BloodPressure</th>\n      <th>SkinThickness</th>\n      <th>Insulin</th>\n      <th>BMI</th>\n      <th>DiabetesPedigreeFunction</th>\n      <th>Age</th>\n      <th>Outcome</th>\n    </tr>\n  </thead>\n  <tbody>\n    <tr>\n      <th>0</th>\n      <td>6</td>\n      <td>148</td>\n      <td>72</td>\n      <td>35</td>\n      <td>0</td>\n      <td>33.6</td>\n      <td>0.627</td>\n      <td>50</td>\n      <td>1</td>\n    </tr>\n    <tr>\n      <th>1</th>\n      <td>1</td>\n      <td>85</td>\n      <td>66</td>\n      <td>29</td>\n      <td>0</td>\n      <td>26.6</td>\n      <td>0.351</td>\n      <td>31</td>\n      <td>0</td>\n    </tr>\n    <tr>\n      <th>2</th>\n      <td>8</td>\n      <td>183</td>\n      <td>64</td>\n      <td>0</td>\n      <td>0</td>\n      <td>23.3</td>\n      <td>0.672</td>\n      <td>32</td>\n      <td>1</td>\n    </tr>\n    <tr>\n      <th>3</th>\n      <td>1</td>\n      <td>89</td>\n      <td>66</td>\n      <td>23</td>\n      <td>94</td>\n      <td>28.1</td>\n      <td>0.167</td>\n      <td>21</td>\n      <td>0</td>\n    </tr>\n    <tr>\n      <th>4</th>\n      <td>0</td>\n      <td>137</td>\n      <td>40</td>\n      <td>35</td>\n      <td>168</td>\n      <td>43.1</td>\n      <td>2.288</td>\n      <td>33</td>\n      <td>1</td>\n    </tr>\n  </tbody>\n</table>\n</div>"
     },
     "execution_count": 21,
     "metadata": {},
     "output_type": "execute_result"
    }
   ],
   "source": [
    "diabetes_df.head()"
   ],
   "metadata": {
    "collapsed": false,
    "pycharm": {
     "name": "#%%\n"
    }
   }
  },
  {
   "cell_type": "code",
   "execution_count": 22,
   "outputs": [
    {
     "data": {
      "text/plain": "       Pregnancies     Glucose  BloodPressure  SkinThickness     Insulin  \\\ncount   768.000000  768.000000     768.000000     768.000000  768.000000   \nmean      3.845052  120.894531      69.105469      20.536458   79.799479   \nstd       3.369578   31.972618      19.355807      15.952218  115.244002   \nmin       0.000000    0.000000       0.000000       0.000000    0.000000   \n25%       1.000000   99.000000      62.000000       0.000000    0.000000   \n50%       3.000000  117.000000      72.000000      23.000000   30.500000   \n75%       6.000000  140.250000      80.000000      32.000000  127.250000   \nmax      17.000000  199.000000     122.000000      99.000000  846.000000   \n\n              BMI  DiabetesPedigreeFunction         Age     Outcome  \ncount  768.000000                768.000000  768.000000  768.000000  \nmean    31.992578                  0.471876   33.240885    0.348958  \nstd      7.884160                  0.331329   11.760232    0.476951  \nmin      0.000000                  0.078000   21.000000    0.000000  \n25%     27.300000                  0.243750   24.000000    0.000000  \n50%     32.000000                  0.372500   29.000000    0.000000  \n75%     36.600000                  0.626250   41.000000    1.000000  \nmax     67.100000                  2.420000   81.000000    1.000000  ",
      "text/html": "<div>\n<style scoped>\n    .dataframe tbody tr th:only-of-type {\n        vertical-align: middle;\n    }\n\n    .dataframe tbody tr th {\n        vertical-align: top;\n    }\n\n    .dataframe thead th {\n        text-align: right;\n    }\n</style>\n<table border=\"1\" class=\"dataframe\">\n  <thead>\n    <tr style=\"text-align: right;\">\n      <th></th>\n      <th>Pregnancies</th>\n      <th>Glucose</th>\n      <th>BloodPressure</th>\n      <th>SkinThickness</th>\n      <th>Insulin</th>\n      <th>BMI</th>\n      <th>DiabetesPedigreeFunction</th>\n      <th>Age</th>\n      <th>Outcome</th>\n    </tr>\n  </thead>\n  <tbody>\n    <tr>\n      <th>count</th>\n      <td>768.000000</td>\n      <td>768.000000</td>\n      <td>768.000000</td>\n      <td>768.000000</td>\n      <td>768.000000</td>\n      <td>768.000000</td>\n      <td>768.000000</td>\n      <td>768.000000</td>\n      <td>768.000000</td>\n    </tr>\n    <tr>\n      <th>mean</th>\n      <td>3.845052</td>\n      <td>120.894531</td>\n      <td>69.105469</td>\n      <td>20.536458</td>\n      <td>79.799479</td>\n      <td>31.992578</td>\n      <td>0.471876</td>\n      <td>33.240885</td>\n      <td>0.348958</td>\n    </tr>\n    <tr>\n      <th>std</th>\n      <td>3.369578</td>\n      <td>31.972618</td>\n      <td>19.355807</td>\n      <td>15.952218</td>\n      <td>115.244002</td>\n      <td>7.884160</td>\n      <td>0.331329</td>\n      <td>11.760232</td>\n      <td>0.476951</td>\n    </tr>\n    <tr>\n      <th>min</th>\n      <td>0.000000</td>\n      <td>0.000000</td>\n      <td>0.000000</td>\n      <td>0.000000</td>\n      <td>0.000000</td>\n      <td>0.000000</td>\n      <td>0.078000</td>\n      <td>21.000000</td>\n      <td>0.000000</td>\n    </tr>\n    <tr>\n      <th>25%</th>\n      <td>1.000000</td>\n      <td>99.000000</td>\n      <td>62.000000</td>\n      <td>0.000000</td>\n      <td>0.000000</td>\n      <td>27.300000</td>\n      <td>0.243750</td>\n      <td>24.000000</td>\n      <td>0.000000</td>\n    </tr>\n    <tr>\n      <th>50%</th>\n      <td>3.000000</td>\n      <td>117.000000</td>\n      <td>72.000000</td>\n      <td>23.000000</td>\n      <td>30.500000</td>\n      <td>32.000000</td>\n      <td>0.372500</td>\n      <td>29.000000</td>\n      <td>0.000000</td>\n    </tr>\n    <tr>\n      <th>75%</th>\n      <td>6.000000</td>\n      <td>140.250000</td>\n      <td>80.000000</td>\n      <td>32.000000</td>\n      <td>127.250000</td>\n      <td>36.600000</td>\n      <td>0.626250</td>\n      <td>41.000000</td>\n      <td>1.000000</td>\n    </tr>\n    <tr>\n      <th>max</th>\n      <td>17.000000</td>\n      <td>199.000000</td>\n      <td>122.000000</td>\n      <td>99.000000</td>\n      <td>846.000000</td>\n      <td>67.100000</td>\n      <td>2.420000</td>\n      <td>81.000000</td>\n      <td>1.000000</td>\n    </tr>\n  </tbody>\n</table>\n</div>"
     },
     "execution_count": 22,
     "metadata": {},
     "output_type": "execute_result"
    }
   ],
   "source": [
    "diabetes_df.describe()"
   ],
   "metadata": {
    "collapsed": false,
    "pycharm": {
     "name": "#%%\n"
    }
   }
  },
  {
   "cell_type": "code",
   "execution_count": 23,
   "outputs": [
    {
     "data": {
      "text/plain": "Pregnancies                 0\nGlucose                     0\nBloodPressure               0\nSkinThickness               0\nInsulin                     0\nBMI                         0\nDiabetesPedigreeFunction    0\nAge                         0\nOutcome                     0\ndtype: int64"
     },
     "execution_count": 23,
     "metadata": {},
     "output_type": "execute_result"
    }
   ],
   "source": [
    "diabetes_df.isnull().sum()"
   ],
   "metadata": {
    "collapsed": false,
    "pycharm": {
     "name": "#%%\n"
    }
   }
  },
  {
   "cell_type": "code",
   "execution_count": 24,
   "outputs": [
    {
     "name": "stdout",
     "output_type": "stream",
     "text": [
      "Total number of occurrences:  768\n",
      "Number of diabet occurrences:  0.35\n",
      "Number of non-diabet occurrences:  0.65\n"
     ]
    }
   ],
   "source": [
    "total_n_rows = len(diabetes_df)\n",
    "print('Total number of occurrences: ', total_n_rows)\n",
    "print('Number of diabet occurrences: ', round(len(diabetes_df[diabetes_df.Outcome == 1]) / total_n_rows, 2))\n",
    "print('Number of non-diabet occurrences: ', round(len(diabetes_df[diabetes_df.Outcome == 0]) / total_n_rows, 2))"
   ],
   "metadata": {
    "collapsed": false,
    "pycharm": {
     "name": "#%%\n"
    }
   }
  },
  {
   "cell_type": "markdown",
   "source": [
    "<a id='section_3'></a>\n",
    "\n",
    "## Section 3. Train and Validate Model"
   ],
   "metadata": {
    "collapsed": false
   }
  },
  {
   "cell_type": "markdown",
   "source": [
    "### Prepare model"
   ],
   "metadata": {
    "collapsed": false
   }
  },
  {
   "cell_type": "code",
   "execution_count": 25,
   "outputs": [],
   "source": [
    "y = diabetes_df['Outcome']\n",
    "X = diabetes_df.loc[:, ~diabetes_df.columns.isin(['Outcome'])]"
   ],
   "metadata": {
    "collapsed": false,
    "pycharm": {
     "name": "#%%\n"
    }
   }
  },
  {
   "cell_type": "code",
   "execution_count": 26,
   "outputs": [],
   "source": [
    "SEED = 42\n",
    "X_train, X_test, y_train, y_test = train_test_split(X, y, test_size=0.2, random_state=SEED)\n",
    "samples_per_fold = len(y_test)\n",
    "n_folds = 3"
   ],
   "metadata": {
    "collapsed": false,
    "pycharm": {
     "name": "#%%\n"
    }
   }
  },
  {
   "cell_type": "code",
   "execution_count": 27,
   "outputs": [],
   "source": [
    "# iterator for GridSearch\n",
    "def folds_iterator(n_folds, samples_per_fold, size):\n",
    "    for i in range(n_folds):\n",
    "        yield np.arange(0, size - samples_per_fold * (i + 1)), \\\n",
    "              np.arange(size - samples_per_fold * (i + 1), size - samples_per_fold * i)\n"
   ],
   "metadata": {
    "collapsed": false,
    "pycharm": {
     "name": "#%%\n"
    }
   }
  },
  {
   "cell_type": "code",
   "execution_count": 28,
   "outputs": [],
   "source": [
    "def validate_model(model, x, y, params, n_folds, samples_per_fold):\n",
    "    grid_search = GridSearchCV(estimator=model,\n",
    "                               param_grid=params,\n",
    "                               # scoring={\"F1_Score\": make_scorer(rmse, greater_is_better=False), \"WMAPE\": make_scorer(wmape, greater_is_better=False)},\n",
    "                               scoring={\"F1_Score\": make_scorer(f1_score, average='micro')},\n",
    "                               refit=\"F1_Score\",\n",
    "                               n_jobs=-1, cv=folds_iterator(n_folds, samples_per_fold, x.shape[0]))\n",
    "    grid_search.fit(x, y)\n",
    "    best_index = grid_search.best_index_\n",
    "    return grid_search.best_estimator_, grid_search.cv_results_[\"mean_test_F1_Score\"][best_index], grid_search.best_params_\n"
   ],
   "metadata": {
    "collapsed": false,
    "pycharm": {
     "name": "#%%\n"
    }
   }
  },
  {
   "cell_type": "code",
   "execution_count": 56,
   "outputs": [],
   "source": [
    "def validate_ML_models(X, y, show_plots, debug_mode):\n",
    "    results_df = pd.DataFrame(columns=('Model_Name', 'F1_Score',\n",
    "                                       'Model_Best_Params'))\n",
    "\n",
    "    config_models = [\n",
    "        {\n",
    "            'model_name': 'RandomForestClassifier',\n",
    "            'model': RandomForestClassifier(random_state=SEED),\n",
    "            'params': {\"max_depth\": [3, 4, 6],\n",
    "                      \"min_samples_split\": [6],\n",
    "                      \"n_estimators\": [200, 500, 1000],\n",
    "                      \"max_features\": [0.6]}\n",
    "        },\n",
    "        {\n",
    "            'model_name': 'DecisionTreeClassifier',\n",
    "            'model': DecisionTreeClassifier(random_state=SEED),\n",
    "            'params': {\"max_depth\": [3, 4, 6],\n",
    "                      \"min_samples_split\": [6],\n",
    "                      \"max_features\": [0.6]}\n",
    "        },\n",
    "    ]\n",
    "\n",
    "    best_f1_score = -np.Inf\n",
    "    best_model = None\n",
    "    best_model_name = 'No model'\n",
    "    best_params = None\n",
    "    idx = 0\n",
    "    for model_config in config_models:\n",
    "        cur_model, cur_f1_score, cur_params = validate_model(deepcopy(model_config['model']),\n",
    "                                                                    X, y, model_config['params'],\n",
    "                                                                    n_folds, samples_per_fold)\n",
    "        print('Model name: ', model_config['model_name'])\n",
    "        print('Best model params: ')\n",
    "        pprint(cur_params)\n",
    "        results_df.loc[idx] = [model_config['model_name'],\n",
    "                               cur_f1_score,\n",
    "                               cur_params]\n",
    "        idx += 1\n",
    "\n",
    "        if cur_f1_score > best_f1_score:\n",
    "            best_f1_score = cur_f1_score\n",
    "            best_model_name = model_config['model_name']\n",
    "            best_model = cur_model\n",
    "            best_params = cur_params\n",
    "\n",
    "    # add visualizations here\n",
    "\n",
    "    return results_df, best_model, best_model_name"
   ],
   "metadata": {
    "collapsed": false,
    "pycharm": {
     "name": "#%%\n"
    }
   }
  },
  {
   "cell_type": "code",
   "execution_count": 57,
   "outputs": [
    {
     "name": "stdout",
     "output_type": "stream",
     "text": [
      "Model name:  RandomForestClassifier\n",
      "Best model params: \n",
      "{'max_depth': 3,\n",
      " 'max_features': 0.6,\n",
      " 'min_samples_split': 6,\n",
      " 'n_estimators': 200}\n",
      "Model name:  DecisionTreeClassifier\n",
      "Best model params: \n",
      "{'max_depth': 3, 'max_features': 0.6, 'min_samples_split': 6}\n"
     ]
    }
   ],
   "source": [
    "ML_results_df, best_model, best_model_name = validate_ML_models(X_train, y_train, show_plots=False, debug_mode=False)"
   ],
   "metadata": {
    "collapsed": false,
    "pycharm": {
     "name": "#%%\n"
    }
   }
  },
  {
   "cell_type": "code",
   "execution_count": 58,
   "outputs": [
    {
     "data": {
      "text/plain": "               Model_Name  F1_Score  \\\n0  RandomForestClassifier  0.768398   \n1  DecisionTreeClassifier  0.729437   \n\n                                   Model_Best_Params  \n0  {'max_depth': 3, 'max_features': 0.6, 'min_sam...  \n1  {'max_depth': 3, 'max_features': 0.6, 'min_sam...  ",
      "text/html": "<div>\n<style scoped>\n    .dataframe tbody tr th:only-of-type {\n        vertical-align: middle;\n    }\n\n    .dataframe tbody tr th {\n        vertical-align: top;\n    }\n\n    .dataframe thead th {\n        text-align: right;\n    }\n</style>\n<table border=\"1\" class=\"dataframe\">\n  <thead>\n    <tr style=\"text-align: right;\">\n      <th></th>\n      <th>Model_Name</th>\n      <th>F1_Score</th>\n      <th>Model_Best_Params</th>\n    </tr>\n  </thead>\n  <tbody>\n    <tr>\n      <th>0</th>\n      <td>RandomForestClassifier</td>\n      <td>0.768398</td>\n      <td>{'max_depth': 3, 'max_features': 0.6, 'min_sam...</td>\n    </tr>\n    <tr>\n      <th>1</th>\n      <td>DecisionTreeClassifier</td>\n      <td>0.729437</td>\n      <td>{'max_depth': 3, 'max_features': 0.6, 'min_sam...</td>\n    </tr>\n  </tbody>\n</table>\n</div>"
     },
     "execution_count": 58,
     "metadata": {},
     "output_type": "execute_result"
    }
   ],
   "source": [
    "ML_results_df"
   ],
   "metadata": {
    "collapsed": false,
    "pycharm": {
     "name": "#%%\n"
    }
   }
  },
  {
   "cell_type": "markdown",
   "source": [
    "### Test set evaluation"
   ],
   "metadata": {
    "collapsed": false
   }
  },
  {
   "cell_type": "code",
   "execution_count": 60,
   "outputs": [],
   "source": [
    "y_hat = best_model.predict(X_test)\n",
    "best_f1_score = f1_score(y_test, y_hat)"
   ],
   "metadata": {
    "collapsed": false,
    "pycharm": {
     "name": "#%%\n"
    }
   }
  },
  {
   "cell_type": "code",
   "execution_count": 61,
   "outputs": [
    {
     "name": "stdout",
     "output_type": "stream",
     "text": [
      "Best model:  RandomForestClassifier\n",
      "Test score of best model:  0.6534653465346534\n"
     ]
    }
   ],
   "source": [
    "print('Best model: ', best_model_name)\n",
    "print('Test score of the    best model: ', best_f1_score)"
   ],
   "metadata": {
    "collapsed": false,
    "pycharm": {
     "name": "#%%\n"
    }
   }
  },
  {
   "cell_type": "markdown",
   "source": [
    "### Retrain and save model"
   ],
   "metadata": {
    "collapsed": false,
    "pycharm": {
     "name": "#%% md\n"
    }
   }
  },
  {
   "cell_type": "code",
   "execution_count": null,
   "outputs": [],
   "source": [
    "# x = pd.concat((x_train, x_test))\n",
    "# random_forest.fit(x, y);\n",
    "\n",
    "# models_path = \"models\"\n",
    "# if not os.path.exists(models_path):\n",
    "#     os.mkdir(models_path)\n",
    "# pickle.dump(random_forest, open(os.path.join(models_path, \"demand_forecasting_model.pkl\"), \"wb\"))"
   ],
   "metadata": {
    "collapsed": false,
    "pycharm": {
     "name": "#%%\n"
    }
   }
  }
 ],
 "metadata": {
  "kernelspec": {
   "display_name": "Python 3",
   "language": "python",
   "name": "python3"
  },
  "language_info": {
   "codemirror_mode": {
    "name": "ipython",
    "version": 2
   },
   "file_extension": ".py",
   "mimetype": "text/x-python",
   "name": "python",
   "nbconvert_exporter": "python",
   "pygments_lexer": "ipython2",
   "version": "2.7.6"
  }
 },
 "nbformat": 4,
 "nbformat_minor": 0
}
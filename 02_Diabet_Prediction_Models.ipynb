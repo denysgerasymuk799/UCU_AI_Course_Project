{
 "cells": [
  {
   "cell_type": "markdown",
   "metadata": {
    "collapsed": true,
    "pycharm": {
     "name": "#%% md\n"
    }
   },
   "source": [
    "# Project title: Diabet Prediction [notebook 'Diabet_Prediction_Models']\n",
    "\n",
    "## Authors: Denys Herasymuk & Yaroslav Morozevych\n",
    "\n",
    "## Contents of This Notebook\n",
    "\n",
    "Click on the section and go to this cell immediately. (works only with Jupyter in browser)\n",
    "\n",
    "* [Section 1. Explore Data](#section_1)\n",
    "* [Section 2. Train and Validate Models](#section_2)\n",
    "* [Section 3. Test Set Evaluation](#section_3)\n",
    "\n",
    "When you use `Run All` button with this notebook, you should wait approx. 3-5 mins to get output of all cells.\n",
    "\n",
    "**How to run this notebook**\n",
    "\n",
    "* Create a new virtual env with python 3.8\n",
    "* In terminal run  -- `pip install -r requirements.txt`"
   ]
  },
  {
   "cell_type": "markdown",
   "source": [
    "## General Configuration"
   ],
   "metadata": {
    "collapsed": false
   }
  },
  {
   "cell_type": "code",
   "execution_count": 247,
   "outputs": [],
   "source": [
    "import os\n",
    "import sys\n",
    "import math\n",
    "import pickle\n",
    "import sklearn\n",
    "import itertools\n",
    "import matplotlib\n",
    "import numpy as np\n",
    "import pandas as pd\n",
    "import seaborn as sns\n",
    "import statsmodels as ss\n",
    "import matplotlib.pyplot as plt\n",
    "\n",
    "from pprint import pprint\n",
    "from copy import deepcopy\n",
    "from sklearn.svm import SVC\n",
    "from sklearn.metrics import make_scorer, accuracy_score, f1_score, precision_score, recall_score\n",
    "from sklearn.metrics import confusion_matrix, ConfusionMatrixDisplay, classification_report\n",
    "from sklearn.model_selection import train_test_split, GridSearchCV\n",
    "from sklearn.ensemble import RandomForestClassifier\n",
    "from sklearn.tree import DecisionTreeClassifier\n",
    "\n",
    "from utils import scale_normalize"
   ],
   "metadata": {
    "collapsed": false,
    "pycharm": {
     "name": "#%%\n"
    }
   }
  },
  {
   "cell_type": "code",
   "execution_count": 248,
   "outputs": [],
   "source": [
    "%matplotlib inline\n",
    "\n",
    "plt.style.use('mpl20')\n",
    "matplotlib.rcParams['figure.dpi'] = 100\n",
    "matplotlib.rcParams['figure.figsize'] = 15, 5\n",
    "\n",
    "import warnings\n",
    "warnings.filterwarnings('ignore')"
   ],
   "metadata": {
    "collapsed": false,
    "pycharm": {
     "name": "#%%\n"
    }
   }
  },
  {
   "cell_type": "markdown",
   "source": [
    "## Python & Library Versions"
   ],
   "metadata": {
    "collapsed": false
   }
  },
  {
   "cell_type": "code",
   "execution_count": 249,
   "outputs": [
    {
     "name": "stdout",
     "output_type": "stream",
     "text": [
      "3.8.12 (default, Oct 12 2021, 13:49:34) \n",
      "[GCC 7.5.0] \n",
      "\n",
      "library    version\n",
      "------------------\n",
      "matplotlib  3.5.1\n",
      "numpy       1.19.2\n",
      "pandas      1.3.5\n",
      "statsmodels 0.13.1\n",
      "seaborn     0.11.2\n",
      "sklearn     1.0.1\n"
     ]
    }
   ],
   "source": [
    "versions = ( (\"matplotlib\", matplotlib.__version__),\n",
    "             (\"numpy\", np.__version__),\n",
    "             (\"pandas\", pd.__version__),\n",
    "             (\"statsmodels\", ss.__version__),\n",
    "             (\"seaborn\", sns.__version__),\n",
    "             (\"sklearn\", sklearn.__version__),\n",
    "             )\n",
    "\n",
    "print(sys.version, \"\\n\")\n",
    "print(\"library\" + \" \" * 4 + \"version\")\n",
    "print(\"-\" * 18)\n",
    "\n",
    "for tup1, tup2 in versions:\n",
    "    print(\"{:11} {}\".format(tup1, tup2))"
   ],
   "metadata": {
    "collapsed": false,
    "pycharm": {
     "name": "#%%\n"
    }
   }
  },
  {
   "cell_type": "markdown",
   "source": [
    "<a id='section_1'></a>\n",
    "\n",
    "## Section 1. Explore Data"
   ],
   "metadata": {
    "collapsed": false
   }
  },
  {
   "cell_type": "code",
   "execution_count": 250,
   "outputs": [],
   "source": [
    "diabetes_df = pd.read_csv(os.path.join(\".\", \"data\", \"diabetes_processed.csv\"))\n",
    "diabetes_df = diabetes_df.iloc[: , 1:] # Drop first column of dataframe"
   ],
   "metadata": {
    "collapsed": false,
    "pycharm": {
     "name": "#%%\n"
    }
   }
  },
  {
   "cell_type": "code",
   "execution_count": 251,
   "outputs": [
    {
     "data": {
      "text/plain": "   Pregnancies  Glucose  Insulin   BMI  DiabetesPedigreeFunction  Age  \\\n0            6      148        0  33.6                     0.627   50   \n1            1       85        0  26.6                     0.351   31   \n2            8      183        0  23.3                     0.672   32   \n3            1       89       94  28.1                     0.167   21   \n4            0      137      168  43.1                     2.288   33   \n\n   DiabetesRisk  Outcome  \n0          1.69        1  \n1          0.66        0  \n2          1.61        1  \n3          0.07        0  \n4          1.27        1  ",
      "text/html": "<div>\n<style scoped>\n    .dataframe tbody tr th:only-of-type {\n        vertical-align: middle;\n    }\n\n    .dataframe tbody tr th {\n        vertical-align: top;\n    }\n\n    .dataframe thead th {\n        text-align: right;\n    }\n</style>\n<table border=\"1\" class=\"dataframe\">\n  <thead>\n    <tr style=\"text-align: right;\">\n      <th></th>\n      <th>Pregnancies</th>\n      <th>Glucose</th>\n      <th>Insulin</th>\n      <th>BMI</th>\n      <th>DiabetesPedigreeFunction</th>\n      <th>Age</th>\n      <th>DiabetesRisk</th>\n      <th>Outcome</th>\n    </tr>\n  </thead>\n  <tbody>\n    <tr>\n      <th>0</th>\n      <td>6</td>\n      <td>148</td>\n      <td>0</td>\n      <td>33.6</td>\n      <td>0.627</td>\n      <td>50</td>\n      <td>1.69</td>\n      <td>1</td>\n    </tr>\n    <tr>\n      <th>1</th>\n      <td>1</td>\n      <td>85</td>\n      <td>0</td>\n      <td>26.6</td>\n      <td>0.351</td>\n      <td>31</td>\n      <td>0.66</td>\n      <td>0</td>\n    </tr>\n    <tr>\n      <th>2</th>\n      <td>8</td>\n      <td>183</td>\n      <td>0</td>\n      <td>23.3</td>\n      <td>0.672</td>\n      <td>32</td>\n      <td>1.61</td>\n      <td>1</td>\n    </tr>\n    <tr>\n      <th>3</th>\n      <td>1</td>\n      <td>89</td>\n      <td>94</td>\n      <td>28.1</td>\n      <td>0.167</td>\n      <td>21</td>\n      <td>0.07</td>\n      <td>0</td>\n    </tr>\n    <tr>\n      <th>4</th>\n      <td>0</td>\n      <td>137</td>\n      <td>168</td>\n      <td>43.1</td>\n      <td>2.288</td>\n      <td>33</td>\n      <td>1.27</td>\n      <td>1</td>\n    </tr>\n  </tbody>\n</table>\n</div>"
     },
     "execution_count": 251,
     "metadata": {},
     "output_type": "execute_result"
    }
   ],
   "source": [
    "diabetes_df.head()"
   ],
   "metadata": {
    "collapsed": false,
    "pycharm": {
     "name": "#%%\n"
    }
   }
  },
  {
   "cell_type": "markdown",
   "source": [
    "### Validate Data"
   ],
   "metadata": {
    "collapsed": false
   }
  },
  {
   "cell_type": "code",
   "execution_count": 252,
   "outputs": [
    {
     "data": {
      "text/plain": "       Pregnancies     Glucose     Insulin         BMI  \\\ncount   768.000000  768.000000  768.000000  768.000000   \nmean      3.845052  120.894531   79.799479   31.992578   \nstd       3.369578   31.972618  115.244002    7.884160   \nmin       0.000000    0.000000    0.000000    0.000000   \n25%       1.000000   99.000000    0.000000   27.300000   \n50%       3.000000  117.000000   30.500000   32.000000   \n75%       6.000000  140.250000  127.250000   36.600000   \nmax      17.000000  199.000000  846.000000   67.100000   \n\n       DiabetesPedigreeFunction         Age  DiabetesRisk     Outcome  \ncount                768.000000  768.000000    768.000000  768.000000  \nmean                   0.471876   33.240885      0.888828    0.348958  \nstd                    0.331329   11.760232      0.503496    0.476951  \nmin                    0.078000   21.000000      0.000000    0.000000  \n25%                    0.243750   24.000000      0.470000    0.000000  \n50%                    0.372500   29.000000      0.870000    0.000000  \n75%                    0.626250   41.000000      1.230000    1.000000  \nmax                    2.420000   81.000000      2.250000    1.000000  ",
      "text/html": "<div>\n<style scoped>\n    .dataframe tbody tr th:only-of-type {\n        vertical-align: middle;\n    }\n\n    .dataframe tbody tr th {\n        vertical-align: top;\n    }\n\n    .dataframe thead th {\n        text-align: right;\n    }\n</style>\n<table border=\"1\" class=\"dataframe\">\n  <thead>\n    <tr style=\"text-align: right;\">\n      <th></th>\n      <th>Pregnancies</th>\n      <th>Glucose</th>\n      <th>Insulin</th>\n      <th>BMI</th>\n      <th>DiabetesPedigreeFunction</th>\n      <th>Age</th>\n      <th>DiabetesRisk</th>\n      <th>Outcome</th>\n    </tr>\n  </thead>\n  <tbody>\n    <tr>\n      <th>count</th>\n      <td>768.000000</td>\n      <td>768.000000</td>\n      <td>768.000000</td>\n      <td>768.000000</td>\n      <td>768.000000</td>\n      <td>768.000000</td>\n      <td>768.000000</td>\n      <td>768.000000</td>\n    </tr>\n    <tr>\n      <th>mean</th>\n      <td>3.845052</td>\n      <td>120.894531</td>\n      <td>79.799479</td>\n      <td>31.992578</td>\n      <td>0.471876</td>\n      <td>33.240885</td>\n      <td>0.888828</td>\n      <td>0.348958</td>\n    </tr>\n    <tr>\n      <th>std</th>\n      <td>3.369578</td>\n      <td>31.972618</td>\n      <td>115.244002</td>\n      <td>7.884160</td>\n      <td>0.331329</td>\n      <td>11.760232</td>\n      <td>0.503496</td>\n      <td>0.476951</td>\n    </tr>\n    <tr>\n      <th>min</th>\n      <td>0.000000</td>\n      <td>0.000000</td>\n      <td>0.000000</td>\n      <td>0.000000</td>\n      <td>0.078000</td>\n      <td>21.000000</td>\n      <td>0.000000</td>\n      <td>0.000000</td>\n    </tr>\n    <tr>\n      <th>25%</th>\n      <td>1.000000</td>\n      <td>99.000000</td>\n      <td>0.000000</td>\n      <td>27.300000</td>\n      <td>0.243750</td>\n      <td>24.000000</td>\n      <td>0.470000</td>\n      <td>0.000000</td>\n    </tr>\n    <tr>\n      <th>50%</th>\n      <td>3.000000</td>\n      <td>117.000000</td>\n      <td>30.500000</td>\n      <td>32.000000</td>\n      <td>0.372500</td>\n      <td>29.000000</td>\n      <td>0.870000</td>\n      <td>0.000000</td>\n    </tr>\n    <tr>\n      <th>75%</th>\n      <td>6.000000</td>\n      <td>140.250000</td>\n      <td>127.250000</td>\n      <td>36.600000</td>\n      <td>0.626250</td>\n      <td>41.000000</td>\n      <td>1.230000</td>\n      <td>1.000000</td>\n    </tr>\n    <tr>\n      <th>max</th>\n      <td>17.000000</td>\n      <td>199.000000</td>\n      <td>846.000000</td>\n      <td>67.100000</td>\n      <td>2.420000</td>\n      <td>81.000000</td>\n      <td>2.250000</td>\n      <td>1.000000</td>\n    </tr>\n  </tbody>\n</table>\n</div>"
     },
     "execution_count": 252,
     "metadata": {},
     "output_type": "execute_result"
    }
   ],
   "source": [
    "diabetes_df.describe()"
   ],
   "metadata": {
    "collapsed": false,
    "pycharm": {
     "name": "#%%\n"
    }
   }
  },
  {
   "cell_type": "code",
   "execution_count": 253,
   "outputs": [
    {
     "data": {
      "text/plain": "Pregnancies                 0\nGlucose                     0\nInsulin                     0\nBMI                         0\nDiabetesPedigreeFunction    0\nAge                         0\nDiabetesRisk                0\nOutcome                     0\ndtype: int64"
     },
     "execution_count": 253,
     "metadata": {},
     "output_type": "execute_result"
    }
   ],
   "source": [
    "diabetes_df.isnull().sum()"
   ],
   "metadata": {
    "collapsed": false,
    "pycharm": {
     "name": "#%%\n"
    }
   }
  },
  {
   "cell_type": "code",
   "execution_count": 254,
   "outputs": [
    {
     "name": "stdout",
     "output_type": "stream",
     "text": [
      "Duplicate rows :\n"
     ]
    },
    {
     "data": {
      "text/plain": "Empty DataFrame\nColumns: [Pregnancies, Glucose, Insulin, BMI, DiabetesPedigreeFunction, Age, DiabetesRisk, Outcome]\nIndex: []",
      "text/html": "<div>\n<style scoped>\n    .dataframe tbody tr th:only-of-type {\n        vertical-align: middle;\n    }\n\n    .dataframe tbody tr th {\n        vertical-align: top;\n    }\n\n    .dataframe thead th {\n        text-align: right;\n    }\n</style>\n<table border=\"1\" class=\"dataframe\">\n  <thead>\n    <tr style=\"text-align: right;\">\n      <th></th>\n      <th>Pregnancies</th>\n      <th>Glucose</th>\n      <th>Insulin</th>\n      <th>BMI</th>\n      <th>DiabetesPedigreeFunction</th>\n      <th>Age</th>\n      <th>DiabetesRisk</th>\n      <th>Outcome</th>\n    </tr>\n  </thead>\n  <tbody>\n  </tbody>\n</table>\n</div>"
     },
     "execution_count": 254,
     "metadata": {},
     "output_type": "execute_result"
    }
   ],
   "source": [
    "# Selecting duplicate rows except first.\n",
    "# Occurrence based on all columns\n",
    "duplicates = diabetes_df[diabetes_df.duplicated()]\n",
    "\n",
    "print(\"Duplicate rows :\")\n",
    "duplicates"
   ],
   "metadata": {
    "collapsed": false,
    "pycharm": {
     "name": "#%%\n"
    }
   }
  },
  {
   "cell_type": "markdown",
   "source": [
    "<a id='section_2'></a>\n",
    "\n",
    "## Section 2. Train and Validate Models"
   ],
   "metadata": {
    "collapsed": false
   }
  },
  {
   "cell_type": "markdown",
   "source": [
    "### Prepare Data"
   ],
   "metadata": {
    "collapsed": false
   }
  },
  {
   "cell_type": "code",
   "execution_count": 255,
   "outputs": [],
   "source": [
    "# choose the most relevant features based on data analysis in 01_Process_Data_and_EDA.ipynb\n",
    "features = [\"Pregnancies\", \"Glucose\", \"Insulin\", \"BMI\", \"DiabetesPedigreeFunction\", \"Age\", \"DiabetesRisk\", \"Outcome\"]\n",
    "scaled_df = scale_normalize(df=diabetes_df, features=features)"
   ],
   "metadata": {
    "collapsed": false,
    "pycharm": {
     "name": "#%%\n"
    }
   }
  },
  {
   "cell_type": "code",
   "execution_count": 256,
   "outputs": [],
   "source": [
    "# separate the dataframe onto features and target\n",
    "features_df = scaled_df.drop(\"Outcome\", axis=\"columns\")\n",
    "target_df = diabetes_df[['Outcome']]"
   ],
   "metadata": {
    "collapsed": false,
    "pycharm": {
     "name": "#%%\n"
    }
   }
  },
  {
   "cell_type": "code",
   "execution_count": 257,
   "outputs": [
    {
     "data": {
      "text/plain": "       Pregnancies     Glucose     Insulin         BMI  \\\ncount   614.000000  614.000000  614.000000  614.000000   \nmean     -0.000901    0.012476    0.012192    0.002368   \nstd       1.012489    1.011829    1.010449    1.004225   \nmin      -1.141852   -3.783654   -0.692891   -4.060474   \n25%      -0.844885   -0.685236   -0.692891   -0.595578   \n50%      -0.250952   -0.121888   -0.397672    0.000942   \n75%       0.639947    0.629244    0.435886    0.584771   \nmax       3.906578    2.444478    6.652839    4.455807   \n\n       DiabetesPedigreeFunction         Age  DiabetesRisk  \ncount                614.000000  614.000000    614.000000  \nmean                   0.007752    0.024265      0.013011  \nstd                    1.034108    0.996093      0.998618  \nmin                   -1.189553   -1.041549     -1.766465  \n25%                   -0.687458   -0.786286     -0.832383  \n50%                   -0.322779   -0.360847     -0.037419  \n75%                    0.467737    0.660206      0.678048  \nmax                    5.883565    3.297926      2.705205  ",
      "text/html": "<div>\n<style scoped>\n    .dataframe tbody tr th:only-of-type {\n        vertical-align: middle;\n    }\n\n    .dataframe tbody tr th {\n        vertical-align: top;\n    }\n\n    .dataframe thead th {\n        text-align: right;\n    }\n</style>\n<table border=\"1\" class=\"dataframe\">\n  <thead>\n    <tr style=\"text-align: right;\">\n      <th></th>\n      <th>Pregnancies</th>\n      <th>Glucose</th>\n      <th>Insulin</th>\n      <th>BMI</th>\n      <th>DiabetesPedigreeFunction</th>\n      <th>Age</th>\n      <th>DiabetesRisk</th>\n    </tr>\n  </thead>\n  <tbody>\n    <tr>\n      <th>count</th>\n      <td>614.000000</td>\n      <td>614.000000</td>\n      <td>614.000000</td>\n      <td>614.000000</td>\n      <td>614.000000</td>\n      <td>614.000000</td>\n      <td>614.000000</td>\n    </tr>\n    <tr>\n      <th>mean</th>\n      <td>-0.000901</td>\n      <td>0.012476</td>\n      <td>0.012192</td>\n      <td>0.002368</td>\n      <td>0.007752</td>\n      <td>0.024265</td>\n      <td>0.013011</td>\n    </tr>\n    <tr>\n      <th>std</th>\n      <td>1.012489</td>\n      <td>1.011829</td>\n      <td>1.010449</td>\n      <td>1.004225</td>\n      <td>1.034108</td>\n      <td>0.996093</td>\n      <td>0.998618</td>\n    </tr>\n    <tr>\n      <th>min</th>\n      <td>-1.141852</td>\n      <td>-3.783654</td>\n      <td>-0.692891</td>\n      <td>-4.060474</td>\n      <td>-1.189553</td>\n      <td>-1.041549</td>\n      <td>-1.766465</td>\n    </tr>\n    <tr>\n      <th>25%</th>\n      <td>-0.844885</td>\n      <td>-0.685236</td>\n      <td>-0.692891</td>\n      <td>-0.595578</td>\n      <td>-0.687458</td>\n      <td>-0.786286</td>\n      <td>-0.832383</td>\n    </tr>\n    <tr>\n      <th>50%</th>\n      <td>-0.250952</td>\n      <td>-0.121888</td>\n      <td>-0.397672</td>\n      <td>0.000942</td>\n      <td>-0.322779</td>\n      <td>-0.360847</td>\n      <td>-0.037419</td>\n    </tr>\n    <tr>\n      <th>75%</th>\n      <td>0.639947</td>\n      <td>0.629244</td>\n      <td>0.435886</td>\n      <td>0.584771</td>\n      <td>0.467737</td>\n      <td>0.660206</td>\n      <td>0.678048</td>\n    </tr>\n    <tr>\n      <th>max</th>\n      <td>3.906578</td>\n      <td>2.444478</td>\n      <td>6.652839</td>\n      <td>4.455807</td>\n      <td>5.883565</td>\n      <td>3.297926</td>\n      <td>2.705205</td>\n    </tr>\n  </tbody>\n</table>\n</div>"
     },
     "execution_count": 257,
     "metadata": {},
     "output_type": "execute_result"
    }
   ],
   "source": [
    "SEED = 25\n",
    "n_folds = 3\n",
    "\n",
    "# split the data on test and train\n",
    "X_train, X_test, y_train, y_test = train_test_split(features_df, target_df, test_size=0.2, random_state=SEED)\n",
    "samples_per_fold = len(y_test)\n",
    "X_train.describe()"
   ],
   "metadata": {
    "collapsed": false,
    "pycharm": {
     "name": "#%%\n"
    }
   }
  },
  {
   "cell_type": "markdown",
   "source": [
    "### Train and Validation"
   ],
   "metadata": {
    "collapsed": false
   }
  },
  {
   "cell_type": "code",
   "execution_count": 258,
   "outputs": [],
   "source": [
    "def folds_iterator(n_folds, samples_per_fold, size):\n",
    "    \"\"\"\n",
    "    Iterator for GridSearch based on Cross-Validation\n",
    "\n",
    "    :param n_folds: number of folds for Cross-Validation\n",
    "    :param samples_per_fold: number of samples per fold\n",
    "    \"\"\"\n",
    "    for i in range(n_folds):\n",
    "        yield np.arange(0, size - samples_per_fold * (i + 1)), \\\n",
    "              np.arange(size - samples_per_fold * (i + 1), size - samples_per_fold * i)\n"
   ],
   "metadata": {
    "collapsed": false,
    "pycharm": {
     "name": "#%%\n"
    }
   }
  },
  {
   "cell_type": "code",
   "execution_count": 259,
   "outputs": [],
   "source": [
    "def validate_model(model, x, y, params, n_folds, samples_per_fold):\n",
    "    \"\"\"\n",
    "    Use GridSearchCV for a special model to find the best hyperparameters based on validation set\n",
    "    \"\"\"\n",
    "    grid_search = GridSearchCV(estimator=model,\n",
    "                               param_grid=params,\n",
    "                               scoring={\n",
    "                                   \"F1_Score\": make_scorer(f1_score, average='macro'),\n",
    "                                   \"Accuracy_Score\": make_scorer(accuracy_score),\n",
    "                               },\n",
    "                               refit=\"F1_Score\",\n",
    "                               n_jobs=-1,\n",
    "                               cv=folds_iterator(n_folds, samples_per_fold, x.shape[0]))\n",
    "    grid_search.fit(x, y.values.ravel())\n",
    "    best_index = grid_search.best_index_\n",
    "\n",
    "    return grid_search.best_estimator_,\\\n",
    "           grid_search.cv_results_[\"mean_test_F1_Score\"][best_index],\\\n",
    "           grid_search.cv_results_[\"mean_test_Accuracy_Score\"][best_index],\\\n",
    "           grid_search.best_params_"
   ],
   "metadata": {
    "collapsed": false,
    "pycharm": {
     "name": "#%%\n"
    }
   }
  },
  {
   "cell_type": "markdown",
   "source": [
    "#### Validate ML Models\n",
    "\n",
    "In this part we find the best ML model among RandomForestClassifier, DecisionTreeClassifier and SVM."
   ],
   "metadata": {
    "collapsed": false
   }
  },
  {
   "cell_type": "code",
   "execution_count": 260,
   "outputs": [],
   "source": [
    "def validate_ML_models(X, y, show_plots, debug_mode):\n",
    "    \"\"\"\n",
    "    Find the best model from defined list.\n",
    "    Tune each model on a validation set with GridSearchCV and\n",
    "    return best_model with its hyperparameters, which has the highest F1 score\n",
    "    \"\"\"\n",
    "    results_df = pd.DataFrame(columns=('Model_Name', 'F1_Score',\n",
    "                                       'Accuracy_Score',\n",
    "                                       'Model_Best_Params'))\n",
    "\n",
    "    config_models = [\n",
    "        {\n",
    "            'model_name': 'RandomForestClassifier',\n",
    "            'model': RandomForestClassifier(random_state=SEED),\n",
    "            'params': {\n",
    "                \"bootstrap\": [True, False],\n",
    "                \"max_depth\": [3, 4, 6, 10],\n",
    "                \"min_samples_split\": [2, 6],\n",
    "                \"min_samples_leaf\": [1, 2, 4],\n",
    "                \"n_estimators\": [200, 500, 1000],\n",
    "                \"max_features\": [0.6, 'auto', 'sqrt']\n",
    "            }\n",
    "        },\n",
    "        {\n",
    "            'model_name': 'DecisionTreeClassifier',\n",
    "            'model': DecisionTreeClassifier(random_state=SEED),\n",
    "            'params': {\n",
    "                \"max_depth\": [2, 3, 4, 6, 10],\n",
    "                \"min_samples_split\": [2, 6],\n",
    "                \"min_samples_leaf\": [1, 2, 4],\n",
    "                \"max_features\": [0.6, 'auto', 'sqrt'],\n",
    "                \"criterion\": [\"gini\", \"entropy\"]\n",
    "            }\n",
    "        },\n",
    "        {\n",
    "            'model_name': 'SVC',\n",
    "            'model': SVC(random_state=SEED),\n",
    "            'params': {\n",
    "                'C': [0.1, 1, 10, 100, 1000],\n",
    "                'gamma': [1, 0.1, 0.01, 0.001, 0.0001],\n",
    "                'kernel': ['rbf']\n",
    "            }\n",
    "        },\n",
    "    ]\n",
    "\n",
    "    best_f1_score = -np.Inf\n",
    "    best_model = None\n",
    "    best_model_name = 'No model'\n",
    "    best_params = None\n",
    "    idx = 0\n",
    "    for model_config in config_models:\n",
    "        cur_model, cur_f1_score, cur_accuracy, cur_params = validate_model(deepcopy(model_config['model']),\n",
    "                                                                    X, y, model_config['params'],\n",
    "                                                                    n_folds, samples_per_fold)\n",
    "        if debug_mode:\n",
    "            print('\\nModel name: ', model_config['model_name'])\n",
    "            print('Best model validation params: ')\n",
    "            pprint(cur_params)\n",
    "\n",
    "        results_df.loc[idx] = [model_config['model_name'],\n",
    "                               cur_f1_score,\n",
    "                               cur_accuracy,\n",
    "                               cur_params]\n",
    "        idx += 1\n",
    "\n",
    "        if cur_f1_score > best_f1_score:\n",
    "            best_f1_score = cur_f1_score\n",
    "            best_model_name = model_config['model_name']\n",
    "            best_model = cur_model\n",
    "            best_params = cur_params\n",
    "\n",
    "    return results_df, best_model, best_model_name, best_params"
   ],
   "metadata": {
    "collapsed": false,
    "pycharm": {
     "name": "#%%\n"
    }
   }
  },
  {
   "cell_type": "code",
   "execution_count": 261,
   "outputs": [
    {
     "name": "stdout",
     "output_type": "stream",
     "text": [
      "\n",
      "Model name:  RandomForestClassifier\n",
      "Best model validation params: \n",
      "{'bootstrap': True,\n",
      " 'max_depth': 4,\n",
      " 'max_features': 'auto',\n",
      " 'min_samples_leaf': 2,\n",
      " 'min_samples_split': 2,\n",
      " 'n_estimators': 200}\n",
      "\n",
      "Model name:  DecisionTreeClassifier\n",
      "Best model validation params: \n",
      "{'criterion': 'gini',\n",
      " 'max_depth': 3,\n",
      " 'max_features': 0.6,\n",
      " 'min_samples_leaf': 1,\n",
      " 'min_samples_split': 2}\n",
      "\n",
      "Model name:  SVC\n",
      "Best model validation params: \n",
      "{'C': 100, 'gamma': 0.001, 'kernel': 'rbf'}\n"
     ]
    }
   ],
   "source": [
    "ML_results_df, best_model, best_model_name, best_params = validate_ML_models(X_train, y_train, show_plots=False, debug_mode=True)"
   ],
   "metadata": {
    "collapsed": false,
    "pycharm": {
     "name": "#%%\n"
    }
   }
  },
  {
   "cell_type": "code",
   "execution_count": 262,
   "outputs": [
    {
     "data": {
      "text/plain": "               Model_Name  F1_Score  Accuracy_Score  \\\n0  RandomForestClassifier  0.731121        0.770563   \n1  DecisionTreeClassifier  0.694253        0.735931   \n2                     SVC  0.714156        0.757576   \n\n                                   Model_Best_Params  \n0  {'bootstrap': True, 'max_depth': 4, 'max_featu...  \n1  {'criterion': 'gini', 'max_depth': 3, 'max_fea...  \n2        {'C': 100, 'gamma': 0.001, 'kernel': 'rbf'}  ",
      "text/html": "<div>\n<style scoped>\n    .dataframe tbody tr th:only-of-type {\n        vertical-align: middle;\n    }\n\n    .dataframe tbody tr th {\n        vertical-align: top;\n    }\n\n    .dataframe thead th {\n        text-align: right;\n    }\n</style>\n<table border=\"1\" class=\"dataframe\">\n  <thead>\n    <tr style=\"text-align: right;\">\n      <th></th>\n      <th>Model_Name</th>\n      <th>F1_Score</th>\n      <th>Accuracy_Score</th>\n      <th>Model_Best_Params</th>\n    </tr>\n  </thead>\n  <tbody>\n    <tr>\n      <th>0</th>\n      <td>RandomForestClassifier</td>\n      <td>0.731121</td>\n      <td>0.770563</td>\n      <td>{'bootstrap': True, 'max_depth': 4, 'max_featu...</td>\n    </tr>\n    <tr>\n      <th>1</th>\n      <td>DecisionTreeClassifier</td>\n      <td>0.694253</td>\n      <td>0.735931</td>\n      <td>{'criterion': 'gini', 'max_depth': 3, 'max_fea...</td>\n    </tr>\n    <tr>\n      <th>2</th>\n      <td>SVC</td>\n      <td>0.714156</td>\n      <td>0.757576</td>\n      <td>{'C': 100, 'gamma': 0.001, 'kernel': 'rbf'}</td>\n    </tr>\n  </tbody>\n</table>\n</div>"
     },
     "execution_count": 262,
     "metadata": {},
     "output_type": "execute_result"
    }
   ],
   "source": [
    "ML_results_df"
   ],
   "metadata": {
    "collapsed": false,
    "pycharm": {
     "name": "#%%\n"
    }
   }
  },
  {
   "cell_type": "markdown",
   "source": [
    "<a id='section_3'></a>\n",
    "\n",
    "## Section 3. Test Set Evaluation"
   ],
   "metadata": {
    "collapsed": false
   }
  },
  {
   "cell_type": "code",
   "execution_count": 266,
   "outputs": [],
   "source": [
    "best_model.fit(X_train, y_train.values.ravel()) # refit model on the whole train set\n",
    "model_pred = best_model.predict(X_test)"
   ],
   "metadata": {
    "collapsed": false,
    "pycharm": {
     "name": "#%%\n"
    }
   }
  },
  {
   "cell_type": "code",
   "execution_count": 269,
   "outputs": [
    {
     "name": "stdout",
     "output_type": "stream",
     "text": [
      "Best model:  RandomForestClassifier\n",
      "Best model parameters:\n",
      "{'bootstrap': True,\n",
      " 'max_depth': 4,\n",
      " 'max_features': 'auto',\n",
      " 'min_samples_leaf': 2,\n",
      " 'min_samples_split': 2,\n",
      " 'n_estimators': 200}\n",
      "\n",
      "              precision    recall  f1-score   support\n",
      "\n",
      "           0      0.823     0.903     0.861       103\n",
      "           1      0.756     0.608     0.674        51\n",
      "\n",
      "    accuracy                          0.805       154\n",
      "   macro avg      0.790     0.755     0.768       154\n",
      "weighted avg      0.801     0.805     0.799       154\n",
      "\n"
     ]
    },
    {
     "data": {
      "text/plain": "<Figure size 1500x500 with 2 Axes>",
      "image/png": "[encoded data removed]"
     },
     "metadata": {},
     "output_type": "display_data"
    }
   ],
   "source": [
    "print('Best model: ', best_model_name)\n",
    "print('Best model parameters:')\n",
    "pprint(best_params)\n",
    "\n",
    "# print the scores\n",
    "print()\n",
    "print(classification_report(y_test, model_pred, digits=3))\n",
    "\n",
    "# plot the confusion matrix\n",
    "cm = confusion_matrix(y_test, model_pred, labels=best_model.classes_)\n",
    "disp = ConfusionMatrixDisplay(confusion_matrix=cm, display_labels=[\"ill\", \"Not ill\"])\n",
    "disp.plot()\n",
    "plt.show()"
   ],
   "metadata": {
    "collapsed": false,
    "pycharm": {
     "name": "#%%\n"
    }
   }
  },
  {
   "cell_type": "markdown",
   "source": [
    "### Retrain and save model"
   ],
   "metadata": {
    "collapsed": false,
    "pycharm": {
     "name": "#%% md\n"
    }
   }
  },
  {
   "cell_type": "code",
   "execution_count": 265,
   "outputs": [],
   "source": [
    "x = pd.concat((X_train, X_test))\n",
    "y = pd.concat((y_train, y_test))\n",
    "best_model.fit(x, y)\n",
    "\n",
    "models_path = \"models\"\n",
    "if not os.path.exists(models_path):\n",
    "    os.mkdir(models_path)\n",
    "pickle.dump(best_model, open(os.path.join(models_path, \"diabet_prediction_model.pkl\"), \"wb\"))"
   ],
   "metadata": {
    "collapsed": false,
    "pycharm": {
     "name": "#%%\n"
    }
   }
  }
 ],
 "metadata": {
  "kernelspec": {
   "display_name": "Python 3",
   "language": "python",
   "name": "python3"
  },
  "language_info": {
   "codemirror_mode": {
    "name": "ipython",
    "version": 2
   },
   "file_extension": ".py",
   "mimetype": "text/x-python",
   "name": "python",
   "nbconvert_exporter": "python",
   "pygments_lexer": "ipython2",
   "version": "2.7.6"
  }
 },
 "nbformat": 4,
 "nbformat_minor": 0
}
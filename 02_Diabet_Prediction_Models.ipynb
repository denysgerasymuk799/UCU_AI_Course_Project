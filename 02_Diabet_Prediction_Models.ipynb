{
 "cells": [
  {
   "cell_type": "markdown",
   "metadata": {
    "collapsed": true,
    "pycharm": {
     "name": "#%% md\n"
    }
   },
   "source": [
    "# Project title: Diabet Prediction [notebook 'Diabet_Prediction_Models']\n",
    "\n",
    "## Authors: Denys Herasymuk & Yaroslav Morozevych\n",
    "\n",
    "## Contents of This Notebook\n",
    "\n",
    "Click on the section and go to this cell immediately. (works only with Jupyter in browser)\n",
    "\n",
    "* [Section 1. Explore Data](#section_1)\n",
    "* [Section 2. Train and Validate Models](#section_2)\n",
    "* [Section 3. Test Set Evaluation](#section_3)\n",
    "\n",
    "When you use `Run All` button with this notebook, you should wait approx. 3-5 mins to get output of all cells.\n",
    "\n",
    "**How to run this notebook**\n",
    "\n",
    "* Create a new virtual env with python 3.8\n",
    "* In terminal run  -- `pip install -r requirements.txt`"
   ]
  },
  {
   "cell_type": "markdown",
   "source": [
    "## General Configuration"
   ],
   "metadata": {
    "collapsed": false
   }
  },
  {
   "cell_type": "code",
   "execution_count": 1,
   "outputs": [],
   "source": [
    "import os\n",
    "import sys\n",
    "import math\n",
    "import pickle\n",
    "import sklearn\n",
    "import itertools\n",
    "import matplotlib\n",
    "import numpy as np\n",
    "import pandas as pd\n",
    "import seaborn as sns\n",
    "import lightgbm as lgbm\n",
    "import matplotlib.pyplot as plt\n",
    "\n",
    "from pprint import pprint\n",
    "from copy import deepcopy\n",
    "from sklearn.svm import SVC\n",
    "from sklearn.metrics import make_scorer, accuracy_score, f1_score, precision_score, recall_score\n",
    "from sklearn.metrics import confusion_matrix, ConfusionMatrixDisplay, classification_report\n",
    "from sklearn.model_selection import train_test_split, GridSearchCV\n",
    "from sklearn.ensemble import RandomForestClassifier\n",
    "from sklearn.tree import DecisionTreeClassifier\n",
    "from xgboost import XGBClassifier\n",
    "from sklearn.neural_network import MLPClassifier\n",
    "from tensorflow.keras.models import Sequential\n",
    "from tensorflow.keras.layers import Dense\n",
    "\n",
    "from utils import scale_normalize"
   ],
   "metadata": {
    "collapsed": false,
    "pycharm": {
     "name": "#%%\n"
    }
   }
  },
  {
   "cell_type": "code",
   "execution_count": 2,
   "outputs": [],
   "source": [
    "%matplotlib inline\n",
    "\n",
    "plt.style.use('mpl20')\n",
    "matplotlib.rcParams['figure.dpi'] = 100\n",
    "matplotlib.rcParams['figure.figsize'] = 15, 5\n",
    "\n",
    "# import warnings\n",
    "# warnings.filterwarnings('ignore')"
   ],
   "metadata": {
    "collapsed": false,
    "pycharm": {
     "name": "#%%\n"
    }
   }
  },
  {
   "cell_type": "markdown",
   "source": [
    "## Python & Library Versions"
   ],
   "metadata": {
    "collapsed": false
   }
  },
  {
   "cell_type": "code",
   "execution_count": 3,
   "outputs": [
    {
     "name": "stdout",
     "output_type": "stream",
     "text": [
      "3.8.12 (default, Oct 12 2021, 13:49:34) \n",
      "[GCC 7.5.0] \n",
      "\n",
      "library    version\n",
      "------------------\n",
      "matplotlib  3.5.1\n",
      "numpy       1.19.2\n",
      "pandas      1.3.5\n",
      "seaborn     0.11.2\n",
      "sklearn     1.0.1\n"
     ]
    }
   ],
   "source": [
    "versions = ( (\"matplotlib\", matplotlib.__version__),\n",
    "             (\"numpy\", np.__version__),\n",
    "             (\"pandas\", pd.__version__),\n",
    "             (\"seaborn\", sns.__version__),\n",
    "             (\"sklearn\", sklearn.__version__),\n",
    "             )\n",
    "\n",
    "print(sys.version, \"\\n\")\n",
    "print(\"library\" + \" \" * 4 + \"version\")\n",
    "print(\"-\" * 18)\n",
    "\n",
    "for tup1, tup2 in versions:\n",
    "    print(\"{:11} {}\".format(tup1, tup2))"
   ],
   "metadata": {
    "collapsed": false,
    "pycharm": {
     "name": "#%%\n"
    }
   }
  },
  {
   "cell_type": "markdown",
   "source": [
    "<a id='section_1'></a>\n",
    "\n",
    "## Section 1. Explore Data"
   ],
   "metadata": {
    "collapsed": false
   }
  },
  {
   "cell_type": "code",
   "execution_count": 4,
   "outputs": [],
   "source": [
    "# diabetes_df = pd.read_csv(os.path.join(\".\", \"data\", \"diabetes_processed.csv\"))\n",
    "diabetes_df = pd.read_csv(os.path.join(\".\", \"data\", \"diabetes_cleaned.csv\"))\n",
    "diabetes_df = diabetes_df.iloc[: , 1:] # Drop first column of dataframe"
   ],
   "metadata": {
    "collapsed": false,
    "pycharm": {
     "name": "#%%\n"
    }
   }
  },
  {
   "cell_type": "code",
   "execution_count": 5,
   "outputs": [
    {
     "data": {
      "text/plain": "   Pregnancies  Glucose  SkinThickness  Insulin   BMI  \\\n0            6      148             35        0  33.6   \n1            1       85             29        0  26.6   \n2            1       89             23       94  28.1   \n3            0      137             35      168  43.1   \n4            3       78             32       88  31.0   \n\n   DiabetesPedigreeFunction  Age  DiabetesRisk  Outcome  \n0                     0.627   50         1.880        1  \n1                     0.351   31         0.882        0  \n2                     0.167   21         0.240        0  \n3                     2.288   33         1.870        1  \n4                     0.248   26         0.240        1  ",
      "text/html": "<div>\n<style scoped>\n    .dataframe tbody tr th:only-of-type {\n        vertical-align: middle;\n    }\n\n    .dataframe tbody tr th {\n        vertical-align: top;\n    }\n\n    .dataframe thead th {\n        text-align: right;\n    }\n</style>\n<table border=\"1\" class=\"dataframe\">\n  <thead>\n    <tr style=\"text-align: right;\">\n      <th></th>\n      <th>Pregnancies</th>\n      <th>Glucose</th>\n      <th>SkinThickness</th>\n      <th>Insulin</th>\n      <th>BMI</th>\n      <th>DiabetesPedigreeFunction</th>\n      <th>Age</th>\n      <th>DiabetesRisk</th>\n      <th>Outcome</th>\n    </tr>\n  </thead>\n  <tbody>\n    <tr>\n      <th>0</th>\n      <td>6</td>\n      <td>148</td>\n      <td>35</td>\n      <td>0</td>\n      <td>33.6</td>\n      <td>0.627</td>\n      <td>50</td>\n      <td>1.880</td>\n      <td>1</td>\n    </tr>\n    <tr>\n      <th>1</th>\n      <td>1</td>\n      <td>85</td>\n      <td>29</td>\n      <td>0</td>\n      <td>26.6</td>\n      <td>0.351</td>\n      <td>31</td>\n      <td>0.882</td>\n      <td>0</td>\n    </tr>\n    <tr>\n      <th>2</th>\n      <td>1</td>\n      <td>89</td>\n      <td>23</td>\n      <td>94</td>\n      <td>28.1</td>\n      <td>0.167</td>\n      <td>21</td>\n      <td>0.240</td>\n      <td>0</td>\n    </tr>\n    <tr>\n      <th>3</th>\n      <td>0</td>\n      <td>137</td>\n      <td>35</td>\n      <td>168</td>\n      <td>43.1</td>\n      <td>2.288</td>\n      <td>33</td>\n      <td>1.870</td>\n      <td>1</td>\n    </tr>\n    <tr>\n      <th>4</th>\n      <td>3</td>\n      <td>78</td>\n      <td>32</td>\n      <td>88</td>\n      <td>31.0</td>\n      <td>0.248</td>\n      <td>26</td>\n      <td>0.240</td>\n      <td>1</td>\n    </tr>\n  </tbody>\n</table>\n</div>"
     },
     "execution_count": 5,
     "metadata": {},
     "output_type": "execute_result"
    }
   ],
   "source": [
    "diabetes_df.head()"
   ],
   "metadata": {
    "collapsed": false,
    "pycharm": {
     "name": "#%%\n"
    }
   }
  },
  {
   "cell_type": "markdown",
   "source": [
    "### Validate Data"
   ],
   "metadata": {
    "collapsed": false
   }
  },
  {
   "cell_type": "code",
   "execution_count": 6,
   "outputs": [
    {
     "data": {
      "text/plain": "       Pregnancies     Glucose  SkinThickness     Insulin         BMI  \\\ncount   537.000000  537.000000     537.000000  537.000000  537.000000   \nmean      3.510242  119.903166      29.186220  113.960894   32.890130   \nstd       3.304281   32.975142      10.505807  122.894735    6.875842   \nmin       0.000000    0.000000       7.000000    0.000000   18.200000   \n25%       1.000000   97.000000      22.000000    0.000000   27.800000   \n50%       2.000000  115.000000      29.000000   90.000000   32.800000   \n75%       5.000000  141.000000      36.000000  165.000000   36.900000   \nmax      17.000000  199.000000      99.000000  846.000000   67.100000   \n\n       DiabetesPedigreeFunction         Age  DiabetesRisk     Outcome  \ncount                537.000000  537.000000    537.000000  537.000000  \nmean                   0.501823   31.586592      0.957773    0.333333  \nstd                    0.343643   10.747286      0.528672    0.471844  \nmin                    0.085000   21.000000      0.000000    0.000000  \n25%                    0.259000   23.000000      0.552000    0.000000  \n50%                    0.415000   28.000000      0.878000    0.000000  \n75%                    0.658000   38.000000      1.328000    1.000000  \nmax                    2.420000   81.000000      2.110000    1.000000  ",
      "text/html": "<div>\n<style scoped>\n    .dataframe tbody tr th:only-of-type {\n        vertical-align: middle;\n    }\n\n    .dataframe tbody tr th {\n        vertical-align: top;\n    }\n\n    .dataframe thead th {\n        text-align: right;\n    }\n</style>\n<table border=\"1\" class=\"dataframe\">\n  <thead>\n    <tr style=\"text-align: right;\">\n      <th></th>\n      <th>Pregnancies</th>\n      <th>Glucose</th>\n      <th>SkinThickness</th>\n      <th>Insulin</th>\n      <th>BMI</th>\n      <th>DiabetesPedigreeFunction</th>\n      <th>Age</th>\n      <th>DiabetesRisk</th>\n      <th>Outcome</th>\n    </tr>\n  </thead>\n  <tbody>\n    <tr>\n      <th>count</th>\n      <td>537.000000</td>\n      <td>537.000000</td>\n      <td>537.000000</td>\n      <td>537.000000</td>\n      <td>537.000000</td>\n      <td>537.000000</td>\n      <td>537.000000</td>\n      <td>537.000000</td>\n      <td>537.000000</td>\n    </tr>\n    <tr>\n      <th>mean</th>\n      <td>3.510242</td>\n      <td>119.903166</td>\n      <td>29.186220</td>\n      <td>113.960894</td>\n      <td>32.890130</td>\n      <td>0.501823</td>\n      <td>31.586592</td>\n      <td>0.957773</td>\n      <td>0.333333</td>\n    </tr>\n    <tr>\n      <th>std</th>\n      <td>3.304281</td>\n      <td>32.975142</td>\n      <td>10.505807</td>\n      <td>122.894735</td>\n      <td>6.875842</td>\n      <td>0.343643</td>\n      <td>10.747286</td>\n      <td>0.528672</td>\n      <td>0.471844</td>\n    </tr>\n    <tr>\n      <th>min</th>\n      <td>0.000000</td>\n      <td>0.000000</td>\n      <td>7.000000</td>\n      <td>0.000000</td>\n      <td>18.200000</td>\n      <td>0.085000</td>\n      <td>21.000000</td>\n      <td>0.000000</td>\n      <td>0.000000</td>\n    </tr>\n    <tr>\n      <th>25%</th>\n      <td>1.000000</td>\n      <td>97.000000</td>\n      <td>22.000000</td>\n      <td>0.000000</td>\n      <td>27.800000</td>\n      <td>0.259000</td>\n      <td>23.000000</td>\n      <td>0.552000</td>\n      <td>0.000000</td>\n    </tr>\n    <tr>\n      <th>50%</th>\n      <td>2.000000</td>\n      <td>115.000000</td>\n      <td>29.000000</td>\n      <td>90.000000</td>\n      <td>32.800000</td>\n      <td>0.415000</td>\n      <td>28.000000</td>\n      <td>0.878000</td>\n      <td>0.000000</td>\n    </tr>\n    <tr>\n      <th>75%</th>\n      <td>5.000000</td>\n      <td>141.000000</td>\n      <td>36.000000</td>\n      <td>165.000000</td>\n      <td>36.900000</td>\n      <td>0.658000</td>\n      <td>38.000000</td>\n      <td>1.328000</td>\n      <td>1.000000</td>\n    </tr>\n    <tr>\n      <th>max</th>\n      <td>17.000000</td>\n      <td>199.000000</td>\n      <td>99.000000</td>\n      <td>846.000000</td>\n      <td>67.100000</td>\n      <td>2.420000</td>\n      <td>81.000000</td>\n      <td>2.110000</td>\n      <td>1.000000</td>\n    </tr>\n  </tbody>\n</table>\n</div>"
     },
     "execution_count": 6,
     "metadata": {},
     "output_type": "execute_result"
    }
   ],
   "source": [
    "diabetes_df.describe()"
   ],
   "metadata": {
    "collapsed": false,
    "pycharm": {
     "name": "#%%\n"
    }
   }
  },
  {
   "cell_type": "code",
   "execution_count": 7,
   "outputs": [
    {
     "data": {
      "text/plain": "Pregnancies                 0\nGlucose                     0\nSkinThickness               0\nInsulin                     0\nBMI                         0\nDiabetesPedigreeFunction    0\nAge                         0\nDiabetesRisk                0\nOutcome                     0\ndtype: int64"
     },
     "execution_count": 7,
     "metadata": {},
     "output_type": "execute_result"
    }
   ],
   "source": [
    "diabetes_df.isnull().sum()"
   ],
   "metadata": {
    "collapsed": false,
    "pycharm": {
     "name": "#%%\n"
    }
   }
  },
  {
   "cell_type": "code",
   "execution_count": 8,
   "outputs": [
    {
     "name": "stdout",
     "output_type": "stream",
     "text": [
      "Duplicate rows :\n"
     ]
    },
    {
     "data": {
      "text/plain": "Empty DataFrame\nColumns: [Pregnancies, Glucose, SkinThickness, Insulin, BMI, DiabetesPedigreeFunction, Age, DiabetesRisk, Outcome]\nIndex: []",
      "text/html": "<div>\n<style scoped>\n    .dataframe tbody tr th:only-of-type {\n        vertical-align: middle;\n    }\n\n    .dataframe tbody tr th {\n        vertical-align: top;\n    }\n\n    .dataframe thead th {\n        text-align: right;\n    }\n</style>\n<table border=\"1\" class=\"dataframe\">\n  <thead>\n    <tr style=\"text-align: right;\">\n      <th></th>\n      <th>Pregnancies</th>\n      <th>Glucose</th>\n      <th>SkinThickness</th>\n      <th>Insulin</th>\n      <th>BMI</th>\n      <th>DiabetesPedigreeFunction</th>\n      <th>Age</th>\n      <th>DiabetesRisk</th>\n      <th>Outcome</th>\n    </tr>\n  </thead>\n  <tbody>\n  </tbody>\n</table>\n</div>"
     },
     "execution_count": 8,
     "metadata": {},
     "output_type": "execute_result"
    }
   ],
   "source": [
    "# Selecting duplicate rows except first.\n",
    "# Occurrence based on all columns\n",
    "duplicates = diabetes_df[diabetes_df.duplicated()]\n",
    "\n",
    "print(\"Duplicate rows :\")\n",
    "duplicates"
   ],
   "metadata": {
    "collapsed": false,
    "pycharm": {
     "name": "#%%\n"
    }
   }
  },
  {
   "cell_type": "markdown",
   "source": [
    "<a id='section_2'></a>\n",
    "\n",
    "## Section 2. Train and Validate Models"
   ],
   "metadata": {
    "collapsed": false
   }
  },
  {
   "cell_type": "markdown",
   "source": [
    "### Prepare Data"
   ],
   "metadata": {
    "collapsed": false
   }
  },
  {
   "cell_type": "code",
   "execution_count": 9,
   "outputs": [],
   "source": [
    "# choose the most relevant features based on data analysis in 01_Process_Data_and_EDA.ipynb\n",
    "features = [\"Pregnancies\", \"Glucose\", \"Insulin\", \"BMI\", \"DiabetesPedigreeFunction\", \"Age\", \"DiabetesRisk\", \"Outcome\"]\n",
    "scaled_df = scale_normalize(df=diabetes_df, features=features)"
   ],
   "metadata": {
    "collapsed": false,
    "pycharm": {
     "name": "#%%\n"
    }
   }
  },
  {
   "cell_type": "code",
   "execution_count": 10,
   "outputs": [],
   "source": [
    "# separate the dataframe onto features and target\n",
    "features_df = scaled_df.drop(\"Outcome\", axis=\"columns\")\n",
    "target_df = diabetes_df[['Outcome']]"
   ],
   "metadata": {
    "collapsed": false,
    "pycharm": {
     "name": "#%%\n"
    }
   }
  },
  {
   "cell_type": "code",
   "execution_count": 11,
   "outputs": [
    {
     "data": {
      "text/plain": "       Pregnancies     Glucose     Insulin         BMI  \\\ncount   429.000000  429.000000  429.000000  429.000000   \nmean      0.026907   -0.015174   -0.000175   -0.023233   \nstd       1.018347    0.969375    0.982606    0.981235   \nmin      -1.063322   -3.639559   -0.928170   -2.138477   \n25%      -0.760402   -0.664852   -0.928170   -0.740982   \n50%      -0.457482   -0.179186   -0.178863   -0.013120   \n75%       0.754197    0.610022    0.431984    0.569169   \nmax       4.086316    2.400917    5.131437    3.553402   \n\n       DiabetesPedigreeFunction         Age  DiabetesRisk  \ncount                429.000000  429.000000    429.000000  \nmean                   0.003571    0.010063      0.005302  \nstd                    0.990420    1.000519      1.002535  \nmin                   -1.214084   -0.985966     -1.813348  \n25%                   -0.716011   -0.706566     -0.768248  \n50%                   -0.247065   -0.334032     -0.151034  \n75%                    0.498588    0.597303      0.700950  \nmax                    5.322033    4.602044      2.181508  ",
      "text/html": "<div>\n<style scoped>\n    .dataframe tbody tr th:only-of-type {\n        vertical-align: middle;\n    }\n\n    .dataframe tbody tr th {\n        vertical-align: top;\n    }\n\n    .dataframe thead th {\n        text-align: right;\n    }\n</style>\n<table border=\"1\" class=\"dataframe\">\n  <thead>\n    <tr style=\"text-align: right;\">\n      <th></th>\n      <th>Pregnancies</th>\n      <th>Glucose</th>\n      <th>Insulin</th>\n      <th>BMI</th>\n      <th>DiabetesPedigreeFunction</th>\n      <th>Age</th>\n      <th>DiabetesRisk</th>\n    </tr>\n  </thead>\n  <tbody>\n    <tr>\n      <th>count</th>\n      <td>429.000000</td>\n      <td>429.000000</td>\n      <td>429.000000</td>\n      <td>429.000000</td>\n      <td>429.000000</td>\n      <td>429.000000</td>\n      <td>429.000000</td>\n    </tr>\n    <tr>\n      <th>mean</th>\n      <td>0.026907</td>\n      <td>-0.015174</td>\n      <td>-0.000175</td>\n      <td>-0.023233</td>\n      <td>0.003571</td>\n      <td>0.010063</td>\n      <td>0.005302</td>\n    </tr>\n    <tr>\n      <th>std</th>\n      <td>1.018347</td>\n      <td>0.969375</td>\n      <td>0.982606</td>\n      <td>0.981235</td>\n      <td>0.990420</td>\n      <td>1.000519</td>\n      <td>1.002535</td>\n    </tr>\n    <tr>\n      <th>min</th>\n      <td>-1.063322</td>\n      <td>-3.639559</td>\n      <td>-0.928170</td>\n      <td>-2.138477</td>\n      <td>-1.214084</td>\n      <td>-0.985966</td>\n      <td>-1.813348</td>\n    </tr>\n    <tr>\n      <th>25%</th>\n      <td>-0.760402</td>\n      <td>-0.664852</td>\n      <td>-0.928170</td>\n      <td>-0.740982</td>\n      <td>-0.716011</td>\n      <td>-0.706566</td>\n      <td>-0.768248</td>\n    </tr>\n    <tr>\n      <th>50%</th>\n      <td>-0.457482</td>\n      <td>-0.179186</td>\n      <td>-0.178863</td>\n      <td>-0.013120</td>\n      <td>-0.247065</td>\n      <td>-0.334032</td>\n      <td>-0.151034</td>\n    </tr>\n    <tr>\n      <th>75%</th>\n      <td>0.754197</td>\n      <td>0.610022</td>\n      <td>0.431984</td>\n      <td>0.569169</td>\n      <td>0.498588</td>\n      <td>0.597303</td>\n      <td>0.700950</td>\n    </tr>\n    <tr>\n      <th>max</th>\n      <td>4.086316</td>\n      <td>2.400917</td>\n      <td>5.131437</td>\n      <td>3.553402</td>\n      <td>5.322033</td>\n      <td>4.602044</td>\n      <td>2.181508</td>\n    </tr>\n  </tbody>\n</table>\n</div>"
     },
     "execution_count": 11,
     "metadata": {},
     "output_type": "execute_result"
    }
   ],
   "source": [
    "SEED = 25\n",
    "n_folds = 3\n",
    "\n",
    "# split the data on test and train\n",
    "X_train, X_test, y_train, y_test = train_test_split(features_df, target_df, test_size=0.2, random_state=SEED)\n",
    "samples_per_fold = len(y_test)\n",
    "X_train.describe()"
   ],
   "metadata": {
    "collapsed": false,
    "pycharm": {
     "name": "#%%\n"
    }
   }
  },
  {
   "cell_type": "markdown",
   "source": [
    "### Random over-sampling with imblearn"
   ],
   "metadata": {
    "collapsed": false
   }
  },
  {
   "cell_type": "code",
   "execution_count": 12,
   "outputs": [
    {
     "data": {
      "text/plain": "Outcome\n0          358\n1          179\ndtype: int64"
     },
     "execution_count": 12,
     "metadata": {},
     "output_type": "execute_result"
    }
   ],
   "source": [
    "target_df.value_counts()"
   ],
   "metadata": {
    "collapsed": false,
    "pycharm": {
     "name": "#%%\n"
    }
   }
  },
  {
   "cell_type": "code",
   "execution_count": 13,
   "outputs": [
    {
     "data": {
      "text/plain": "Outcome\n0          291\n1          138\ndtype: int64"
     },
     "execution_count": 13,
     "metadata": {},
     "output_type": "execute_result"
    }
   ],
   "source": [
    "y_train.value_counts()"
   ],
   "metadata": {
    "collapsed": false,
    "pycharm": {
     "name": "#%%\n"
    }
   }
  },
  {
   "cell_type": "code",
   "execution_count": 14,
   "outputs": [
    {
     "name": "stdout",
     "output_type": "stream",
     "text": [
      "Original dataset shape 429\n",
      "Resample dataset shape 582\n"
     ]
    },
    {
     "data": {
      "text/plain": "Outcome\n0          291\n1          291\ndtype: int64"
     },
     "execution_count": 14,
     "metadata": {},
     "output_type": "execute_result"
    }
   ],
   "source": [
    "from imblearn.over_sampling import RandomOverSampler\n",
    "\n",
    "ros = RandomOverSampler(random_state=SEED)\n",
    "\n",
    "# fit predictor and target variable\n",
    "# x_ros, y_ros = ros.fit_resample(features_df, target_df)\n",
    "ros_X_train, ros_y_train = ros.fit_resample(X_train, y_train)\n",
    "\n",
    "print('Original dataset shape', len(y_train))\n",
    "print('Resample dataset shape', len(ros_y_train))\n",
    "ros_y_train.value_counts()"
   ],
   "metadata": {
    "collapsed": false,
    "pycharm": {
     "name": "#%%\n"
    }
   }
  },
  {
   "cell_type": "code",
   "execution_count": 15,
   "outputs": [],
   "source": [
    "# ros_X_train, ros_X_test, ros_y_train, ros_y_test = train_test_split(x_ros, y_ros, test_size=0.2, random_state=SEED)"
   ],
   "metadata": {
    "collapsed": false,
    "pycharm": {
     "name": "#%%\n"
    }
   }
  },
  {
   "cell_type": "markdown",
   "source": [
    "### Synthetic Minority Oversampling Technique (SMOTE)"
   ],
   "metadata": {
    "collapsed": false
   }
  },
  {
   "cell_type": "code",
   "execution_count": 16,
   "outputs": [
    {
     "name": "stdout",
     "output_type": "stream",
     "text": [
      "Original dataset shape 429\n",
      "Resample dataset shape 582\n"
     ]
    },
    {
     "data": {
      "text/plain": "Outcome\n0          291\n1          291\ndtype: int64"
     },
     "execution_count": 16,
     "metadata": {},
     "output_type": "execute_result"
    }
   ],
   "source": [
    "from imblearn.over_sampling import SMOTE\n",
    "\n",
    "smote = SMOTE(random_state=SEED)\n",
    "\n",
    "# fit predictor and target variable\n",
    "# x_smote, y_smote = smote.fit_resample(features_df, target_df)\n",
    "smote_X_train, smote_y_train = smote.fit_resample(X_train, y_train)\n",
    "\n",
    "print('Original dataset shape', len(y_train))\n",
    "print('Resample dataset shape', len(smote_y_train))\n",
    "smote_y_train.value_counts()\n",
    "# smote_X_train, smote_X_test, smote_y_train, smote_y_test = train_test_split(x_smote, y_smote, test_size=0.2, random_state=SEED)"
   ],
   "metadata": {
    "collapsed": false,
    "pycharm": {
     "name": "#%%\n"
    }
   }
  },
  {
   "cell_type": "markdown",
   "source": [
    "### Train and Validation"
   ],
   "metadata": {
    "collapsed": false
   }
  },
  {
   "cell_type": "code",
   "execution_count": 122,
   "outputs": [],
   "source": [
    "best_results_df = pd.DataFrame(columns=('Dataset_Name', 'Model_Name', 'F1_Score',\n",
    "                                   'Accuracy_Score',\n",
    "                                   'Model_Best_Params', 'Model_Pred'))"
   ],
   "metadata": {
    "collapsed": false,
    "pycharm": {
     "name": "#%%\n"
    }
   }
  },
  {
   "cell_type": "code",
   "execution_count": 123,
   "outputs": [],
   "source": [
    "def folds_iterator(n_folds, samples_per_fold, size):\n",
    "    \"\"\"\n",
    "    Iterator for GridSearch based on Cross-Validation\n",
    "\n",
    "    :param n_folds: number of folds for Cross-Validation\n",
    "    :param samples_per_fold: number of samples per fold\n",
    "    \"\"\"\n",
    "    for i in range(n_folds):\n",
    "        yield np.arange(0, size - samples_per_fold * (i + 1)), \\\n",
    "              np.arange(size - samples_per_fold * (i + 1), size - samples_per_fold * i)\n"
   ],
   "metadata": {
    "collapsed": false,
    "pycharm": {
     "name": "#%%\n"
    }
   }
  },
  {
   "cell_type": "code",
   "execution_count": 124,
   "outputs": [],
   "source": [
    "def validate_model(model, x, y, params, n_folds, samples_per_fold):\n",
    "    \"\"\"\n",
    "    Use GridSearchCV for a special model to find the best hyperparameters based on validation set\n",
    "    \"\"\"\n",
    "    grid_search = GridSearchCV(estimator=model,\n",
    "                               param_grid=params,\n",
    "                               scoring={\n",
    "                                   \"F1_Score\": make_scorer(f1_score, average='macro'),\n",
    "                                   \"Accuracy_Score\": make_scorer(accuracy_score),\n",
    "                               },\n",
    "                               refit=\"F1_Score\",\n",
    "                               n_jobs=-1,\n",
    "                               cv=folds_iterator(n_folds, samples_per_fold, x.shape[0]))\n",
    "    grid_search.fit(x, y.values.ravel())\n",
    "    best_index = grid_search.best_index_\n",
    "\n",
    "    return grid_search.best_estimator_,\\\n",
    "           grid_search.cv_results_[\"mean_test_F1_Score\"][best_index],\\\n",
    "           grid_search.cv_results_[\"mean_test_Accuracy_Score\"][best_index],\\\n",
    "           grid_search.best_params_\n",
    "\n",
    "\n",
    "def test_evaluation(cur_best_model, model_name, cur_best_params,\n",
    "                    cur_x_train, cur_y_train, cur_x_test, cur_y_test,\n",
    "                    dataset_title, show_plots, debug_mode):\n",
    "    cur_best_model.fit(cur_x_train, cur_y_train.values.ravel()) # refit model on the whole train set\n",
    "    cur_model_pred = cur_best_model.predict(cur_x_test)\n",
    "    test_f1_score = f1_score(cur_y_test, cur_model_pred, average='macro')\n",
    "    test_accuracy = accuracy_score(cur_y_test, cur_model_pred)\n",
    "\n",
    "    if debug_mode:\n",
    "        print(\"#\" * 20, f' {dataset_title} ', \"#\" * 20)\n",
    "        print('Test model: ', model_name)\n",
    "        print('Test model parameters:')\n",
    "        pprint(cur_best_params)\n",
    "\n",
    "        # print the scores\n",
    "        print()\n",
    "        print(classification_report(cur_y_test, cur_model_pred, digits=3))\n",
    "\n",
    "        if show_plots:\n",
    "            # plot the confusion matrix\n",
    "            cm = confusion_matrix(cur_y_test, cur_model_pred, labels=cur_best_model.classes_)\n",
    "            disp = ConfusionMatrixDisplay(confusion_matrix=cm, display_labels=[\"ill\", \"Not ill\"])\n",
    "            disp.plot()\n",
    "            plt.show()\n",
    "    return test_f1_score, test_accuracy, cur_model_pred\n"
   ],
   "metadata": {
    "collapsed": false,
    "pycharm": {
     "name": "#%%\n"
    }
   }
  },
  {
   "cell_type": "markdown",
   "source": [
    "#### Validate ML Models\n",
    "\n",
    "In this part we find the best ML model among RandomForestClassifier, DecisionTreeClassifier and SVM."
   ],
   "metadata": {
    "collapsed": false
   }
  },
  {
   "cell_type": "code",
   "execution_count": 125,
   "outputs": [],
   "source": [
    "def test_ML_models(best_results_df, X_train, y_train, X_test, y_test, dataset_title, show_plots, debug_mode):\n",
    "    \"\"\"\n",
    "    Find the best model from defined list.\n",
    "    Tune each model on a validation set with GridSearchCV and\n",
    "    return best_model with its hyperparameters, which has the highest F1 score\n",
    "    \"\"\"\n",
    "    results_df = pd.DataFrame(columns=('Dataset_Name', 'Model_Name', 'F1_Score',\n",
    "                                       'Accuracy_Score',\n",
    "                                       'Model_Best_Params'))\n",
    "\n",
    "    config_models = [\n",
    "        {\n",
    "            'model_name': 'RandomForestClassifier',\n",
    "            'model': RandomForestClassifier(random_state=SEED),\n",
    "            'params': {\n",
    "                \"bootstrap\": [True, False],\n",
    "                \"max_depth\": [3, 4, 6, 10],\n",
    "                \"min_samples_split\": [2, 6],\n",
    "                \"min_samples_leaf\": [1, 2, 4],\n",
    "                \"n_estimators\": [5 * i for i in range(1, 7)],\n",
    "                \"max_features\": [0.6, 'auto', 'sqrt']\n",
    "            }\n",
    "        },\n",
    "        {\n",
    "            'model_name': 'DecisionTreeClassifier',\n",
    "            'model': DecisionTreeClassifier(random_state=SEED),\n",
    "            'params': {\n",
    "                \"max_depth\": [2, 3, 4, 6, 10],\n",
    "                \"min_samples_split\": [2, 6],\n",
    "                \"min_samples_leaf\": [1, 2, 4],\n",
    "                \"max_features\": [0.6, 'auto', 'sqrt'],\n",
    "                \"criterion\": [\"gini\", \"entropy\"]\n",
    "            }\n",
    "        },\n",
    "        {\n",
    "            'model_name': 'SVC',\n",
    "            'model': SVC(random_state=SEED),\n",
    "            'params': {\n",
    "                'C': [0.1, 1, 10, 100, 1000],\n",
    "                'gamma': [1, 0.1, 0.01, 0.001, 0.0001],\n",
    "                'kernel': ['rbf'],\n",
    "                # 'class_weight': ['balanced'], # shown bad performance\n",
    "            }\n",
    "        },\n",
    "\n",
    "        # For XGBoost parameters tuning we used this article --\n",
    "        # https://www.analyticsvidhya.com/blog/2016/03/complete-guide-parameter-tuning-xgboost-with-codes-python/\n",
    "        #\n",
    "        # For faster running this notebook we left only the best combination of parameters,\n",
    "        # but for experiments e used next ones:\n",
    "        # 'params': {\n",
    "        #     'learning_rate': [0.1],\n",
    "        #     'n_estimators': [100],\n",
    "        #     'max_depth': range(3,10,2),\n",
    "        #     'min_child_weight': range(1,6,2),\n",
    "        #     'gamma': [i/10.0 for i in range(0,5)],\n",
    "        #     'objective':  ['binary:logistic'],\n",
    "        #     'nthread': [8]\n",
    "        # }\n",
    "        #\n",
    "        {\n",
    "            'model_name': 'XGBClassifier',\n",
    "            'model': XGBClassifier(random_state=SEED),\n",
    "            'params': {\n",
    "                'learning_rate': [0.1],\n",
    "                'n_estimators': [100],\n",
    "                'max_depth': [4],\n",
    "                'min_child_weight': [1],\n",
    "                'gamma': [0.3],\n",
    "                'objective':  ['binary:logistic'],\n",
    "                'nthread': [8]\n",
    "            }\n",
    "        },\n",
    "    ]\n",
    "\n",
    "    best_f1_score = -np.Inf\n",
    "    best_accuracy = -np.Inf\n",
    "    best_model_pred = []\n",
    "    best_model_name = 'No model'\n",
    "    best_params = None\n",
    "    idx = 0\n",
    "    for model_config in config_models:\n",
    "        cur_model, cur_f1_score, cur_accuracy, cur_params = validate_model(deepcopy(model_config['model']),\n",
    "                                                                    X_train, y_train, model_config['params'],\n",
    "                                                                    n_folds, samples_per_fold)\n",
    "\n",
    "        test_f1_score, test_accuracy, cur_model_pred = test_evaluation(cur_model, model_config['model_name'], cur_params,\n",
    "                                                       X_train, y_train, X_test, y_test, dataset_title, show_plots, debug_mode)\n",
    "        results_df.loc[idx] = [dataset_title,\n",
    "                               model_config['model_name'],\n",
    "                               test_f1_score,\n",
    "                               test_accuracy,\n",
    "                               cur_params]\n",
    "        idx += 1\n",
    "\n",
    "        if test_f1_score > best_f1_score:\n",
    "            best_f1_score = test_f1_score\n",
    "            best_accuracy = test_accuracy\n",
    "            best_model_name = model_config['model_name']\n",
    "            best_params = cur_params\n",
    "            best_model_pred = cur_model_pred\n",
    "\n",
    "    best_results_df.loc[best_results_df.shape[0]] = [dataset_title,\n",
    "                                                     best_model_name,\n",
    "                                                     best_f1_score,\n",
    "                                                     best_accuracy,\n",
    "                                                     best_params,\n",
    "                                                     best_model_pred]\n",
    "\n",
    "    return results_df"
   ],
   "metadata": {
    "collapsed": false,
    "pycharm": {
     "name": "#%%\n"
    }
   }
  },
  {
   "cell_type": "code",
   "execution_count": 126,
   "outputs": [
    {
     "name": "stdout",
     "output_type": "stream",
     "text": [
      "####################  Original Dataset  ####################\n",
      "Test model:  RandomForestClassifier\n",
      "Test model parameters:\n",
      "{'bootstrap': False,\n",
      " 'max_depth': 3,\n",
      " 'max_features': 'auto',\n",
      " 'min_samples_leaf': 2,\n",
      " 'min_samples_split': 6,\n",
      " 'n_estimators': 10}\n",
      "\n",
      "              precision    recall  f1-score   support\n",
      "\n",
      "           0      0.797     0.940     0.863        67\n",
      "           1      0.862     0.610     0.714        41\n",
      "\n",
      "    accuracy                          0.815       108\n",
      "   macro avg      0.830     0.775     0.789       108\n",
      "weighted avg      0.822     0.815     0.807       108\n",
      "\n"
     ]
    },
    {
     "data": {
      "text/plain": "<Figure size 1500x500 with 2 Axes>",
      "image/png": "[encoded data removed]"
     },
     "metadata": {},
     "output_type": "display_data"
    },
    {
     "name": "stdout",
     "output_type": "stream",
     "text": [
      "####################  Original Dataset  ####################\n",
      "Test model:  SVC\n",
      "Test model parameters:\n",
      "{'C': 100, 'gamma': 0.001, 'kernel': 'rbf'}\n",
      "\n",
      "              precision    recall  f1-score   support\n",
      "\n",
      "           0      0.829     0.940     0.881        67\n",
      "           1      0.875     0.683     0.767        41\n",
      "\n",
      "    accuracy                          0.843       108\n",
      "   macro avg      0.852     0.812     0.824       108\n",
      "weighted avg      0.846     0.843     0.838       108\n",
      "\n"
     ]
    },
    {
     "data": {
      "text/plain": "<Figure size 1500x500 with 2 Axes>",
      "image/png": "[encoded data removed]"
     },
     "metadata": {},
     "output_type": "display_data"
    },
    {
     "data": {
      "text/plain": "       Dataset_Name              Model_Name  F1_Score  Accuracy_Score  \\\n0  Original Dataset  RandomForestClassifier  0.788650        0.814815   \n1  Original Dataset                     SVC  0.824121        0.842593   \n\n                                   Model_Best_Params  \n0  {'bootstrap': False, 'max_depth': 3, 'max_feat...  \n1        {'C': 100, 'gamma': 0.001, 'kernel': 'rbf'}  ",
      "text/html": "<div>\n<style scoped>\n    .dataframe tbody tr th:only-of-type {\n        vertical-align: middle;\n    }\n\n    .dataframe tbody tr th {\n        vertical-align: top;\n    }\n\n    .dataframe thead th {\n        text-align: right;\n    }\n</style>\n<table border=\"1\" class=\"dataframe\">\n  <thead>\n    <tr style=\"text-align: right;\">\n      <th></th>\n      <th>Dataset_Name</th>\n      <th>Model_Name</th>\n      <th>F1_Score</th>\n      <th>Accuracy_Score</th>\n      <th>Model_Best_Params</th>\n    </tr>\n  </thead>\n  <tbody>\n    <tr>\n      <th>0</th>\n      <td>Original Dataset</td>\n      <td>RandomForestClassifier</td>\n      <td>0.788650</td>\n      <td>0.814815</td>\n      <td>{'bootstrap': False, 'max_depth': 3, 'max_feat...</td>\n    </tr>\n    <tr>\n      <th>1</th>\n      <td>Original Dataset</td>\n      <td>SVC</td>\n      <td>0.824121</td>\n      <td>0.842593</td>\n      <td>{'C': 100, 'gamma': 0.001, 'kernel': 'rbf'}</td>\n    </tr>\n  </tbody>\n</table>\n</div>"
     },
     "execution_count": 126,
     "metadata": {},
     "output_type": "execute_result"
    }
   ],
   "source": [
    "ML_results_df = test_ML_models(best_results_df, X_train, y_train, X_test, y_test, \"Original Dataset\", show_plots=True, debug_mode=True)\n",
    "ML_results_df"
   ],
   "metadata": {
    "collapsed": false,
    "pycharm": {
     "name": "#%%\n"
    }
   }
  },
  {
   "cell_type": "code",
   "execution_count": 22,
   "outputs": [
    {
     "name": "stdout",
     "output_type": "stream",
     "text": [
      "####################  ROS Dataset  ####################\n",
      "Test model:  RandomForestClassifier\n",
      "Test model parameters:\n",
      "{'bootstrap': False,\n",
      " 'max_depth': 10,\n",
      " 'max_features': 'auto',\n",
      " 'min_samples_leaf': 1,\n",
      " 'min_samples_split': 6,\n",
      " 'n_estimators': 15}\n",
      "\n",
      "              precision    recall  f1-score   support\n",
      "\n",
      "           0      0.836     0.910     0.871        67\n",
      "           1      0.829     0.707     0.763        41\n",
      "\n",
      "    accuracy                          0.833       108\n",
      "   macro avg      0.832     0.809     0.817       108\n",
      "weighted avg      0.833     0.833     0.830       108\n",
      "\n"
     ]
    },
    {
     "data": {
      "text/plain": "<Figure size 1500x500 with 2 Axes>",
      "image/png": "[encoded data removed]"
     },
     "metadata": {},
     "output_type": "display_data"
    },
    {
     "data": {
      "text/plain": "  Dataset_Name              Model_Name  F1_Score  Accuracy_Score  \\\n0  ROS Dataset  RandomForestClassifier  0.817293        0.833333   \n\n                                   Model_Best_Params  \n0  {'bootstrap': False, 'max_depth': 10, 'max_fea...  ",
      "text/html": "<div>\n<style scoped>\n    .dataframe tbody tr th:only-of-type {\n        vertical-align: middle;\n    }\n\n    .dataframe tbody tr th {\n        vertical-align: top;\n    }\n\n    .dataframe thead th {\n        text-align: right;\n    }\n</style>\n<table border=\"1\" class=\"dataframe\">\n  <thead>\n    <tr style=\"text-align: right;\">\n      <th></th>\n      <th>Dataset_Name</th>\n      <th>Model_Name</th>\n      <th>F1_Score</th>\n      <th>Accuracy_Score</th>\n      <th>Model_Best_Params</th>\n    </tr>\n  </thead>\n  <tbody>\n    <tr>\n      <th>0</th>\n      <td>ROS Dataset</td>\n      <td>RandomForestClassifier</td>\n      <td>0.817293</td>\n      <td>0.833333</td>\n      <td>{'bootstrap': False, 'max_depth': 10, 'max_fea...</td>\n    </tr>\n  </tbody>\n</table>\n</div>"
     },
     "execution_count": 22,
     "metadata": {},
     "output_type": "execute_result"
    }
   ],
   "source": [
    "ros_ML_results_df = test_ML_models(best_results_df, ros_X_train, ros_y_train, X_test, y_test, \"ROS Dataset\", show_plots=True, debug_mode=True)\n",
    "ros_ML_results_df"
   ],
   "metadata": {
    "collapsed": false,
    "pycharm": {
     "name": "#%%\n"
    }
   }
  },
  {
   "cell_type": "code",
   "execution_count": 23,
   "outputs": [
    {
     "name": "stdout",
     "output_type": "stream",
     "text": [
      "####################  SMOTE Dataset  ####################\n",
      "Test model:  RandomForestClassifier\n",
      "Test model parameters:\n",
      "{'bootstrap': True,\n",
      " 'max_depth': 10,\n",
      " 'max_features': 'auto',\n",
      " 'min_samples_leaf': 2,\n",
      " 'min_samples_split': 6,\n",
      " 'n_estimators': 30}\n",
      "\n",
      "              precision    recall  f1-score   support\n",
      "\n",
      "           0      0.855     0.881     0.868        67\n",
      "           1      0.795     0.756     0.775        41\n",
      "\n",
      "    accuracy                          0.833       108\n",
      "   macro avg      0.825     0.818     0.821       108\n",
      "weighted avg      0.832     0.833     0.832       108\n",
      "\n"
     ]
    },
    {
     "data": {
      "text/plain": "<Figure size 1500x500 with 2 Axes>",
      "image/png": "[encoded data removed]"
     },
     "metadata": {},
     "output_type": "display_data"
    },
    {
     "data": {
      "text/plain": "    Dataset_Name              Model_Name  F1_Score  Accuracy_Score  \\\n0  SMOTE Dataset  RandomForestClassifier  0.821324        0.833333   \n\n                                   Model_Best_Params  \n0  {'bootstrap': True, 'max_depth': 10, 'max_feat...  ",
      "text/html": "<div>\n<style scoped>\n    .dataframe tbody tr th:only-of-type {\n        vertical-align: middle;\n    }\n\n    .dataframe tbody tr th {\n        vertical-align: top;\n    }\n\n    .dataframe thead th {\n        text-align: right;\n    }\n</style>\n<table border=\"1\" class=\"dataframe\">\n  <thead>\n    <tr style=\"text-align: right;\">\n      <th></th>\n      <th>Dataset_Name</th>\n      <th>Model_Name</th>\n      <th>F1_Score</th>\n      <th>Accuracy_Score</th>\n      <th>Model_Best_Params</th>\n    </tr>\n  </thead>\n  <tbody>\n    <tr>\n      <th>0</th>\n      <td>SMOTE Dataset</td>\n      <td>RandomForestClassifier</td>\n      <td>0.821324</td>\n      <td>0.833333</td>\n      <td>{'bootstrap': True, 'max_depth': 10, 'max_feat...</td>\n    </tr>\n  </tbody>\n</table>\n</div>"
     },
     "execution_count": 23,
     "metadata": {},
     "output_type": "execute_result"
    }
   ],
   "source": [
    "smote_ML_results_df = test_ML_models(best_results_df, smote_X_train, smote_y_train, X_test, y_test, \"SMOTE Dataset\",\n",
    "                                         show_plots=True, debug_mode=True)\n",
    "smote_ML_results_df"
   ],
   "metadata": {
    "collapsed": false,
    "pycharm": {
     "name": "#%%\n"
    }
   }
  },
  {
   "cell_type": "code",
   "execution_count": 127,
   "outputs": [],
   "source": [
    "def display_models_info(best_results_df):\n",
    "    for i in range(best_results_df.shape[0]):\n",
    "        model_name, dataset_title, cur_model_pred = best_results_df.at[i, 'Model_Name'], best_results_df.at[i, 'Dataset_Name'],\\\n",
    "                                                    best_results_df.at[i, 'Model_Pred']\n",
    "        print('\\n', \"#\" * 20, f' {dataset_title} ', \"#\" * 20)\n",
    "        print('Model name: ', model_name)\n",
    "\n",
    "        # title_to_df = {\n",
    "        #     \"Original Dataset\": y_test,\n",
    "        #     \"ROS Dataset\": ros_y_test,\n",
    "        #     \"SMOTE Dataset\": smote_y_test,\n",
    "        # }\n",
    "        cur_y_test = y_test\n",
    "\n",
    "        # print the scores\n",
    "        print()\n",
    "        print(classification_report(cur_y_test, cur_model_pred, digits=3))\n",
    "\n",
    "        # plot the confusion matrix\n",
    "        cm = confusion_matrix(cur_y_test, cur_model_pred)\n",
    "        disp = ConfusionMatrixDisplay(confusion_matrix=cm, display_labels=[\"ill\", \"Not ill\"])\n",
    "        disp.plot()\n",
    "        plt.show()"
   ],
   "metadata": {
    "collapsed": false,
    "pycharm": {
     "name": "#%%\n"
    }
   }
  },
  {
   "cell_type": "markdown",
   "source": [
    "### Validate DL models"
   ],
   "metadata": {
    "collapsed": false
   }
  },
  {
   "cell_type": "code",
   "execution_count": 141,
   "outputs": [],
   "source": [
    "def validate_MLPClassifier(X_train_scaled, y_train, debug_mode=False):\n",
    "    vmlp = MLPClassifier(max_iter=100, random_state=SEED)\n",
    "\n",
    "    parameter_space = {\n",
    "        'hidden_layer_sizes': [(50,50,50), (50,100,50), (100,)],\n",
    "        'activation': ['tanh', 'relu'],\n",
    "        'solver': ['sgd', 'adam'],\n",
    "        'alpha': [0.0001, 0.05],\n",
    "        'learning_rate': ['constant','adaptive'],\n",
    "    }\n",
    "    # parameter_space = {\n",
    "    #     'hidden_layer_sizes': [(100,)],\n",
    "    #     'activation': ['tanh'],\n",
    "    #     'solver': ['adam'],\n",
    "    #     'alpha': [0.0001],\n",
    "    #     'learning_rate': ['constant'],\n",
    "    # }\n",
    "    clf = GridSearchCV(vmlp,\n",
    "                       parameter_space,\n",
    "                       n_jobs=-1,\n",
    "                       cv=3,\n",
    "                       scoring={\n",
    "                           \"F1_Score\": make_scorer(f1_score, average='macro'),\n",
    "                           \"Accuracy_Score\": make_scorer(accuracy_score),\n",
    "                       },\n",
    "                       refit=\"F1_Score\")\n",
    "    clf.fit(X_train_scaled, y_train)\n",
    "\n",
    "    # All results\n",
    "    if debug_mode:\n",
    "        means = clf.cv_results_['mean_test_score']\n",
    "        stds = clf.cv_results_['std_test_score']\n",
    "        for mean, std, params in zip(means, stds, clf.cv_results_['params']):\n",
    "            print(\"%0.3f (+/-%0.03f) for %r\" % (mean, std * 2, params))\n",
    "\n",
    "    best_index = clf.best_index_\n",
    "    return clf.best_estimator_,\\\n",
    "           clf.cv_results_[\"mean_test_F1_Score\"][best_index],\\\n",
    "           clf.cv_results_[\"mean_test_Accuracy_Score\"][best_index],\\\n",
    "           clf.best_params_\n",
    "\n",
    "\n",
    "def test_NN_model(cur_X_train, cur_y_train, cur_X_test, cur_y_test, show_plots, debug_mode):\n",
    "    model = Sequential()\n",
    "\n",
    "    model_params = {\n",
    "        'layers': [\n",
    "            {'units': 32, 'activation': 'relu'},\n",
    "            {'units': 16, 'activation': 'relu'},\n",
    "            {'units': 1, 'activation': 'sigmoid'},\n",
    "        ],\n",
    "        'optimizer': 'adam',\n",
    "        'loss': 'binary_crossentropy',\n",
    "        'metrics': ['accuracy'],\n",
    "        'epochs': 200\n",
    "    }\n",
    "\n",
    "    # add first hidden layer\n",
    "    model.add(Dense(model_params['layers'][0]['units'], activation=model_params['layers'][0]['activation'], input_dim=7))\n",
    "    # Second hidden layer\n",
    "    model.add(Dense(model_params['layers'][1]['units'], activation=model_params['layers'][1]['activation']))\n",
    "    # Output layer\n",
    "    model.add(Dense(model_params['layers'][2]['units'], activation=model_params['layers'][2]['activation']))\n",
    "    # Compile the model\n",
    "    model.compile(optimizer=model_params['optimizer'], loss=model_params['loss'], metrics=model_params['metrics'])\n",
    "    run_hist_2 = model.fit(cur_X_train, cur_y_train, epochs=model_params['epochs'], verbose=0)\n",
    "\n",
    "    if show_plots:\n",
    "        fig, ax = plt.subplots()\n",
    "        ax.plot(run_hist_2.history[\"loss\"], 'r', marker='.', label=\"Train Loss\")\n",
    "        plt.show()\n",
    "\n",
    "    # Train and Test accuracy\n",
    "    train_accuracy = model.evaluate(cur_X_train, cur_y_train, verbose=0)\n",
    "    test_accuracy = model.evaluate(cur_X_test, cur_y_test, verbose=0)\n",
    "    if debug_mode:\n",
    "        print(\"Training Accuracy: %.2f%%\\n\" % (train_accuracy[1]*100))\n",
    "        print(\"Testing Accuracy: %.2f%%\\n\" % (test_accuracy[1]*100))\n",
    "\n",
    "    y_test_pred = model.predict_classes(cur_X_test)\n",
    "    test_f1_score = f1_score(cur_y_test, y_test_pred, average='macro')\n",
    "    test_accuracy = accuracy_score(cur_y_test, y_test_pred)\n",
    "\n",
    "    if show_plots:\n",
    "        cm = confusion_matrix(cur_y_test, y_test_pred)\n",
    "        ax = sns.heatmap(cm,\n",
    "                         annot=True,\n",
    "                         xticklabels=[\"Not ill\",'ill'],\n",
    "                         yticklabels=[\"Not ill\",'ill'])\n",
    "        ax.set_xlabel('Prediction')\n",
    "        ax.set_ylabel('Actual')\n",
    "        plt.show()\n",
    "\n",
    "    return model_params, test_f1_score, test_accuracy, y_test_pred\n",
    "\n",
    "\n",
    "def test_DL_models(X_train, y_train, X_test, y_test, dataset_title, show_plots=False, debug_mode=False):\n",
    "    # scaler = StandardScaler()\n",
    "    # X_train_scaled = scaler.fit_transform(X_train)\n",
    "\n",
    "    cur_model, cur_f1_score, cur_accuracy, cur_params = validate_MLPClassifier(X_train, y_train, debug_mode)\n",
    "    MLPClassifier_info = {\n",
    "        'model_name': 'MLPClassifier',\n",
    "        'model_params': cur_params\n",
    "    }\n",
    "    MLPClassifier_info['test_f1_score'], MLPClassifier_info['test_accuracy'], MLPClassifier_info['model_pred'] =\\\n",
    "        test_evaluation(cur_model, MLPClassifier_info['model_name'], cur_params,\n",
    "                        X_train, y_train, X_test, y_test, dataset_title, show_plots, debug_mode)\n",
    "\n",
    "    if debug_mode:\n",
    "        print('\\nModel name: ', \"MLPClassifier\")\n",
    "        print('Best model validation params: ')\n",
    "        print('Mean Test F1 Score: ', cur_f1_score)\n",
    "        print('Mean Test Accuracy Score: ', cur_accuracy)\n",
    "        pprint(cur_params)\n",
    "\n",
    "    results_df = pd.DataFrame(columns=('Dataset_Name', 'Model_Name', 'F1_Score',\n",
    "                                       'Accuracy_Score',\n",
    "                                       'Model_Best_Params'))\n",
    "\n",
    "    best_f1_score = -np.Inf\n",
    "    best_model_pred = []\n",
    "    best_accuracy = -np.Inf\n",
    "    best_model_name = 'No model'\n",
    "    best_params = None\n",
    "    idx = 0\n",
    "    NN_info = {\n",
    "        'model_name': 'NN with 2 hidden layers',\n",
    "    }\n",
    "    NN_info['model_params'], NN_info['test_f1_score'], NN_info['test_accuracy'], NN_info['model_pred'] =\\\n",
    "        test_NN_model(X_train, y_train, X_test, y_test, show_plots, debug_mode)\n",
    "\n",
    "    for model_config in [MLPClassifier_info, NN_info]:\n",
    "        results_df.loc[idx] = [dataset_title,\n",
    "                               model_config['model_name'],\n",
    "                               model_config['test_f1_score'],\n",
    "                               model_config['test_accuracy'],\n",
    "                               model_config['model_params']]\n",
    "        idx += 1\n",
    "\n",
    "        if model_config['test_f1_score'] > best_f1_score:\n",
    "            best_f1_score = model_config['test_f1_score']\n",
    "            best_accuracy = model_config['test_accuracy']\n",
    "            best_model_name = model_config['model_name']\n",
    "            best_params = model_config['model_params']\n",
    "            best_model_pred = model_config['model_pred']\n",
    "\n",
    "    best_results_df.loc[best_results_df.shape[0]] = [dataset_title,\n",
    "                                                     best_model_name,\n",
    "                                                     best_f1_score,\n",
    "                                                     best_accuracy,\n",
    "                                                     best_params,\n",
    "                                                     best_model_pred]\n",
    "\n",
    "    return results_df\n"
   ],
   "metadata": {
    "collapsed": false,
    "pycharm": {
     "name": "#%%\n"
    }
   }
  },
  {
   "cell_type": "code",
   "execution_count": 142,
   "outputs": [
    {
     "name": "stderr",
     "output_type": "stream",
     "text": [
      "/home/denys_herasymuk/anaconda3/envs/UCU_AI_Course_Project/lib/python3.8/site-packages/sklearn/neural_network/_multilayer_perceptron.py:1109: DataConversionWarning: A column-vector y was passed when a 1d array was expected. Please change the shape of y to (n_samples, ), for example using ravel().\n",
      "  y = column_or_1d(y, warn=True)\n",
      "/home/denys_herasymuk/anaconda3/envs/UCU_AI_Course_Project/lib/python3.8/site-packages/sklearn/neural_network/_multilayer_perceptron.py:692: ConvergenceWarning: Stochastic Optimizer: Maximum iterations (100) reached and the optimization hasn't converged yet.\n",
      "  warnings.warn(\n",
      "/home/denys_herasymuk/anaconda3/envs/UCU_AI_Course_Project/lib/python3.8/site-packages/sklearn/neural_network/_multilayer_perceptron.py:692: ConvergenceWarning: Stochastic Optimizer: Maximum iterations (100) reached and the optimization hasn't converged yet.\n",
      "  warnings.warn(\n"
     ]
    },
    {
     "name": "stdout",
     "output_type": "stream",
     "text": [
      "14/14 [==============================] - 0s 681us/step - loss: 0.2636 - accuracy: 0.8858\n",
      "4/4 [==============================] - 0s 1ms/step - loss: 0.4868 - accuracy: 0.8426\n"
     ]
    },
    {
     "name": "stderr",
     "output_type": "stream",
     "text": [
      "/home/denys_herasymuk/anaconda3/envs/UCU_AI_Course_Project/lib/python3.8/site-packages/tensorflow/python/keras/engine/sequential.py:454: UserWarning: `model.predict_classes()` is deprecated and will be removed after 2021-01-01. Please use instead:* `np.argmax(model.predict(x), axis=-1)`,   if your model does multi-class classification   (e.g. if it uses a `softmax` last-layer activation).* `(model.predict(x) > 0.5).astype(\"int32\")`,   if your model does binary classification   (e.g. if it uses a `sigmoid` last-layer activation).\n",
      "  warnings.warn('`model.predict_classes()` is deprecated and '\n"
     ]
    },
    {
     "data": {
      "text/plain": "       Dataset_Name               Model_Name  F1_Score  Accuracy_Score  \\\n0  Original Dataset            MLPClassifier  0.835554        0.851852   \n1  Original Dataset  NN with 2 hidden layers  0.824121        0.842593   \n\n                                   Model_Best_Params  \n0  {'activation': 'tanh', 'alpha': 0.0001, 'hidde...  \n1  {'layers': [{'units': 32, 'activation': 'relu'...  ",
      "text/html": "<div>\n<style scoped>\n    .dataframe tbody tr th:only-of-type {\n        vertical-align: middle;\n    }\n\n    .dataframe tbody tr th {\n        vertical-align: top;\n    }\n\n    .dataframe thead th {\n        text-align: right;\n    }\n</style>\n<table border=\"1\" class=\"dataframe\">\n  <thead>\n    <tr style=\"text-align: right;\">\n      <th></th>\n      <th>Dataset_Name</th>\n      <th>Model_Name</th>\n      <th>F1_Score</th>\n      <th>Accuracy_Score</th>\n      <th>Model_Best_Params</th>\n    </tr>\n  </thead>\n  <tbody>\n    <tr>\n      <th>0</th>\n      <td>Original Dataset</td>\n      <td>MLPClassifier</td>\n      <td>0.835554</td>\n      <td>0.851852</td>\n      <td>{'activation': 'tanh', 'alpha': 0.0001, 'hidde...</td>\n    </tr>\n    <tr>\n      <th>1</th>\n      <td>Original Dataset</td>\n      <td>NN with 2 hidden layers</td>\n      <td>0.824121</td>\n      <td>0.842593</td>\n      <td>{'layers': [{'units': 32, 'activation': 'relu'...</td>\n    </tr>\n  </tbody>\n</table>\n</div>"
     },
     "execution_count": 142,
     "metadata": {},
     "output_type": "execute_result"
    }
   ],
   "source": [
    "test_DL_models(X_train, y_train, X_test, y_test, 'Original Dataset', show_plots=False, debug_mode=False)"
   ],
   "metadata": {
    "collapsed": false,
    "pycharm": {
     "name": "#%%\n"
    }
   }
  },
  {
   "cell_type": "code",
   "execution_count": 136,
   "outputs": [
    {
     "data": {
      "text/plain": "       Dataset_Name     Model_Name  F1_Score  Accuracy_Score  \\\n0  Original Dataset            SVC  0.824121        0.842593   \n1  Original Dataset  MLPClassifier  0.835554        0.851852   \n\n                                   Model_Best_Params  \\\n0        {'C': 100, 'gamma': 0.001, 'kernel': 'rbf'}   \n1  {'activation': 'tanh', 'alpha': 0.0001, 'hidde...   \n\n                                          Model_Pred  \n0  [1, 0, 0, 0, 0, 0, 0, 1, 1, 1, 0, 0, 1, 1, 1, ...  \n1  [1, 0, 0, 0, 0, 0, 0, 1, 1, 1, 0, 0, 1, 1, 1, ...  ",
      "text/html": "<div>\n<style scoped>\n    .dataframe tbody tr th:only-of-type {\n        vertical-align: middle;\n    }\n\n    .dataframe tbody tr th {\n        vertical-align: top;\n    }\n\n    .dataframe thead th {\n        text-align: right;\n    }\n</style>\n<table border=\"1\" class=\"dataframe\">\n  <thead>\n    <tr style=\"text-align: right;\">\n      <th></th>\n      <th>Dataset_Name</th>\n      <th>Model_Name</th>\n      <th>F1_Score</th>\n      <th>Accuracy_Score</th>\n      <th>Model_Best_Params</th>\n      <th>Model_Pred</th>\n    </tr>\n  </thead>\n  <tbody>\n    <tr>\n      <th>0</th>\n      <td>Original Dataset</td>\n      <td>SVC</td>\n      <td>0.824121</td>\n      <td>0.842593</td>\n      <td>{'C': 100, 'gamma': 0.001, 'kernel': 'rbf'}</td>\n      <td>[1, 0, 0, 0, 0, 0, 0, 1, 1, 1, 0, 0, 1, 1, 1, ...</td>\n    </tr>\n    <tr>\n      <th>1</th>\n      <td>Original Dataset</td>\n      <td>MLPClassifier</td>\n      <td>0.835554</td>\n      <td>0.851852</td>\n      <td>{'activation': 'tanh', 'alpha': 0.0001, 'hidde...</td>\n      <td>[1, 0, 0, 0, 0, 0, 0, 1, 1, 1, 0, 0, 1, 1, 1, ...</td>\n    </tr>\n  </tbody>\n</table>\n</div>"
     },
     "execution_count": 136,
     "metadata": {},
     "output_type": "execute_result"
    }
   ],
   "source": [
    "best_results_df"
   ],
   "metadata": {
    "collapsed": false,
    "pycharm": {
     "name": "#%%\n"
    }
   }
  },
  {
   "cell_type": "code",
   "execution_count": 137,
   "outputs": [
    {
     "name": "stdout",
     "output_type": "stream",
     "text": [
      "\n",
      " ####################  Original Dataset  ####################\n",
      "Model name:  SVC\n",
      "\n",
      "              precision    recall  f1-score   support\n",
      "\n",
      "           0      0.829     0.940     0.881        67\n",
      "           1      0.875     0.683     0.767        41\n",
      "\n",
      "    accuracy                          0.843       108\n",
      "   macro avg      0.852     0.812     0.824       108\n",
      "weighted avg      0.846     0.843     0.838       108\n",
      "\n"
     ]
    },
    {
     "data": {
      "text/plain": "<Figure size 1500x500 with 2 Axes>",
      "image/png": "[encoded data removed]"
     },
     "metadata": {},
     "output_type": "display_data"
    },
    {
     "name": "stdout",
     "output_type": "stream",
     "text": [
      "\n",
      " ####################  Original Dataset  ####################\n",
      "Model name:  MLPClassifier\n",
      "\n",
      "              precision    recall  f1-score   support\n",
      "\n",
      "           0      0.840     0.940     0.887        67\n",
      "           1      0.879     0.707     0.784        41\n",
      "\n",
      "    accuracy                          0.852       108\n",
      "   macro avg      0.859     0.824     0.836       108\n",
      "weighted avg      0.855     0.852     0.848       108\n",
      "\n"
     ]
    },
    {
     "data": {
      "text/plain": "<Figure size 1500x500 with 2 Axes>",
      "image/png": "[encoded data removed]"
     },
     "metadata": {},
     "output_type": "display_data"
    }
   ],
   "source": [
    "display_models_info(best_results_df)"
   ],
   "metadata": {
    "collapsed": false,
    "pycharm": {
     "name": "#%%\n"
    }
   }
  },
  {
   "cell_type": "markdown",
   "source": [
    "### LGBM"
   ],
   "metadata": {
    "collapsed": false
   }
  },
  {
   "cell_type": "code",
   "execution_count": 147,
   "outputs": [
    {
     "name": "stdout",
     "output_type": "stream",
     "text": [
      "[20]\ttraining's binary_logloss: 0.336108\tvalid_0's binary_logloss: 0.415885\n",
      "[40]\ttraining's binary_logloss: 0.23373\tvalid_0's binary_logloss: 0.381833\n",
      "[60]\ttraining's binary_logloss: 0.165366\tvalid_0's binary_logloss: 0.383152\n",
      "[80]\ttraining's binary_logloss: 0.120358\tvalid_0's binary_logloss: 0.394\n",
      "[100]\ttraining's binary_logloss: 0.0857107\tvalid_0's binary_logloss: 0.419904\n"
     ]
    },
    {
     "name": "stderr",
     "output_type": "stream",
     "text": [
      "/home/denys_herasymuk/anaconda3/envs/UCU_AI_Course_Project/lib/python3.8/site-packages/sklearn/preprocessing/_label.py:98: DataConversionWarning: A column-vector y was passed when a 1d array was expected. Please change the shape of y to (n_samples, ), for example using ravel().\n",
      "  y = column_or_1d(y, warn=True)\n",
      "/home/denys_herasymuk/anaconda3/envs/UCU_AI_Course_Project/lib/python3.8/site-packages/sklearn/preprocessing/_label.py:133: DataConversionWarning: A column-vector y was passed when a 1d array was expected. Please change the shape of y to (n_samples, ), for example using ravel().\n",
      "  y = column_or_1d(y, warn=True)\n",
      "/home/denys_herasymuk/anaconda3/envs/UCU_AI_Course_Project/lib/python3.8/site-packages/lightgbm/sklearn.py:736: UserWarning: 'verbose' argument is deprecated and will be removed in a future release of LightGBM. Pass 'log_evaluation()' callback via 'callbacks' argument instead.\n",
      "  _log_warning(\"'verbose' argument is deprecated and will be removed in a future release of LightGBM. \"\n"
     ]
    },
    {
     "data": {
      "text/plain": "LGBMClassifier(learning_rate=0.09, max_depth=-5, random_state=25)"
     },
     "execution_count": 147,
     "metadata": {},
     "output_type": "execute_result"
    }
   ],
   "source": [
    "model = lgbm.LGBMClassifier(learning_rate=0.09,max_depth=-5,random_state=SEED)\n",
    "model.fit(X_train,y_train,eval_set=[(X_test,y_test),(X_train,y_train)],\n",
    "          verbose=0,eval_metric='logloss')"
   ],
   "metadata": {
    "collapsed": false,
    "pycharm": {
     "name": "#%%\n"
    }
   }
  },
  {
   "cell_type": "code",
   "execution_count": 148,
   "outputs": [
    {
     "name": "stdout",
     "output_type": "stream",
     "text": [
      "Training accuracy 1.0000\n",
      "Testing accuracy 0.8333\n"
     ]
    }
   ],
   "source": [
    "print('Training accuracy {:.4f}'.format(model.score(X_train,y_train)))\n",
    "print('Testing accuracy {:.4f}'.format(model.score(X_test,y_test)))"
   ],
   "metadata": {
    "collapsed": false,
    "pycharm": {
     "name": "#%%\n"
    }
   }
  },
  {
   "cell_type": "code",
   "execution_count": 149,
   "outputs": [
    {
     "data": {
      "text/plain": "<AxesSubplot:title={'center':'Feature importance'}, xlabel='Feature importance', ylabel='Features'>"
     },
     "execution_count": 149,
     "metadata": {},
     "output_type": "execute_result"
    },
    {
     "data": {
      "text/plain": "<Figure size 1500x500 with 1 Axes>",
      "image/png": "[encoded data removed]"
     },
     "metadata": {},
     "output_type": "display_data"
    }
   ],
   "source": [
    "lgbm.plot_importance(model)"
   ],
   "metadata": {
    "collapsed": false,
    "pycharm": {
     "name": "#%%\n"
    }
   }
  },
  {
   "cell_type": "code",
   "execution_count": 150,
   "outputs": [
    {
     "data": {
      "text/plain": "<AxesSubplot:title={'center':'Metric during training'}, xlabel='Iterations', ylabel='binary_logloss'>"
     },
     "execution_count": 150,
     "metadata": {},
     "output_type": "execute_result"
    },
    {
     "data": {
      "text/plain": "<Figure size 1500x500 with 1 Axes>",
      "image/png": "[encoded data removed]"
     },
     "metadata": {},
     "output_type": "display_data"
    }
   ],
   "source": [
    "lgbm.plot_metric(model)"
   ],
   "metadata": {
    "collapsed": false,
    "pycharm": {
     "name": "#%%\n"
    }
   }
  },
  {
   "cell_type": "code",
   "execution_count": 151,
   "outputs": [
    {
     "name": "stdout",
     "output_type": "stream",
     "text": [
      "              precision    recall  f1-score   support\n",
      "\n",
      "           0       0.84      0.91      0.87        67\n",
      "           1       0.83      0.71      0.76        41\n",
      "\n",
      "    accuracy                           0.83       108\n",
      "   macro avg       0.83      0.81      0.82       108\n",
      "weighted avg       0.83      0.83      0.83       108\n",
      "\n"
     ]
    },
    {
     "name": "stderr",
     "output_type": "stream",
     "text": [
      "/home/denys_herasymuk/anaconda3/envs/UCU_AI_Course_Project/lib/python3.8/site-packages/sklearn/utils/deprecation.py:87: FutureWarning: Function plot_confusion_matrix is deprecated; Function `plot_confusion_matrix` is deprecated in 1.0 and will be removed in 1.2. Use one of the class methods: ConfusionMatrixDisplay.from_predictions or ConfusionMatrixDisplay.from_estimator.\n",
      "  warnings.warn(msg, category=FutureWarning)\n"
     ]
    },
    {
     "data": {
      "text/plain": "<sklearn.metrics._plot.confusion_matrix.ConfusionMatrixDisplay at 0x7f5480655370>"
     },
     "execution_count": 151,
     "metadata": {},
     "output_type": "execute_result"
    },
    {
     "data": {
      "text/plain": "<Figure size 1500x500 with 2 Axes>",
      "image/png": "[encoded data removed]"
     },
     "metadata": {},
     "output_type": "display_data"
    }
   ],
   "source": [
    "from sklearn import metrics\n",
    "\n",
    "print(metrics.classification_report(y_test,model.predict(X_test)))\n",
    "metrics.plot_confusion_matrix(model, X_test, y_test, cmap='Blues_r')"
   ],
   "metadata": {
    "collapsed": false,
    "pycharm": {
     "name": "#%%\n"
    }
   }
  },
  {
   "cell_type": "markdown",
   "source": [
    "### Create NN model"
   ],
   "metadata": {
    "collapsed": false
   }
  },
  {
   "cell_type": "code",
   "execution_count": 28,
   "outputs": [
    {
     "name": "stdout",
     "output_type": "stream",
     "text": [
      "Collecting tensorflow\r\n",
      "  Downloading tensorflow-2.7.0-cp38-cp38-manylinux2010_x86_64.whl (489.6 MB)\r\n",
      "\u001B[K     |████████████████████████████████| 489.6 MB 33 kB/s  eta 0:00:01     |███████████████████▊            | 302.0 MB 1.8 MB/s eta 0:01:47     |████████████████████            | 304.5 MB 2.0 MB/s eta 0:01:32     |████████████████████            | 306.5 MB 2.2 MB/s eta 0:01:23     |████████████████████▏           | 309.0 MB 2.2 MB/s eta 0:01:21     |█████████████████████           | 319.9 MB 2.4 MB/s eta 0:01:12\r\n",
      "\u001B[?25hCollecting tensorflow-estimator<2.8,~=2.7.0rc0\r\n",
      "  Downloading tensorflow_estimator-2.7.0-py2.py3-none-any.whl (463 kB)\r\n",
      "\u001B[K     |████████████████████████████████| 463 kB 3.2 MB/s eta 0:00:01\r\n",
      "\u001B[?25hCollecting grpcio<2.0,>=1.24.3\r\n",
      "  Downloading grpcio-1.43.0-cp38-cp38-manylinux_2_17_x86_64.manylinux2014_x86_64.whl (4.1 MB)\r\n",
      "\u001B[K     |████████████████████████████████| 4.1 MB 2.2 MB/s eta 0:00:01\r\n",
      "\u001B[?25hCollecting opt-einsum>=2.3.2\r\n",
      "  Downloading opt_einsum-3.3.0-py3-none-any.whl (65 kB)\r\n",
      "\u001B[K     |████████████████████████████████| 65 kB 2.5 MB/s eta 0:00:01\r\n",
      "\u001B[?25hRequirement already satisfied: six>=1.12.0 in /home/denys_herasymuk/anaconda3/envs/UCU_AI_Course_Project/lib/python3.8/site-packages (from tensorflow) (1.16.0)\r\n",
      "Collecting typing-extensions>=3.6.6\r\n",
      "  Downloading typing_extensions-4.0.1-py3-none-any.whl (22 kB)\r\n",
      "Collecting astunparse>=1.6.0\r\n",
      "  Downloading astunparse-1.6.3-py2.py3-none-any.whl (12 kB)\r\n",
      "Collecting tensorboard~=2.6\r\n",
      "  Downloading tensorboard-2.7.0-py3-none-any.whl (5.8 MB)\r\n",
      "\u001B[K     |████████████████████████████████| 5.8 MB 2.8 MB/s eta 0:00:01\r\n",
      "\u001B[?25hCollecting termcolor>=1.1.0\r\n",
      "  Using cached termcolor-1.1.0.tar.gz (3.9 kB)\r\n",
      "Requirement already satisfied: keras-preprocessing>=1.1.1 in /home/denys_herasymuk/anaconda3/envs/UCU_AI_Course_Project/lib/python3.8/site-packages (from tensorflow) (1.1.2)\r\n",
      "Collecting absl-py>=0.4.0\r\n",
      "  Using cached absl_py-1.0.0-py3-none-any.whl (126 kB)\r\n",
      "Collecting gast<0.5.0,>=0.2.1\r\n",
      "  Downloading gast-0.4.0-py3-none-any.whl (9.8 kB)\r\n",
      "Requirement already satisfied: wheel<1.0,>=0.32.0 in /home/denys_herasymuk/anaconda3/envs/UCU_AI_Course_Project/lib/python3.8/site-packages (from tensorflow) (0.37.0)\r\n",
      "Collecting libclang>=9.0.1\r\n",
      "  Downloading libclang-12.0.0-2-py2.py3-none-manylinux1_x86_64.whl (13.3 MB)\r\n",
      "\u001B[K     |████████████████████████████████| 13.3 MB 2.7 MB/s eta 0:00:01\r\n",
      "\u001B[?25hCollecting wrapt>=1.11.0\r\n",
      "  Downloading wrapt-1.13.3-cp38-cp38-manylinux_2_5_x86_64.manylinux1_x86_64.manylinux_2_12_x86_64.manylinux2010_x86_64.whl (84 kB)\r\n",
      "\u001B[K     |████████████████████████████████| 84 kB 2.7 MB/s eta 0:00:011\r\n",
      "\u001B[?25hCollecting keras<2.8,>=2.7.0rc0\r\n",
      "  Downloading keras-2.7.0-py2.py3-none-any.whl (1.3 MB)\r\n",
      "\u001B[K     |████████████████████████████████| 1.3 MB 4.0 MB/s eta 0:00:01\r\n",
      "\u001B[?25hRequirement already satisfied: numpy>=1.14.5 in /home/denys_herasymuk/anaconda3/envs/UCU_AI_Course_Project/lib/python3.8/site-packages (from tensorflow) (1.19.2)\r\n",
      "Collecting flatbuffers<3.0,>=1.12\r\n",
      "  Downloading flatbuffers-2.0-py2.py3-none-any.whl (26 kB)\r\n",
      "Requirement already satisfied: h5py>=2.9.0 in /home/denys_herasymuk/anaconda3/envs/UCU_AI_Course_Project/lib/python3.8/site-packages (from tensorflow) (3.6.0)\r\n",
      "Collecting protobuf>=3.9.2\r\n",
      "  Downloading protobuf-3.19.3-cp38-cp38-manylinux_2_17_x86_64.manylinux2014_x86_64.whl (1.1 MB)\r\n",
      "\u001B[K     |████████████████████████████████| 1.1 MB 2.8 MB/s eta 0:00:01\r\n",
      "\u001B[?25hCollecting google-pasta>=0.1.1\r\n",
      "  Using cached google_pasta-0.2.0-py3-none-any.whl (57 kB)\r\n",
      "Collecting tensorflow-io-gcs-filesystem>=0.21.0\r\n",
      "  Downloading tensorflow_io_gcs_filesystem-0.23.1-cp38-cp38-manylinux_2_12_x86_64.manylinux2010_x86_64.whl (2.1 MB)\r\n",
      "\u001B[K     |████████████████████████████████| 2.1 MB 2.9 MB/s eta 0:00:01\r\n",
      "\u001B[?25hCollecting google-auth-oauthlib<0.5,>=0.4.1\r\n",
      "  Downloading google_auth_oauthlib-0.4.6-py2.py3-none-any.whl (18 kB)\r\n",
      "Collecting werkzeug>=0.11.15\r\n",
      "  Using cached Werkzeug-2.0.2-py3-none-any.whl (288 kB)\r\n",
      "Collecting tensorboard-plugin-wit>=1.6.0\r\n",
      "  Downloading tensorboard_plugin_wit-1.8.1-py3-none-any.whl (781 kB)\r\n",
      "\u001B[K     |████████████████████████████████| 781 kB 3.2 MB/s eta 0:00:01\r\n",
      "\u001B[?25hCollecting markdown>=2.6.8\r\n",
      "  Using cached Markdown-3.3.6-py3-none-any.whl (97 kB)\r\n",
      "Collecting tensorboard-data-server<0.7.0,>=0.6.0\r\n",
      "  Downloading tensorboard_data_server-0.6.1-py3-none-manylinux2010_x86_64.whl (4.9 MB)\r\n",
      "\u001B[K     |████████████████████████████████| 4.9 MB 3.0 MB/s eta 0:00:01\r\n",
      "\u001B[?25hRequirement already satisfied: setuptools>=41.0.0 in /home/denys_herasymuk/anaconda3/envs/UCU_AI_Course_Project/lib/python3.8/site-packages (from tensorboard~=2.6->tensorflow) (58.0.4)\r\n",
      "Collecting google-auth<3,>=1.6.3\r\n",
      "  Downloading google_auth-2.3.3-py2.py3-none-any.whl (155 kB)\r\n",
      "\u001B[K     |████████████████████████████████| 155 kB 3.2 MB/s eta 0:00:01\r\n",
      "\u001B[?25hRequirement already satisfied: requests<3,>=2.21.0 in /home/denys_herasymuk/anaconda3/envs/UCU_AI_Course_Project/lib/python3.8/site-packages (from tensorboard~=2.6->tensorflow) (2.26.0)\r\n",
      "Collecting pyasn1-modules>=0.2.1\r\n",
      "  Downloading pyasn1_modules-0.2.8-py2.py3-none-any.whl (155 kB)\r\n",
      "\u001B[K     |████████████████████████████████| 155 kB 2.8 MB/s eta 0:00:01\r\n",
      "\u001B[?25hCollecting cachetools<5.0,>=2.0.0\r\n",
      "  Downloading cachetools-4.2.4-py3-none-any.whl (10 kB)\r\n",
      "Collecting rsa<5,>=3.1.4\r\n",
      "  Downloading rsa-4.8-py3-none-any.whl (39 kB)\r\n",
      "Collecting requests-oauthlib>=0.7.0\r\n",
      "  Downloading requests_oauthlib-1.3.0-py2.py3-none-any.whl (23 kB)\r\n",
      "Requirement already satisfied: importlib-metadata>=4.4 in /home/denys_herasymuk/anaconda3/envs/UCU_AI_Course_Project/lib/python3.8/site-packages (from markdown>=2.6.8->tensorboard~=2.6->tensorflow) (4.8.2)\r\n",
      "Requirement already satisfied: zipp>=0.5 in /home/denys_herasymuk/.local/lib/python3.8/site-packages (from importlib-metadata>=4.4->markdown>=2.6.8->tensorboard~=2.6->tensorflow) (3.6.0)\r\n",
      "Collecting pyasn1<0.5.0,>=0.4.6\r\n",
      "  Downloading pyasn1-0.4.8-py2.py3-none-any.whl (77 kB)\r\n",
      "\u001B[K     |████████████████████████████████| 77 kB 10.5 MB/s eta 0:00:01\r\n",
      "\u001B[?25hRequirement already satisfied: certifi>=2017.4.17 in /home/denys_herasymuk/anaconda3/envs/UCU_AI_Course_Project/lib/python3.8/site-packages (from requests<3,>=2.21.0->tensorboard~=2.6->tensorflow) (2021.10.8)\r\n",
      "Requirement already satisfied: idna<4,>=2.5 in /home/denys_herasymuk/anaconda3/envs/UCU_AI_Course_Project/lib/python3.8/site-packages (from requests<3,>=2.21.0->tensorboard~=2.6->tensorflow) (3.3)\r\n",
      "Requirement already satisfied: charset-normalizer~=2.0.0 in /home/denys_herasymuk/anaconda3/envs/UCU_AI_Course_Project/lib/python3.8/site-packages (from requests<3,>=2.21.0->tensorboard~=2.6->tensorflow) (2.0.4)\r\n",
      "Requirement already satisfied: urllib3<1.27,>=1.21.1 in /home/denys_herasymuk/anaconda3/envs/UCU_AI_Course_Project/lib/python3.8/site-packages (from requests<3,>=2.21.0->tensorboard~=2.6->tensorflow) (1.26.7)\r\n",
      "Requirement already satisfied: oauthlib>=3.0.0 in /home/denys_herasymuk/anaconda3/envs/UCU_AI_Course_Project/lib/python3.8/site-packages (from requests-oauthlib>=0.7.0->google-auth-oauthlib<0.5,>=0.4.1->tensorboard~=2.6->tensorflow) (3.1.1)\r\n",
      "Building wheels for collected packages: termcolor\r\n",
      "  Building wheel for termcolor (setup.py) ... \u001B[?25ldone\r\n",
      "\u001B[?25h  Created wheel for termcolor: filename=termcolor-1.1.0-py3-none-any.whl size=4847 sha256=830c4579e8e14c7db82609ee7f358edcb6821406e1fd254642d7a13d5f99bebb\r\n",
      "  Stored in directory: /home/denys_herasymuk/.cache/pip/wheels/a0/16/9c/5473df82468f958445479c59e784896fa24f4a5fc024b0f501\r\n",
      "Successfully built termcolor\r\n",
      "Installing collected packages: pyasn1, rsa, pyasn1-modules, cachetools, requests-oauthlib, google-auth, werkzeug, tensorboard-plugin-wit, tensorboard-data-server, protobuf, markdown, grpcio, google-auth-oauthlib, absl-py, wrapt, typing-extensions, termcolor, tensorflow-io-gcs-filesystem, tensorflow-estimator, tensorboard, opt-einsum, libclang, keras, google-pasta, gast, flatbuffers, astunparse, tensorflow\r\n",
      "  Attempting uninstall: keras\r\n",
      "    Found existing installation: Keras 2.2.5\r\n",
      "    Uninstalling Keras-2.2.5:\r\n",
      "      Successfully uninstalled Keras-2.2.5\r\n",
      "Successfully installed absl-py-1.0.0 astunparse-1.6.3 cachetools-4.2.4 flatbuffers-2.0 gast-0.4.0 google-auth-2.3.3 google-auth-oauthlib-0.4.6 google-pasta-0.2.0 grpcio-1.43.0 keras-2.7.0 libclang-12.0.0 markdown-3.3.6 opt-einsum-3.3.0 protobuf-3.19.3 pyasn1-0.4.8 pyasn1-modules-0.2.8 requests-oauthlib-1.3.0 rsa-4.8 tensorboard-2.7.0 tensorboard-data-server-0.6.1 tensorboard-plugin-wit-1.8.1 tensorflow-2.7.0 tensorflow-estimator-2.7.0 tensorflow-io-gcs-filesystem-0.23.1 termcolor-1.1.0 typing-extensions-4.0.1 werkzeug-2.0.2 wrapt-1.13.3\r\n",
      "Collecting keras==2.2.5\r\n",
      "  Using cached Keras-2.2.5-py2.py3-none-any.whl (336 kB)\r\n",
      "Requirement already satisfied: six>=1.9.0 in /home/denys_herasymuk/anaconda3/envs/UCU_AI_Course_Project/lib/python3.8/site-packages (from keras==2.2.5) (1.16.0)\r\n",
      "Requirement already satisfied: keras-applications>=1.0.8 in /home/denys_herasymuk/anaconda3/envs/UCU_AI_Course_Project/lib/python3.8/site-packages (from keras==2.2.5) (1.0.8)\r\n",
      "Requirement already satisfied: pyyaml in /home/denys_herasymuk/anaconda3/envs/UCU_AI_Course_Project/lib/python3.8/site-packages (from keras==2.2.5) (6.0)\r\n",
      "Requirement already satisfied: numpy>=1.9.1 in /home/denys_herasymuk/anaconda3/envs/UCU_AI_Course_Project/lib/python3.8/site-packages (from keras==2.2.5) (1.19.2)\r\n",
      "Requirement already satisfied: scipy>=0.14 in /home/denys_herasymuk/anaconda3/envs/UCU_AI_Course_Project/lib/python3.8/site-packages (from keras==2.2.5) (1.7.3)\r\n",
      "Requirement already satisfied: keras-preprocessing>=1.1.0 in /home/denys_herasymuk/anaconda3/envs/UCU_AI_Course_Project/lib/python3.8/site-packages (from keras==2.2.5) (1.1.2)\r\n",
      "Requirement already satisfied: h5py in /home/denys_herasymuk/anaconda3/envs/UCU_AI_Course_Project/lib/python3.8/site-packages (from keras==2.2.5) (3.6.0)\r\n",
      "Installing collected packages: keras\r\n",
      "  Attempting uninstall: keras\r\n",
      "    Found existing installation: keras 2.7.0\r\n",
      "    Uninstalling keras-2.7.0:\r\n",
      "      Successfully uninstalled keras-2.7.0\r\n",
      "\u001B[31mERROR: pip's dependency resolver does not currently take into account all the packages that are installed. This behaviour is the source of the following dependency conflicts.\r\n",
      "tensorflow 2.7.0 requires keras<2.8,>=2.7.0rc0, but you have keras 2.2.5 which is incompatible.\u001B[0m\r\n",
      "Successfully installed keras-2.2.5\r\n"
     ]
    }
   ],
   "source": [
    "# tensorflow\n",
    "# keras==2.2.5\n",
    "# shap==0.30.0\n",
    "\n",
    "# !pip install tensorflow\n",
    "# !pip install keras==2.2.5"
   ],
   "metadata": {
    "collapsed": false,
    "pycharm": {
     "name": "#%%\n"
    }
   }
  },
  {
   "cell_type": "code",
   "execution_count": 104,
   "outputs": [
    {
     "name": "stdout",
     "output_type": "stream",
     "text": [
      "Epoch 1/200\n",
      "14/14 [==============================] - 0s 991us/step - loss: 0.6955 - accuracy: 0.5455\n",
      "Epoch 2/200\n",
      "14/14 [==============================] - 0s 1ms/step - loss: 0.6373 - accuracy: 0.6783\n",
      "Epoch 3/200\n",
      "14/14 [==============================] - 0s 1ms/step - loss: 0.5952 - accuracy: 0.7156\n",
      "Epoch 4/200\n",
      "14/14 [==============================] - 0s 1ms/step - loss: 0.5546 - accuracy: 0.7389\n",
      "Epoch 5/200\n",
      "14/14 [==============================] - 0s 816us/step - loss: 0.5184 - accuracy: 0.7506\n",
      "Epoch 6/200\n",
      "14/14 [==============================] - 0s 937us/step - loss: 0.4885 - accuracy: 0.7669\n",
      "Epoch 7/200\n",
      "14/14 [==============================] - 0s 1ms/step - loss: 0.4663 - accuracy: 0.7855\n",
      "Epoch 8/200\n",
      "14/14 [==============================] - 0s 850us/step - loss: 0.4544 - accuracy: 0.7879\n",
      "Epoch 9/200\n",
      "14/14 [==============================] - 0s 815us/step - loss: 0.4440 - accuracy: 0.7879\n",
      "Epoch 10/200\n",
      "14/14 [==============================] - 0s 844us/step - loss: 0.4378 - accuracy: 0.7832\n",
      "Epoch 11/200\n",
      "14/14 [==============================] - 0s 1ms/step - loss: 0.4333 - accuracy: 0.7902\n",
      "Epoch 12/200\n",
      "14/14 [==============================] - 0s 859us/step - loss: 0.4296 - accuracy: 0.7902\n",
      "Epoch 13/200\n",
      "14/14 [==============================] - 0s 1ms/step - loss: 0.4265 - accuracy: 0.7972\n",
      "Epoch 14/200\n",
      "14/14 [==============================] - 0s 1ms/step - loss: 0.4229 - accuracy: 0.7972\n",
      "Epoch 15/200\n",
      "14/14 [==============================] - 0s 1ms/step - loss: 0.4205 - accuracy: 0.7949\n",
      "Epoch 16/200\n",
      "14/14 [==============================] - 0s 881us/step - loss: 0.4179 - accuracy: 0.7949\n",
      "Epoch 17/200\n",
      "14/14 [==============================] - 0s 929us/step - loss: 0.4157 - accuracy: 0.8065\n",
      "Epoch 18/200\n",
      "14/14 [==============================] - 0s 922us/step - loss: 0.4145 - accuracy: 0.8042\n",
      "Epoch 19/200\n",
      "14/14 [==============================] - 0s 1ms/step - loss: 0.4117 - accuracy: 0.8042\n",
      "Epoch 20/200\n",
      "14/14 [==============================] - 0s 1ms/step - loss: 0.4103 - accuracy: 0.8089\n",
      "Epoch 21/200\n",
      "14/14 [==============================] - 0s 1ms/step - loss: 0.4077 - accuracy: 0.8019\n",
      "Epoch 22/200\n",
      "14/14 [==============================] - 0s 1ms/step - loss: 0.4061 - accuracy: 0.8019\n",
      "Epoch 23/200\n",
      "14/14 [==============================] - 0s 1ms/step - loss: 0.4050 - accuracy: 0.8065\n",
      "Epoch 24/200\n",
      "14/14 [==============================] - 0s 1ms/step - loss: 0.4031 - accuracy: 0.8065\n",
      "Epoch 25/200\n",
      "14/14 [==============================] - 0s 804us/step - loss: 0.4017 - accuracy: 0.8159\n",
      "Epoch 26/200\n",
      "14/14 [==============================] - 0s 767us/step - loss: 0.4010 - accuracy: 0.8135\n",
      "Epoch 27/200\n",
      "14/14 [==============================] - 0s 741us/step - loss: 0.3997 - accuracy: 0.8112\n",
      "Epoch 28/200\n",
      "14/14 [==============================] - 0s 979us/step - loss: 0.3971 - accuracy: 0.8135\n",
      "Epoch 29/200\n",
      "14/14 [==============================] - 0s 911us/step - loss: 0.3966 - accuracy: 0.8159\n",
      "Epoch 30/200\n",
      "14/14 [==============================] - 0s 935us/step - loss: 0.3949 - accuracy: 0.8159\n",
      "Epoch 31/200\n",
      "14/14 [==============================] - 0s 996us/step - loss: 0.3954 - accuracy: 0.8159\n",
      "Epoch 32/200\n",
      "14/14 [==============================] - 0s 984us/step - loss: 0.3940 - accuracy: 0.8182\n",
      "Epoch 33/200\n",
      "14/14 [==============================] - 0s 1ms/step - loss: 0.3909 - accuracy: 0.8159\n",
      "Epoch 34/200\n",
      "14/14 [==============================] - 0s 1ms/step - loss: 0.3906 - accuracy: 0.8182\n",
      "Epoch 35/200\n",
      "14/14 [==============================] - 0s 1ms/step - loss: 0.3892 - accuracy: 0.8159\n",
      "Epoch 36/200\n",
      "14/14 [==============================] - 0s 1ms/step - loss: 0.3878 - accuracy: 0.8135\n",
      "Epoch 37/200\n",
      "14/14 [==============================] - 0s 1ms/step - loss: 0.3867 - accuracy: 0.8135\n",
      "Epoch 38/200\n",
      "14/14 [==============================] - 0s 991us/step - loss: 0.3859 - accuracy: 0.8228\n",
      "Epoch 39/200\n",
      "14/14 [==============================] - 0s 904us/step - loss: 0.3847 - accuracy: 0.8135\n",
      "Epoch 40/200\n",
      "14/14 [==============================] - 0s 1ms/step - loss: 0.3839 - accuracy: 0.8089\n",
      "Epoch 41/200\n",
      "14/14 [==============================] - 0s 981us/step - loss: 0.3836 - accuracy: 0.8089\n",
      "Epoch 42/200\n",
      "14/14 [==============================] - 0s 843us/step - loss: 0.3810 - accuracy: 0.8182\n",
      "Epoch 43/200\n",
      "14/14 [==============================] - 0s 854us/step - loss: 0.3803 - accuracy: 0.8182\n",
      "Epoch 44/200\n",
      "14/14 [==============================] - 0s 1ms/step - loss: 0.3788 - accuracy: 0.8205\n",
      "Epoch 45/200\n",
      "14/14 [==============================] - 0s 998us/step - loss: 0.3783 - accuracy: 0.8159\n",
      "Epoch 46/200\n",
      "14/14 [==============================] - 0s 1ms/step - loss: 0.3769 - accuracy: 0.8205\n",
      "Epoch 47/200\n",
      "14/14 [==============================] - 0s 1ms/step - loss: 0.3763 - accuracy: 0.8252\n",
      "Epoch 48/200\n",
      "14/14 [==============================] - 0s 919us/step - loss: 0.3758 - accuracy: 0.8252\n",
      "Epoch 49/200\n",
      "14/14 [==============================] - 0s 1ms/step - loss: 0.3735 - accuracy: 0.8228\n",
      "Epoch 50/200\n",
      "14/14 [==============================] - 0s 1ms/step - loss: 0.3743 - accuracy: 0.8182\n",
      "Epoch 51/200\n",
      "14/14 [==============================] - 0s 1ms/step - loss: 0.3722 - accuracy: 0.8228\n",
      "Epoch 52/200\n",
      "14/14 [==============================] - 0s 1ms/step - loss: 0.3715 - accuracy: 0.8228\n",
      "Epoch 53/200\n",
      "14/14 [==============================] - 0s 1ms/step - loss: 0.3703 - accuracy: 0.8252\n",
      "Epoch 54/200\n",
      "14/14 [==============================] - 0s 935us/step - loss: 0.3698 - accuracy: 0.8252\n",
      "Epoch 55/200\n",
      "14/14 [==============================] - 0s 1ms/step - loss: 0.3698 - accuracy: 0.8252\n",
      "Epoch 56/200\n",
      "14/14 [==============================] - 0s 895us/step - loss: 0.3678 - accuracy: 0.8252\n",
      "Epoch 57/200\n",
      "14/14 [==============================] - 0s 988us/step - loss: 0.3669 - accuracy: 0.8252\n",
      "Epoch 58/200\n",
      "14/14 [==============================] - 0s 1ms/step - loss: 0.3652 - accuracy: 0.8275\n",
      "Epoch 59/200\n",
      "14/14 [==============================] - 0s 1ms/step - loss: 0.3647 - accuracy: 0.8345\n",
      "Epoch 60/200\n",
      "14/14 [==============================] - 0s 1ms/step - loss: 0.3646 - accuracy: 0.8322\n",
      "Epoch 61/200\n",
      "14/14 [==============================] - 0s 1ms/step - loss: 0.3626 - accuracy: 0.8298\n",
      "Epoch 62/200\n",
      "14/14 [==============================] - 0s 1ms/step - loss: 0.3615 - accuracy: 0.8322\n",
      "Epoch 63/200\n",
      "14/14 [==============================] - 0s 1ms/step - loss: 0.3609 - accuracy: 0.8298\n",
      "Epoch 64/200\n",
      "14/14 [==============================] - 0s 1ms/step - loss: 0.3611 - accuracy: 0.8252\n",
      "Epoch 65/200\n",
      "14/14 [==============================] - 0s 852us/step - loss: 0.3586 - accuracy: 0.8322\n",
      "Epoch 66/200\n",
      "14/14 [==============================] - 0s 1ms/step - loss: 0.3576 - accuracy: 0.8322\n",
      "Epoch 67/200\n",
      "14/14 [==============================] - 0s 1ms/step - loss: 0.3567 - accuracy: 0.8345\n",
      "Epoch 68/200\n",
      "14/14 [==============================] - 0s 934us/step - loss: 0.3565 - accuracy: 0.8345\n",
      "Epoch 69/200\n",
      "14/14 [==============================] - 0s 1ms/step - loss: 0.3550 - accuracy: 0.8392\n",
      "Epoch 70/200\n",
      "14/14 [==============================] - 0s 1ms/step - loss: 0.3549 - accuracy: 0.8392\n",
      "Epoch 71/200\n",
      "14/14 [==============================] - 0s 1ms/step - loss: 0.3525 - accuracy: 0.8345\n",
      "Epoch 72/200\n",
      "14/14 [==============================] - 0s 1ms/step - loss: 0.3525 - accuracy: 0.8322\n",
      "Epoch 73/200\n",
      "14/14 [==============================] - 0s 971us/step - loss: 0.3521 - accuracy: 0.8298\n",
      "Epoch 74/200\n",
      "14/14 [==============================] - 0s 1ms/step - loss: 0.3514 - accuracy: 0.8322\n",
      "Epoch 75/200\n",
      "14/14 [==============================] - 0s 1ms/step - loss: 0.3499 - accuracy: 0.8298\n",
      "Epoch 76/200\n",
      "14/14 [==============================] - 0s 1ms/step - loss: 0.3487 - accuracy: 0.8345\n",
      "Epoch 77/200\n",
      "14/14 [==============================] - 0s 1ms/step - loss: 0.3481 - accuracy: 0.8415\n",
      "Epoch 78/200\n",
      "14/14 [==============================] - 0s 776us/step - loss: 0.3466 - accuracy: 0.8368\n",
      "Epoch 79/200\n",
      "14/14 [==============================] - 0s 1ms/step - loss: 0.3467 - accuracy: 0.8345\n",
      "Epoch 80/200\n",
      "14/14 [==============================] - 0s 1ms/step - loss: 0.3452 - accuracy: 0.8298\n",
      "Epoch 81/200\n",
      "14/14 [==============================] - 0s 967us/step - loss: 0.3444 - accuracy: 0.8345\n",
      "Epoch 82/200\n",
      "14/14 [==============================] - 0s 1ms/step - loss: 0.3442 - accuracy: 0.8368\n",
      "Epoch 83/200\n",
      "14/14 [==============================] - 0s 1ms/step - loss: 0.3438 - accuracy: 0.8368\n",
      "Epoch 84/200\n",
      "14/14 [==============================] - 0s 1ms/step - loss: 0.3424 - accuracy: 0.8415\n",
      "Epoch 85/200\n",
      "14/14 [==============================] - 0s 1ms/step - loss: 0.3419 - accuracy: 0.8368\n",
      "Epoch 86/200\n",
      "14/14 [==============================] - 0s 1ms/step - loss: 0.3399 - accuracy: 0.8415\n",
      "Epoch 87/200\n",
      "14/14 [==============================] - 0s 993us/step - loss: 0.3395 - accuracy: 0.8392\n",
      "Epoch 88/200\n",
      "14/14 [==============================] - 0s 1ms/step - loss: 0.3385 - accuracy: 0.8415\n",
      "Epoch 89/200\n",
      "14/14 [==============================] - 0s 1ms/step - loss: 0.3385 - accuracy: 0.8462\n",
      "Epoch 90/200\n",
      "14/14 [==============================] - 0s 983us/step - loss: 0.3374 - accuracy: 0.8438\n",
      "Epoch 91/200\n",
      "14/14 [==============================] - 0s 923us/step - loss: 0.3361 - accuracy: 0.8345\n",
      "Epoch 92/200\n",
      "14/14 [==============================] - 0s 845us/step - loss: 0.3369 - accuracy: 0.8368\n",
      "Epoch 93/200\n",
      "14/14 [==============================] - 0s 1ms/step - loss: 0.3341 - accuracy: 0.8415\n",
      "Epoch 94/200\n",
      "14/14 [==============================] - 0s 872us/step - loss: 0.3335 - accuracy: 0.8438\n",
      "Epoch 95/200\n",
      "14/14 [==============================] - 0s 1ms/step - loss: 0.3323 - accuracy: 0.8462\n",
      "Epoch 96/200\n",
      "14/14 [==============================] - 0s 1ms/step - loss: 0.3312 - accuracy: 0.8462\n",
      "Epoch 97/200\n",
      "14/14 [==============================] - 0s 1ms/step - loss: 0.3315 - accuracy: 0.8485\n",
      "Epoch 98/200\n",
      "14/14 [==============================] - 0s 1ms/step - loss: 0.3304 - accuracy: 0.8368\n",
      "Epoch 99/200\n",
      "14/14 [==============================] - 0s 1ms/step - loss: 0.3290 - accuracy: 0.8462\n",
      "Epoch 100/200\n",
      "14/14 [==============================] - 0s 1ms/step - loss: 0.3290 - accuracy: 0.8462\n",
      "Epoch 101/200\n",
      "14/14 [==============================] - 0s 975us/step - loss: 0.3282 - accuracy: 0.8368\n",
      "Epoch 102/200\n",
      "14/14 [==============================] - 0s 885us/step - loss: 0.3259 - accuracy: 0.8322\n",
      "Epoch 103/200\n",
      "14/14 [==============================] - 0s 996us/step - loss: 0.3258 - accuracy: 0.8438\n",
      "Epoch 104/200\n",
      "14/14 [==============================] - 0s 851us/step - loss: 0.3241 - accuracy: 0.8485\n",
      "Epoch 105/200\n",
      "14/14 [==============================] - 0s 947us/step - loss: 0.3235 - accuracy: 0.8531\n",
      "Epoch 106/200\n",
      "14/14 [==============================] - 0s 1ms/step - loss: 0.3221 - accuracy: 0.8438\n",
      "Epoch 107/200\n",
      "14/14 [==============================] - 0s 1ms/step - loss: 0.3221 - accuracy: 0.8368\n",
      "Epoch 108/200\n",
      "14/14 [==============================] - 0s 1ms/step - loss: 0.3209 - accuracy: 0.8508\n",
      "Epoch 109/200\n",
      "14/14 [==============================] - 0s 1ms/step - loss: 0.3197 - accuracy: 0.8508\n",
      "Epoch 110/200\n",
      "14/14 [==============================] - 0s 1ms/step - loss: 0.3198 - accuracy: 0.8462\n",
      "Epoch 111/200\n",
      "14/14 [==============================] - 0s 1ms/step - loss: 0.3177 - accuracy: 0.8508\n",
      "Epoch 112/200\n",
      "14/14 [==============================] - 0s 1ms/step - loss: 0.3173 - accuracy: 0.8485\n",
      "Epoch 113/200\n",
      "14/14 [==============================] - 0s 990us/step - loss: 0.3173 - accuracy: 0.8508\n",
      "Epoch 114/200\n",
      "14/14 [==============================] - 0s 1ms/step - loss: 0.3158 - accuracy: 0.8531\n",
      "Epoch 115/200\n",
      "14/14 [==============================] - 0s 1ms/step - loss: 0.3151 - accuracy: 0.8578\n",
      "Epoch 116/200\n",
      "14/14 [==============================] - 0s 1ms/step - loss: 0.3142 - accuracy: 0.8555\n",
      "Epoch 117/200\n",
      "14/14 [==============================] - 0s 992us/step - loss: 0.3135 - accuracy: 0.8508\n",
      "Epoch 118/200\n",
      "14/14 [==============================] - 0s 1ms/step - loss: 0.3125 - accuracy: 0.8578\n",
      "Epoch 119/200\n",
      "14/14 [==============================] - 0s 1ms/step - loss: 0.3114 - accuracy: 0.8531\n",
      "Epoch 120/200\n",
      "14/14 [==============================] - 0s 1ms/step - loss: 0.3128 - accuracy: 0.8438\n",
      "Epoch 121/200\n",
      "14/14 [==============================] - 0s 1ms/step - loss: 0.3106 - accuracy: 0.8601\n",
      "Epoch 122/200\n",
      "14/14 [==============================] - 0s 985us/step - loss: 0.3095 - accuracy: 0.8555\n",
      "Epoch 123/200\n",
      "14/14 [==============================] - 0s 997us/step - loss: 0.3101 - accuracy: 0.8531\n",
      "Epoch 124/200\n",
      "14/14 [==============================] - 0s 949us/step - loss: 0.3082 - accuracy: 0.8508\n",
      "Epoch 125/200\n",
      "14/14 [==============================] - 0s 1ms/step - loss: 0.3076 - accuracy: 0.8555\n",
      "Epoch 126/200\n",
      "14/14 [==============================] - 0s 1ms/step - loss: 0.3064 - accuracy: 0.8555\n",
      "Epoch 127/200\n",
      "14/14 [==============================] - 0s 1ms/step - loss: 0.3055 - accuracy: 0.8531\n",
      "Epoch 128/200\n",
      "14/14 [==============================] - 0s 972us/step - loss: 0.3060 - accuracy: 0.8485\n",
      "Epoch 129/200\n",
      "14/14 [==============================] - 0s 907us/step - loss: 0.3041 - accuracy: 0.8578\n",
      "Epoch 130/200\n",
      "14/14 [==============================] - 0s 789us/step - loss: 0.3043 - accuracy: 0.8601\n",
      "Epoch 131/200\n",
      "14/14 [==============================] - 0s 1ms/step - loss: 0.3029 - accuracy: 0.8578\n",
      "Epoch 132/200\n",
      "14/14 [==============================] - 0s 915us/step - loss: 0.3016 - accuracy: 0.8625\n",
      "Epoch 133/200\n",
      "14/14 [==============================] - 0s 859us/step - loss: 0.3015 - accuracy: 0.8625\n",
      "Epoch 134/200\n",
      "14/14 [==============================] - 0s 837us/step - loss: 0.3013 - accuracy: 0.8531\n",
      "Epoch 135/200\n",
      "14/14 [==============================] - 0s 1ms/step - loss: 0.3004 - accuracy: 0.8601\n",
      "Epoch 136/200\n",
      "14/14 [==============================] - 0s 969us/step - loss: 0.2982 - accuracy: 0.8625\n",
      "Epoch 137/200\n",
      "14/14 [==============================] - 0s 910us/step - loss: 0.2996 - accuracy: 0.8601\n",
      "Epoch 138/200\n",
      "14/14 [==============================] - 0s 1ms/step - loss: 0.2973 - accuracy: 0.8578\n",
      "Epoch 139/200\n",
      "14/14 [==============================] - 0s 1ms/step - loss: 0.2971 - accuracy: 0.8601\n",
      "Epoch 140/200\n",
      "14/14 [==============================] - 0s 911us/step - loss: 0.2957 - accuracy: 0.8601\n",
      "Epoch 141/200\n",
      "14/14 [==============================] - 0s 1ms/step - loss: 0.2949 - accuracy: 0.8578\n",
      "Epoch 142/200\n",
      "14/14 [==============================] - 0s 1ms/step - loss: 0.2961 - accuracy: 0.8625\n",
      "Epoch 143/200\n",
      "14/14 [==============================] - 0s 1ms/step - loss: 0.2937 - accuracy: 0.8625\n",
      "Epoch 144/200\n",
      "14/14 [==============================] - 0s 1ms/step - loss: 0.2937 - accuracy: 0.8625\n",
      "Epoch 145/200\n",
      "14/14 [==============================] - 0s 1ms/step - loss: 0.2945 - accuracy: 0.8601\n",
      "Epoch 146/200\n",
      "14/14 [==============================] - 0s 1ms/step - loss: 0.2904 - accuracy: 0.8625\n",
      "Epoch 147/200\n",
      "14/14 [==============================] - 0s 968us/step - loss: 0.2921 - accuracy: 0.8695\n",
      "Epoch 148/200\n",
      "14/14 [==============================] - 0s 2ms/step - loss: 0.2906 - accuracy: 0.8671\n",
      "Epoch 149/200\n",
      "14/14 [==============================] - 0s 1ms/step - loss: 0.2898 - accuracy: 0.8695\n",
      "Epoch 150/200\n",
      "14/14 [==============================] - 0s 1ms/step - loss: 0.2895 - accuracy: 0.8648\n",
      "Epoch 151/200\n",
      "14/14 [==============================] - 0s 1ms/step - loss: 0.2874 - accuracy: 0.8695\n",
      "Epoch 152/200\n",
      "14/14 [==============================] - 0s 983us/step - loss: 0.2883 - accuracy: 0.8741\n",
      "Epoch 153/200\n",
      "14/14 [==============================] - 0s 1ms/step - loss: 0.2855 - accuracy: 0.8695\n",
      "Epoch 154/200\n",
      "14/14 [==============================] - 0s 1ms/step - loss: 0.2879 - accuracy: 0.8648\n",
      "Epoch 155/200\n",
      "14/14 [==============================] - 0s 1ms/step - loss: 0.2879 - accuracy: 0.8695\n",
      "Epoch 156/200\n",
      "14/14 [==============================] - 0s 1ms/step - loss: 0.2830 - accuracy: 0.8718\n",
      "Epoch 157/200\n",
      "14/14 [==============================] - 0s 1ms/step - loss: 0.2819 - accuracy: 0.8695\n",
      "Epoch 158/200\n",
      "14/14 [==============================] - 0s 1ms/step - loss: 0.2843 - accuracy: 0.8695\n",
      "Epoch 159/200\n",
      "14/14 [==============================] - 0s 950us/step - loss: 0.2826 - accuracy: 0.8648\n",
      "Epoch 160/200\n",
      "14/14 [==============================] - 0s 914us/step - loss: 0.2813 - accuracy: 0.8695\n",
      "Epoch 161/200\n",
      "14/14 [==============================] - 0s 998us/step - loss: 0.2791 - accuracy: 0.8718\n",
      "Epoch 162/200\n",
      "14/14 [==============================] - 0s 887us/step - loss: 0.2796 - accuracy: 0.8718\n",
      "Epoch 163/200\n",
      "14/14 [==============================] - 0s 1ms/step - loss: 0.2812 - accuracy: 0.8765\n",
      "Epoch 164/200\n",
      "14/14 [==============================] - 0s 930us/step - loss: 0.2796 - accuracy: 0.8695\n",
      "Epoch 165/200\n",
      "14/14 [==============================] - 0s 864us/step - loss: 0.2781 - accuracy: 0.8671\n",
      "Epoch 166/200\n",
      "14/14 [==============================] - 0s 957us/step - loss: 0.2768 - accuracy: 0.8578\n",
      "Epoch 167/200\n",
      "14/14 [==============================] - 0s 918us/step - loss: 0.2753 - accuracy: 0.8765\n",
      "Epoch 168/200\n",
      "14/14 [==============================] - 0s 959us/step - loss: 0.2738 - accuracy: 0.8765\n",
      "Epoch 169/200\n",
      "14/14 [==============================] - 0s 911us/step - loss: 0.2729 - accuracy: 0.8741\n",
      "Epoch 170/200\n",
      "14/14 [==============================] - 0s 1ms/step - loss: 0.2734 - accuracy: 0.8741\n",
      "Epoch 171/200\n",
      "14/14 [==============================] - 0s 961us/step - loss: 0.2712 - accuracy: 0.8695\n",
      "Epoch 172/200\n",
      "14/14 [==============================] - 0s 1ms/step - loss: 0.2720 - accuracy: 0.8718\n",
      "Epoch 173/200\n",
      "14/14 [==============================] - 0s 1ms/step - loss: 0.2717 - accuracy: 0.8671\n",
      "Epoch 174/200\n",
      "14/14 [==============================] - 0s 917us/step - loss: 0.2705 - accuracy: 0.8741\n",
      "Epoch 175/200\n",
      "14/14 [==============================] - 0s 1ms/step - loss: 0.2718 - accuracy: 0.8718\n",
      "Epoch 176/200\n",
      "14/14 [==============================] - 0s 987us/step - loss: 0.2677 - accuracy: 0.8695\n",
      "Epoch 177/200\n",
      "14/14 [==============================] - 0s 1ms/step - loss: 0.2674 - accuracy: 0.8718\n",
      "Epoch 178/200\n",
      "14/14 [==============================] - 0s 921us/step - loss: 0.2676 - accuracy: 0.8788\n",
      "Epoch 179/200\n",
      "14/14 [==============================] - 0s 1ms/step - loss: 0.2684 - accuracy: 0.8765\n",
      "Epoch 180/200\n",
      "14/14 [==============================] - 0s 1ms/step - loss: 0.2658 - accuracy: 0.8765\n",
      "Epoch 181/200\n",
      "14/14 [==============================] - 0s 966us/step - loss: 0.2643 - accuracy: 0.8788\n",
      "Epoch 182/200\n",
      "14/14 [==============================] - 0s 942us/step - loss: 0.2640 - accuracy: 0.8765\n",
      "Epoch 183/200\n",
      "14/14 [==============================] - 0s 880us/step - loss: 0.2632 - accuracy: 0.8788\n",
      "Epoch 184/200\n",
      "14/14 [==============================] - 0s 1ms/step - loss: 0.2623 - accuracy: 0.8811\n",
      "Epoch 185/200\n",
      "14/14 [==============================] - 0s 931us/step - loss: 0.2620 - accuracy: 0.8765\n",
      "Epoch 186/200\n",
      "14/14 [==============================] - 0s 813us/step - loss: 0.2609 - accuracy: 0.8788\n",
      "Epoch 187/200\n",
      "14/14 [==============================] - 0s 1ms/step - loss: 0.2600 - accuracy: 0.8788\n",
      "Epoch 188/200\n",
      "14/14 [==============================] - 0s 945us/step - loss: 0.2600 - accuracy: 0.8858\n",
      "Epoch 189/200\n",
      "14/14 [==============================] - 0s 1ms/step - loss: 0.2591 - accuracy: 0.8858\n",
      "Epoch 190/200\n",
      "14/14 [==============================] - 0s 903us/step - loss: 0.2581 - accuracy: 0.8881\n",
      "Epoch 191/200\n",
      "14/14 [==============================] - 0s 905us/step - loss: 0.2570 - accuracy: 0.8788\n",
      "Epoch 192/200\n",
      "14/14 [==============================] - 0s 883us/step - loss: 0.2562 - accuracy: 0.8858\n",
      "Epoch 193/200\n",
      "14/14 [==============================] - 0s 958us/step - loss: 0.2568 - accuracy: 0.8858\n",
      "Epoch 194/200\n",
      "14/14 [==============================] - 0s 1ms/step - loss: 0.2545 - accuracy: 0.8811\n",
      "Epoch 195/200\n",
      "14/14 [==============================] - 0s 1ms/step - loss: 0.2543 - accuracy: 0.8834\n",
      "Epoch 196/200\n",
      "14/14 [==============================] - 0s 1ms/step - loss: 0.2527 - accuracy: 0.8858\n",
      "Epoch 197/200\n",
      "14/14 [==============================] - 0s 1ms/step - loss: 0.2531 - accuracy: 0.8811\n",
      "Epoch 198/200\n",
      "14/14 [==============================] - 0s 864us/step - loss: 0.2527 - accuracy: 0.8881\n",
      "Epoch 199/200\n",
      "14/14 [==============================] - 0s 835us/step - loss: 0.2517 - accuracy: 0.8858\n",
      "Epoch 200/200\n",
      "14/14 [==============================] - 0s 770us/step - loss: 0.2504 - accuracy: 0.8881\n"
     ]
    }
   ],
   "source": [
    "from tensorflow.keras.models import Sequential\n",
    "from tensorflow.keras.layers import Dense\n",
    "\n",
    "model = Sequential()\n",
    "\n",
    "# add first hidden layer\n",
    "model.add(Dense(32,activation='relu',input_dim=7))\n",
    "# Second hidden layer\n",
    "model.add(Dense(16,activation='relu'))\n",
    "# Output layer\n",
    "model.add(Dense(1,activation='sigmoid'))\n",
    "# Compile the model\n",
    "model.compile(optimizer='adam', loss='binary_crossentropy',metrics=['accuracy'])\n",
    "run_hist_2 = model.fit(X_train,y_train,epochs=200)"
   ],
   "metadata": {
    "collapsed": false,
    "pycharm": {
     "name": "#%%\n"
    }
   }
  },
  {
   "cell_type": "code",
   "execution_count": 105,
   "outputs": [
    {
     "data": {
      "text/plain": "[<matplotlib.lines.Line2D at 0x7f54803ba5e0>]"
     },
     "execution_count": 105,
     "metadata": {},
     "output_type": "execute_result"
    },
    {
     "data": {
      "text/plain": "<Figure size 1500x500 with 1 Axes>",
      "image/png": "[encoded data removed]"
     },
     "metadata": {},
     "output_type": "display_data"
    }
   ],
   "source": [
    "fig, ax = plt.subplots()\n",
    "ax.plot(run_hist_2.history[\"loss\"], 'r', marker='.', label=\"Train Loss\")"
   ],
   "metadata": {
    "collapsed": false,
    "pycharm": {
     "name": "#%%\n"
    }
   }
  },
  {
   "cell_type": "code",
   "execution_count": 106,
   "outputs": [
    {
     "name": "stdout",
     "output_type": "stream",
     "text": [
      "14/14 [==============================] - 0s 821us/step - loss: 0.2474 - accuracy: 0.8881\n",
      "Training Accuracy: 88.81%\n",
      "\n",
      "4/4 [==============================] - 0s 1ms/step - loss: 0.4767 - accuracy: 0.8056\n",
      "Testing Accuracy: 80.56%\n",
      "\n"
     ]
    }
   ],
   "source": [
    "# Train and Test accuracy\n",
    "scores = model.evaluate(X_train,y_train)\n",
    "print(\"Training Accuracy: %.2f%%\\n\" % (scores[1]*100))\n",
    "scores = model.evaluate(X_test,y_test)\n",
    "print(\"Testing Accuracy: %.2f%%\\n\" % (scores[1]*100))"
   ],
   "metadata": {
    "collapsed": false,
    "pycharm": {
     "name": "#%%\n"
    }
   }
  },
  {
   "cell_type": "code",
   "execution_count": 108,
   "outputs": [
    {
     "name": "stderr",
     "output_type": "stream",
     "text": [
      "/home/denys_herasymuk/anaconda3/envs/UCU_AI_Course_Project/lib/python3.8/site-packages/tensorflow/python/keras/engine/sequential.py:454: UserWarning: `model.predict_classes()` is deprecated and will be removed after 2021-01-01. Please use instead:* `np.argmax(model.predict(x), axis=-1)`,   if your model does multi-class classification   (e.g. if it uses a `softmax` last-layer activation).* `(model.predict(x) > 0.5).astype(\"int32\")`,   if your model does binary classification   (e.g. if it uses a `sigmoid` last-layer activation).\n",
      "  warnings.warn('`model.predict_classes()` is deprecated and '\n"
     ]
    },
    {
     "data": {
      "text/plain": "<Figure size 1500x500 with 2 Axes>",
      "image/png": "[encoded data removed]"
     },
     "metadata": {},
     "output_type": "display_data"
    }
   ],
   "source": [
    "y_test_pred = model.predict_classes(X_test)\n",
    "cm = confusion_matrix(y_test,y_test_pred)\n",
    "ax = sns.heatmap(cm,\n",
    "                 annot=True,\n",
    "                 xticklabels=[\"Not ill\",'ill'],\n",
    "                 yticklabels=[\"Not ill\",'ill'])\n",
    "ax.set_xlabel('Prediction')\n",
    "ax.set_ylabel('Actual')\n",
    "plt.show()"
   ],
   "metadata": {
    "collapsed": false,
    "pycharm": {
     "name": "#%%\n"
    }
   }
  },
  {
   "cell_type": "markdown",
   "source": [
    "<a id='section_3'></a>\n",
    "\n",
    "## Section 3. Test Set Evaluation"
   ],
   "metadata": {
    "collapsed": false
   }
  },
  {
   "cell_type": "code",
   "execution_count": 101,
   "outputs": [],
   "source": [
    "def test_evaluation(cur_best_model, cur_best_params,\n",
    "                    cur_x_train, cur_y_train, cur_x_test, cur_y_test,\n",
    "                    dataset_title):\n",
    "    cur_best_model.fit(cur_x_train, cur_y_train.values.ravel()) # refit model on the whole train set\n",
    "    cur_model_pred = cur_best_model.predict(cur_x_test)\n",
    "\n",
    "    print(\"#\" * 20, f' {dataset_title} ', \"#\" * 20)\n",
    "    print('Best model: ', cur_best_model)\n",
    "    print('Best model parameters:')\n",
    "    pprint(cur_best_params)\n",
    "\n",
    "    # print the scores\n",
    "    print()\n",
    "    print(classification_report(cur_y_test, cur_model_pred, digits=3))\n",
    "\n",
    "    # plot the confusion matrix\n",
    "    cm = confusion_matrix(cur_y_test, cur_model_pred, labels=cur_best_model.classes_)\n",
    "    disp = ConfusionMatrixDisplay(confusion_matrix=cm, display_labels=[\"ill\", \"Not ill\"])\n",
    "    disp.plot()\n",
    "    plt.show()"
   ],
   "metadata": {
    "collapsed": false,
    "pycharm": {
     "name": "#%%\n"
    }
   }
  },
  {
   "cell_type": "code",
   "execution_count": 115,
   "outputs": [
    {
     "name": "stdout",
     "output_type": "stream",
     "text": [
      "####################  Original Dataset  ####################\n",
      "Best model:  SVC(C=100, gamma=0.001, random_state=25)\n",
      "Best model parameters:\n",
      "{'C': 100, 'gamma': 0.001, 'kernel': 'rbf'}\n",
      "\n",
      "              precision    recall  f1-score   support\n",
      "\n",
      "           0      0.796     0.874     0.833       103\n",
      "           1      0.683     0.549     0.609        51\n",
      "\n",
      "    accuracy                          0.766       154\n",
      "   macro avg      0.740     0.711     0.721       154\n",
      "weighted avg      0.759     0.766     0.759       154\n",
      "\n"
     ]
    },
    {
     "data": {
      "text/plain": "<Figure size 1500x500 with 2 Axes>",
      "image/png": "[encoded data removed]"
     },
     "metadata": {},
     "output_type": "display_data"
    },
    {
     "name": "stdout",
     "output_type": "stream",
     "text": [
      "####################  ROS Balanced Dataset  ####################\n",
      "Best model:  SVC(C=1, gamma=1, random_state=25)\n",
      "Best model parameters:\n",
      "{'C': 1, 'gamma': 1, 'kernel': 'rbf'}\n",
      "\n",
      "              precision    recall  f1-score   support\n",
      "\n",
      "           0      0.820     0.788     0.804       104\n",
      "           1      0.780     0.812     0.796        96\n",
      "\n",
      "    accuracy                          0.800       200\n",
      "   macro avg      0.800     0.800     0.800       200\n",
      "weighted avg      0.801     0.800     0.800       200\n",
      "\n"
     ]
    },
    {
     "data": {
      "text/plain": "<Figure size 1500x500 with 2 Axes>",
      "image/png": "[encoded data removed]"
     },
     "metadata": {},
     "output_type": "display_data"
    },
    {
     "name": "stdout",
     "output_type": "stream",
     "text": [
      "####################  SMOTE Balanced Dataset  ####################\n",
      "Best model:  SVC(C=1, gamma=1, random_state=25)\n",
      "Best model parameters:\n",
      "{'C': 1, 'gamma': 1, 'kernel': 'rbf'}\n",
      "\n",
      "              precision    recall  f1-score   support\n",
      "\n",
      "           0      0.857     0.808     0.832       104\n",
      "           1      0.804     0.854     0.828        96\n",
      "\n",
      "    accuracy                          0.830       200\n",
      "   macro avg      0.831     0.831     0.830       200\n",
      "weighted avg      0.832     0.830     0.830       200\n",
      "\n"
     ]
    },
    {
     "data": {
      "text/plain": "<Figure size 1500x500 with 2 Axes>",
      "image/png": "[encoded data removed]"
     },
     "metadata": {},
     "output_type": "display_data"
    }
   ],
   "source": [
    "test_evaluation(ML_best_model, ML_best_params, X_train, y_train, X_test, y_test, \"Original Dataset\")\n",
    "test_evaluation(ros_best_model, ros_best_params, ros_X_train, ros_y_train, ros_X_test, ros_y_test, \"ROS Balanced Dataset\")\n",
    "test_evaluation(smote_best_model, smote_best_params, smote_X_train, smote_y_train, smote_X_test, smote_y_test, \"SMOTE Balanced Dataset\")"
   ],
   "metadata": {
    "collapsed": false,
    "pycharm": {
     "name": "#%%\n"
    }
   }
  },
  {
   "cell_type": "markdown",
   "source": [
    "### Retrain and save model"
   ],
   "metadata": {
    "collapsed": false,
    "pycharm": {
     "name": "#%% md\n"
    }
   }
  },
  {
   "cell_type": "code",
   "execution_count": 19,
   "outputs": [],
   "source": [
    "# x = pd.concat((X_train, X_test))\n",
    "# y = pd.concat((y_train, y_test))\n",
    "# best_model.fit(x, y)\n",
    "# \n",
    "# models_path = \"models\"\n",
    "# if not os.path.exists(models_path):\n",
    "#     os.mkdir(models_path)\n",
    "# pickle.dump(best_model, open(os.path.join(models_path, \"diabet_prediction_model.pkl\"), \"wb\"))"
   ],
   "metadata": {
    "collapsed": false,
    "pycharm": {
     "name": "#%%\n"
    }
   }
  }
 ],
 "metadata": {
  "kernelspec": {
   "display_name": "Python 3",
   "language": "python",
   "name": "python3"
  },
  "language_info": {
   "codemirror_mode": {
    "name": "ipython",
    "version": 2
   },
   "file_extension": ".py",
   "mimetype": "text/x-python",
   "name": "python",
   "nbconvert_exporter": "python",
   "pygments_lexer": "ipython2",
   "version": "2.7.6"
  }
 },
 "nbformat": 4,
 "nbformat_minor": 0
}
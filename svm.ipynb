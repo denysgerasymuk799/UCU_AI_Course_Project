{
 "cells": [
  {
   "cell_type": "code",
   "execution_count": 1,
   "metadata": {
    "pycharm": {
     "name": "#%%\n"
    }
   },
   "outputs": [],
   "source": [
    "from sklearn.svm import SVC\n",
    "from sklearn.model_selection import train_test_split, GridSearchCV\n",
    "from utils import scale_normalize\n",
    "\n",
    "import numpy as np\n",
    "import pandas as pd\n",
    "import matplotlib.pyplot as plt"
   ]
  },
  {
   "cell_type": "markdown",
   "metadata": {},
   "source": [
    "## Read Dataset"
   ]
  },
  {
   "cell_type": "code",
   "execution_count": 2,
   "metadata": {
    "pycharm": {
     "name": "#%%\n"
    }
   },
   "outputs": [],
   "source": [
    "df = pd.read_csv(\"./data/diabetes_processed.csv\")\n",
    "df = df.iloc[: , 1:] # Drop first column of dataframe"
   ]
  },
  {
   "cell_type": "markdown",
   "metadata": {},
   "source": [
    "## Scale & Normalize Data"
   ]
  },
  {
   "cell_type": "code",
   "execution_count": 3,
   "metadata": {
    "pycharm": {
     "name": "#%%\n"
    }
   },
   "outputs": [],
   "source": [
    "features = [\"Pregnancies\", \"Glucose\", \"Insulin\", \"BMI\", \"DiabetesPedigreeFunction\", \"Age\", \"DiabetesRisk\", \"Outcome\"]\n",
    "scaled_df = scale_normalize(df=df, features=features)"
   ]
  },
  {
   "cell_type": "markdown",
   "metadata": {},
   "source": [
    "## Split Data"
   ]
  },
  {
   "cell_type": "code",
   "execution_count": 4,
   "metadata": {},
   "outputs": [
    {
     "data": {
      "text/html": [
       "<div>\n",
       "<style scoped>\n",
       "    .dataframe tbody tr th:only-of-type {\n",
       "        vertical-align: middle;\n",
       "    }\n",
       "\n",
       "    .dataframe tbody tr th {\n",
       "        vertical-align: top;\n",
       "    }\n",
       "\n",
       "    .dataframe thead th {\n",
       "        text-align: right;\n",
       "    }\n",
       "</style>\n",
       "<table border=\"1\" class=\"dataframe\">\n",
       "  <thead>\n",
       "    <tr style=\"text-align: right;\">\n",
       "      <th></th>\n",
       "      <th>Pregnancies</th>\n",
       "      <th>Glucose</th>\n",
       "      <th>Insulin</th>\n",
       "      <th>BMI</th>\n",
       "      <th>DiabetesPedigreeFunction</th>\n",
       "      <th>Age</th>\n",
       "      <th>DiabetesRisk</th>\n",
       "    </tr>\n",
       "  </thead>\n",
       "  <tbody>\n",
       "    <tr>\n",
       "      <th>count</th>\n",
       "      <td>614.000000</td>\n",
       "      <td>614.000000</td>\n",
       "      <td>614.000000</td>\n",
       "      <td>614.000000</td>\n",
       "      <td>614.000000</td>\n",
       "      <td>614.000000</td>\n",
       "      <td>614.000000</td>\n",
       "    </tr>\n",
       "    <tr>\n",
       "      <th>mean</th>\n",
       "      <td>-0.000901</td>\n",
       "      <td>0.012476</td>\n",
       "      <td>0.012192</td>\n",
       "      <td>0.002368</td>\n",
       "      <td>0.007752</td>\n",
       "      <td>0.024265</td>\n",
       "      <td>0.013011</td>\n",
       "    </tr>\n",
       "    <tr>\n",
       "      <th>std</th>\n",
       "      <td>1.012489</td>\n",
       "      <td>1.011829</td>\n",
       "      <td>1.010449</td>\n",
       "      <td>1.004225</td>\n",
       "      <td>1.034108</td>\n",
       "      <td>0.996093</td>\n",
       "      <td>0.998618</td>\n",
       "    </tr>\n",
       "    <tr>\n",
       "      <th>min</th>\n",
       "      <td>-1.141852</td>\n",
       "      <td>-3.783654</td>\n",
       "      <td>-0.692891</td>\n",
       "      <td>-4.060474</td>\n",
       "      <td>-1.189553</td>\n",
       "      <td>-1.041549</td>\n",
       "      <td>-1.766465</td>\n",
       "    </tr>\n",
       "    <tr>\n",
       "      <th>25%</th>\n",
       "      <td>-0.844885</td>\n",
       "      <td>-0.685236</td>\n",
       "      <td>-0.692891</td>\n",
       "      <td>-0.595578</td>\n",
       "      <td>-0.687458</td>\n",
       "      <td>-0.786286</td>\n",
       "      <td>-0.832383</td>\n",
       "    </tr>\n",
       "    <tr>\n",
       "      <th>50%</th>\n",
       "      <td>-0.250952</td>\n",
       "      <td>-0.121888</td>\n",
       "      <td>-0.397672</td>\n",
       "      <td>0.000942</td>\n",
       "      <td>-0.322779</td>\n",
       "      <td>-0.360847</td>\n",
       "      <td>-0.037419</td>\n",
       "    </tr>\n",
       "    <tr>\n",
       "      <th>75%</th>\n",
       "      <td>0.639947</td>\n",
       "      <td>0.629244</td>\n",
       "      <td>0.435886</td>\n",
       "      <td>0.584771</td>\n",
       "      <td>0.467737</td>\n",
       "      <td>0.660206</td>\n",
       "      <td>0.678048</td>\n",
       "    </tr>\n",
       "    <tr>\n",
       "      <th>max</th>\n",
       "      <td>3.906578</td>\n",
       "      <td>2.444478</td>\n",
       "      <td>6.652839</td>\n",
       "      <td>4.455807</td>\n",
       "      <td>5.883565</td>\n",
       "      <td>3.297926</td>\n",
       "      <td>2.705205</td>\n",
       "    </tr>\n",
       "  </tbody>\n",
       "</table>\n",
       "</div>"
      ],
      "text/plain": [
       "       Pregnancies     Glucose     Insulin         BMI  \\\n",
       "count   614.000000  614.000000  614.000000  614.000000   \n",
       "mean     -0.000901    0.012476    0.012192    0.002368   \n",
       "std       1.012489    1.011829    1.010449    1.004225   \n",
       "min      -1.141852   -3.783654   -0.692891   -4.060474   \n",
       "25%      -0.844885   -0.685236   -0.692891   -0.595578   \n",
       "50%      -0.250952   -0.121888   -0.397672    0.000942   \n",
       "75%       0.639947    0.629244    0.435886    0.584771   \n",
       "max       3.906578    2.444478    6.652839    4.455807   \n",
       "\n",
       "       DiabetesPedigreeFunction         Age  DiabetesRisk  \n",
       "count                614.000000  614.000000    614.000000  \n",
       "mean                   0.007752    0.024265      0.013011  \n",
       "std                    1.034108    0.996093      0.998618  \n",
       "min                   -1.189553   -1.041549     -1.766465  \n",
       "25%                   -0.687458   -0.786286     -0.832383  \n",
       "50%                   -0.322779   -0.360847     -0.037419  \n",
       "75%                    0.467737    0.660206      0.678048  \n",
       "max                    5.883565    3.297926      2.705205  "
      ]
     },
     "execution_count": 4,
     "metadata": {},
     "output_type": "execute_result"
    }
   ],
   "source": [
    "# separate the dataframe onto features and target\n",
    "features_df = scaled_df.drop(\"Outcome\", axis=\"columns\")\n",
    "target_df = df[['Outcome']]\n",
    "\n",
    "# split the data on test and train\n",
    "X_train, X_test, y_train, y_test = \\\n",
    "    train_test_split(features_df, target_df, test_size=0.2, random_state=25)\n",
    "X_train.describe()"
   ]
  },
  {
   "cell_type": "markdown",
   "metadata": {},
   "source": [
    "## Train Model"
   ]
  },
  {
   "cell_type": "code",
   "execution_count": 5,
   "metadata": {
    "pycharm": {
     "name": "#%%\n"
    }
   },
   "outputs": [
    {
     "data": {
      "text/plain": [
       "SVC(C=1000, gamma=0.01, random_state=25)"
      ]
     },
     "execution_count": 5,
     "metadata": {},
     "output_type": "execute_result"
    }
   ],
   "source": [
    "# create a model\n",
    "model = SVC(random_state=25, C=1000, gamma=0.01)\n",
    "model.fit(X_train, y=np.ravel(y_train))"
   ]
  },
  {
   "cell_type": "markdown",
   "metadata": {},
   "source": [
    "## Test Model"
   ]
  },
  {
   "cell_type": "code",
   "execution_count": 6,
   "metadata": {
    "pycharm": {
     "name": "#%%\n"
    }
   },
   "outputs": [
    {
     "name": "stdout",
     "output_type": "stream",
     "text": [
      "F1 Score: 0.790278650743767\n",
      "Accuracy Score: 0.8311688311688312\n",
      "Precision Score: 0.8403361344537814\n",
      "Recall Score: 0.7698458023986294\n"
     ]
    },
    {
     "data": {
      "image/png": "[encoded data removed]",
      "text/plain": [
       "<Figure size 432x288 with 2 Axes>"
      ]
     },
     "metadata": {
      "needs_background": "light"
     },
     "output_type": "display_data"
    }
   ],
   "source": [
    "from sklearn.metrics import accuracy_score, f1_score, precision_score, recall_score\n",
    "from sklearn.metrics import confusion_matrix, ConfusionMatrixDisplay\n",
    "\n",
    "\n",
    "# let the model predict the results\n",
    "model_pred = model.predict(X_test)\n",
    "\n",
    "# print the scores\n",
    "print(\"F1 Score: {}\".format(f1_score(y_test, model_pred, average=\"macro\")))\n",
    "print(\"Accuracy Score: {}\".format(accuracy_score(y_test, model_pred)))\n",
    "print(\"Precision Score: {}\".format(precision_score(y_test, model_pred, average=\"macro\")))\n",
    "print(\"Recall Score: {}\".format(recall_score(y_test, model_pred, average=\"macro\")))\n",
    "\n",
    "# plot the confusion matrix\n",
    "cm = confusion_matrix(y_test, model_pred, labels=model.classes_)\n",
    "disp = ConfusionMatrixDisplay(confusion_matrix=cm, display_labels=[\"ill\", \"Not ill\"])\n",
    "disp.plot()\n",
    "plt.show()"
   ]
  },
  {
   "cell_type": "code",
   "execution_count": null,
   "metadata": {},
   "outputs": [],
   "source": []
  }
 ],
 "metadata": {
  "kernelspec": {
   "display_name": "Python 3",
   "language": "python",
   "name": "python3"
  },
  "language_info": {
   "codemirror_mode": {
    "name": "ipython",
    "version": 3
   },
   "file_extension": ".py",
   "mimetype": "text/x-python",
   "name": "python",
   "nbconvert_exporter": "python",
   "pygments_lexer": "ipython3",
   "version": "3.6.8"
  }
 },
 "nbformat": 4,
 "nbformat_minor": 1
}
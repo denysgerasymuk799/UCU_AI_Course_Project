{
 "cells": [
  {
   "cell_type": "markdown",
   "metadata": {
    "collapsed": true,
    "pycharm": {
     "name": "#%% md\n"
    }
   },
   "source": [
    "# Project title: Diabet Prediction [notebook 'Diabet_Prediction_Models']\n",
    "\n",
    "## Authors: Denys Herasymuk & Yaroslav Morozevych\n",
    "\n",
    "## Contents of This Notebook\n",
    "\n",
    "Click on the section and go to this cell immediately. (works only with Jupyter in browser)\n",
    "\n",
    "* [Section 1. Explore Data](#section_1)\n",
    "* [Section 2. Dataframe Balancing & Split Dataframe on Features and Target](#section_2)\n",
    "* [Section 3. Train, Validate and Test Models](#section_3)\n",
    "* [Section 4. Compare Results for Different Datasets](#section_4)\n",
    "* [Conclusion](#conclusion)\n",
    "\n",
    "When you use `Run All` button with this notebook, you should wait approx. 10-15 mins to get output of all cells.\n",
    "\n",
    "**How to run notebooks**\n",
    "\n",
    "* Create a new virtual env with python 3.8\n",
    "* In terminal run  -- `pip install -r requirements.txt`\n",
    "* Make notebook trusted, put a tick in the upper right corner"
   ]
  },
  {
   "cell_type": "markdown",
   "source": [
    "## General Configuration"
   ],
   "metadata": {
    "collapsed": false
   }
  },
  {
   "cell_type": "code",
   "execution_count": 1,
   "outputs": [
    {
     "name": "stderr",
     "output_type": "stream",
     "text": [
      "2022-01-16 21:22:17.727389: W tensorflow/stream_executor/platform/default/dso_loader.cc:64] Could not load dynamic library 'libcudart.so.11.0'; dlerror: libcudart.so.11.0: cannot open shared object file: No such file or directory\n",
      "2022-01-16 21:22:17.727408: I tensorflow/stream_executor/cuda/cudart_stub.cc:29] Ignore above cudart dlerror if you do not have a GPU set up on your machine.\n",
      "Using TensorFlow backend.\n"
     ]
    }
   ],
   "source": [
    "import os\n",
    "# to avoid some tensorflow CUDA warnings\n",
    "os.environ[\"CUDA_VISIBLE_DEVICES\"] = \"-1\"\n",
    "\n",
    "from utils import scale_normalize\n",
    "\n",
    "import sys\n",
    "import math\n",
    "import pickle\n",
    "import sklearn\n",
    "import itertools\n",
    "import matplotlib\n",
    "import numpy as np\n",
    "import pandas as pd\n",
    "import seaborn as sns\n",
    "import tensorflow as tf\n",
    "import matplotlib.pyplot as plt\n",
    "\n",
    "from pprint import pprint\n",
    "from copy import deepcopy\n",
    "\n",
    "from sklearn.svm import SVC\n",
    "from sklearn.metrics import make_scorer, accuracy_score, f1_score, precision_score, recall_score\n",
    "from sklearn.metrics import confusion_matrix, ConfusionMatrixDisplay, classification_report\n",
    "from sklearn.model_selection import train_test_split, GridSearchCV\n",
    "from sklearn.ensemble import RandomForestClassifier\n",
    "from sklearn.tree import DecisionTreeClassifier\n",
    "from xgboost import XGBClassifier\n",
    "from sklearn.neural_network import MLPClassifier\n",
    "from tensorflow.keras.models import Sequential\n",
    "from tensorflow.keras.layers import Dense"
   ],
   "metadata": {
    "collapsed": false,
    "pycharm": {
     "name": "#%%\n"
    }
   }
  },
  {
   "cell_type": "code",
   "execution_count": 2,
   "outputs": [],
   "source": [
    "%matplotlib inline\n",
    "\n",
    "plt.style.use('mpl20')\n",
    "matplotlib.rcParams['figure.dpi'] = 100\n",
    "matplotlib.rcParams['figure.figsize'] = 15, 5\n",
    "\n",
    "import warnings\n",
    "warnings.filterwarnings('ignore')\n",
    "\n",
    "os.environ[\"PYTHONWARNINGS\"] = \"ignore\""
   ],
   "metadata": {
    "collapsed": false,
    "pycharm": {
     "name": "#%%\n"
    }
   }
  },
  {
   "cell_type": "markdown",
   "source": [
    "## Python & Library Versions"
   ],
   "metadata": {
    "collapsed": false
   }
  },
  {
   "cell_type": "code",
   "execution_count": 3,
   "outputs": [
    {
     "name": "stdout",
     "output_type": "stream",
     "text": [
      "3.8.12 (default, Oct 12 2021, 13:49:34) \n",
      "[GCC 7.5.0] \n",
      "\n",
      "library    version\n",
      "------------------\n",
      "matplotlib  3.5.1\n",
      "numpy       1.19.2\n",
      "pandas      1.3.5\n",
      "seaborn     0.11.2\n",
      "sklearn     1.0.1\n",
      "tensorflow  2.7.0\n"
     ]
    }
   ],
   "source": [
    "versions = ( (\"matplotlib\", matplotlib.__version__),\n",
    "             (\"numpy\", np.__version__),\n",
    "             (\"pandas\", pd.__version__),\n",
    "             (\"seaborn\", sns.__version__),\n",
    "             (\"sklearn\", sklearn.__version__),\n",
    "             (\"tensorflow\", tf.__version__),\n",
    "             )\n",
    "\n",
    "print(sys.version, \"\\n\")\n",
    "print(\"library\" + \" \" * 4 + \"version\")\n",
    "print(\"-\" * 18)\n",
    "\n",
    "for tup1, tup2 in versions:\n",
    "    print(\"{:11} {}\".format(tup1, tup2))"
   ],
   "metadata": {
    "collapsed": false,
    "pycharm": {
     "name": "#%%\n"
    }
   }
  },
  {
   "cell_type": "markdown",
   "source": [
    "<a id='section_1'></a>\n",
    "\n",
    "## Section 1. Explore Data"
   ],
   "metadata": {
    "collapsed": false
   }
  },
  {
   "cell_type": "markdown",
   "source": [
    "In our project we are going to use two datasets: Pima Indians and Ranchi-835215. Such we can play with different features and understand really important features, also it helps us to validate better our approach to creating models for diabetes prediction.\n",
    "\n",
    "In this section we load datasets and make initial description as we have already done it in EDA notebook."
   ],
   "metadata": {
    "collapsed": false
   }
  },
  {
   "cell_type": "markdown",
   "source": [
    "### Pima Indians dataset"
   ],
   "metadata": {
    "collapsed": false
   }
  },
  {
   "cell_type": "code",
   "execution_count": 4,
   "outputs": [],
   "source": [
    "# laod dataset with removed record with incorrect values in \"BMI\", \"SkinThickness\" & \"BloodPressure\" columns\n",
    "diabetes_df = pd.read_csv(os.path.join(\".\", \"data\", \"diabetes_cleaned.csv\"))\n",
    "diabetes_df = diabetes_df.iloc[: , 1:] # Drop first column of dataframe"
   ],
   "metadata": {
    "collapsed": false,
    "pycharm": {
     "name": "#%%\n"
    }
   }
  },
  {
   "cell_type": "code",
   "execution_count": 5,
   "outputs": [
    {
     "data": {
      "text/plain": "   Pregnancies  Glucose  SkinThickness  Insulin   BMI  \\\n0            6      148             35        0  33.6   \n1            1       85             29        0  26.6   \n2            1       89             23       94  28.1   \n3            0      137             35      168  43.1   \n4            3       78             32       88  31.0   \n\n   DiabetesPedigreeFunction  Age  DiabetesRisk  Outcome  \n0                     0.627   50         1.880        1  \n1                     0.351   31         0.882        0  \n2                     0.167   21         0.240        0  \n3                     2.288   33         1.870        1  \n4                     0.248   26         0.240        1  ",
      "text/html": "<div>\n<style scoped>\n    .dataframe tbody tr th:only-of-type {\n        vertical-align: middle;\n    }\n\n    .dataframe tbody tr th {\n        vertical-align: top;\n    }\n\n    .dataframe thead th {\n        text-align: right;\n    }\n</style>\n<table border=\"1\" class=\"dataframe\">\n  <thead>\n    <tr style=\"text-align: right;\">\n      <th></th>\n      <th>Pregnancies</th>\n      <th>Glucose</th>\n      <th>SkinThickness</th>\n      <th>Insulin</th>\n      <th>BMI</th>\n      <th>DiabetesPedigreeFunction</th>\n      <th>Age</th>\n      <th>DiabetesRisk</th>\n      <th>Outcome</th>\n    </tr>\n  </thead>\n  <tbody>\n    <tr>\n      <th>0</th>\n      <td>6</td>\n      <td>148</td>\n      <td>35</td>\n      <td>0</td>\n      <td>33.6</td>\n      <td>0.627</td>\n      <td>50</td>\n      <td>1.880</td>\n      <td>1</td>\n    </tr>\n    <tr>\n      <th>1</th>\n      <td>1</td>\n      <td>85</td>\n      <td>29</td>\n      <td>0</td>\n      <td>26.6</td>\n      <td>0.351</td>\n      <td>31</td>\n      <td>0.882</td>\n      <td>0</td>\n    </tr>\n    <tr>\n      <th>2</th>\n      <td>1</td>\n      <td>89</td>\n      <td>23</td>\n      <td>94</td>\n      <td>28.1</td>\n      <td>0.167</td>\n      <td>21</td>\n      <td>0.240</td>\n      <td>0</td>\n    </tr>\n    <tr>\n      <th>3</th>\n      <td>0</td>\n      <td>137</td>\n      <td>35</td>\n      <td>168</td>\n      <td>43.1</td>\n      <td>2.288</td>\n      <td>33</td>\n      <td>1.870</td>\n      <td>1</td>\n    </tr>\n    <tr>\n      <th>4</th>\n      <td>3</td>\n      <td>78</td>\n      <td>32</td>\n      <td>88</td>\n      <td>31.0</td>\n      <td>0.248</td>\n      <td>26</td>\n      <td>0.240</td>\n      <td>1</td>\n    </tr>\n  </tbody>\n</table>\n</div>"
     },
     "execution_count": 5,
     "metadata": {},
     "output_type": "execute_result"
    }
   ],
   "source": [
    "diabetes_df.head()"
   ],
   "metadata": {
    "collapsed": false,
    "pycharm": {
     "name": "#%%\n"
    }
   }
  },
  {
   "cell_type": "markdown",
   "source": [
    "### Validate Data"
   ],
   "metadata": {
    "collapsed": false
   }
  },
  {
   "cell_type": "code",
   "execution_count": 6,
   "outputs": [
    {
     "data": {
      "text/plain": "       Pregnancies     Glucose  SkinThickness     Insulin         BMI  \\\ncount   537.000000  537.000000     537.000000  537.000000  537.000000   \nmean      3.510242  119.903166      29.186220  113.960894   32.890130   \nstd       3.304281   32.975142      10.505807  122.894735    6.875842   \nmin       0.000000    0.000000       7.000000    0.000000   18.200000   \n25%       1.000000   97.000000      22.000000    0.000000   27.800000   \n50%       2.000000  115.000000      29.000000   90.000000   32.800000   \n75%       5.000000  141.000000      36.000000  165.000000   36.900000   \nmax      17.000000  199.000000      99.000000  846.000000   67.100000   \n\n       DiabetesPedigreeFunction         Age  DiabetesRisk     Outcome  \ncount                537.000000  537.000000    537.000000  537.000000  \nmean                   0.501823   31.586592      0.957773    0.333333  \nstd                    0.343643   10.747286      0.528672    0.471844  \nmin                    0.085000   21.000000      0.000000    0.000000  \n25%                    0.259000   23.000000      0.552000    0.000000  \n50%                    0.415000   28.000000      0.878000    0.000000  \n75%                    0.658000   38.000000      1.328000    1.000000  \nmax                    2.420000   81.000000      2.110000    1.000000  ",
      "text/html": "<div>\n<style scoped>\n    .dataframe tbody tr th:only-of-type {\n        vertical-align: middle;\n    }\n\n    .dataframe tbody tr th {\n        vertical-align: top;\n    }\n\n    .dataframe thead th {\n        text-align: right;\n    }\n</style>\n<table border=\"1\" class=\"dataframe\">\n  <thead>\n    <tr style=\"text-align: right;\">\n      <th></th>\n      <th>Pregnancies</th>\n      <th>Glucose</th>\n      <th>SkinThickness</th>\n      <th>Insulin</th>\n      <th>BMI</th>\n      <th>DiabetesPedigreeFunction</th>\n      <th>Age</th>\n      <th>DiabetesRisk</th>\n      <th>Outcome</th>\n    </tr>\n  </thead>\n  <tbody>\n    <tr>\n      <th>count</th>\n      <td>537.000000</td>\n      <td>537.000000</td>\n      <td>537.000000</td>\n      <td>537.000000</td>\n      <td>537.000000</td>\n      <td>537.000000</td>\n      <td>537.000000</td>\n      <td>537.000000</td>\n      <td>537.000000</td>\n    </tr>\n    <tr>\n      <th>mean</th>\n      <td>3.510242</td>\n      <td>119.903166</td>\n      <td>29.186220</td>\n      <td>113.960894</td>\n      <td>32.890130</td>\n      <td>0.501823</td>\n      <td>31.586592</td>\n      <td>0.957773</td>\n      <td>0.333333</td>\n    </tr>\n    <tr>\n      <th>std</th>\n      <td>3.304281</td>\n      <td>32.975142</td>\n      <td>10.505807</td>\n      <td>122.894735</td>\n      <td>6.875842</td>\n      <td>0.343643</td>\n      <td>10.747286</td>\n      <td>0.528672</td>\n      <td>0.471844</td>\n    </tr>\n    <tr>\n      <th>min</th>\n      <td>0.000000</td>\n      <td>0.000000</td>\n      <td>7.000000</td>\n      <td>0.000000</td>\n      <td>18.200000</td>\n      <td>0.085000</td>\n      <td>21.000000</td>\n      <td>0.000000</td>\n      <td>0.000000</td>\n    </tr>\n    <tr>\n      <th>25%</th>\n      <td>1.000000</td>\n      <td>97.000000</td>\n      <td>22.000000</td>\n      <td>0.000000</td>\n      <td>27.800000</td>\n      <td>0.259000</td>\n      <td>23.000000</td>\n      <td>0.552000</td>\n      <td>0.000000</td>\n    </tr>\n    <tr>\n      <th>50%</th>\n      <td>2.000000</td>\n      <td>115.000000</td>\n      <td>29.000000</td>\n      <td>90.000000</td>\n      <td>32.800000</td>\n      <td>0.415000</td>\n      <td>28.000000</td>\n      <td>0.878000</td>\n      <td>0.000000</td>\n    </tr>\n    <tr>\n      <th>75%</th>\n      <td>5.000000</td>\n      <td>141.000000</td>\n      <td>36.000000</td>\n      <td>165.000000</td>\n      <td>36.900000</td>\n      <td>0.658000</td>\n      <td>38.000000</td>\n      <td>1.328000</td>\n      <td>1.000000</td>\n    </tr>\n    <tr>\n      <th>max</th>\n      <td>17.000000</td>\n      <td>199.000000</td>\n      <td>99.000000</td>\n      <td>846.000000</td>\n      <td>67.100000</td>\n      <td>2.420000</td>\n      <td>81.000000</td>\n      <td>2.110000</td>\n      <td>1.000000</td>\n    </tr>\n  </tbody>\n</table>\n</div>"
     },
     "execution_count": 6,
     "metadata": {},
     "output_type": "execute_result"
    }
   ],
   "source": [
    "diabetes_df.describe()"
   ],
   "metadata": {
    "collapsed": false,
    "pycharm": {
     "name": "#%%\n"
    }
   }
  },
  {
   "cell_type": "code",
   "execution_count": 7,
   "outputs": [
    {
     "data": {
      "text/plain": "Pregnancies                 0\nGlucose                     0\nSkinThickness               0\nInsulin                     0\nBMI                         0\nDiabetesPedigreeFunction    0\nAge                         0\nDiabetesRisk                0\nOutcome                     0\ndtype: int64"
     },
     "execution_count": 7,
     "metadata": {},
     "output_type": "execute_result"
    }
   ],
   "source": [
    "diabetes_df.isnull().sum()"
   ],
   "metadata": {
    "collapsed": false,
    "pycharm": {
     "name": "#%%\n"
    }
   }
  },
  {
   "cell_type": "code",
   "execution_count": 8,
   "outputs": [
    {
     "name": "stdout",
     "output_type": "stream",
     "text": [
      "Duplicate rows :\n"
     ]
    },
    {
     "data": {
      "text/plain": "Empty DataFrame\nColumns: [Pregnancies, Glucose, SkinThickness, Insulin, BMI, DiabetesPedigreeFunction, Age, DiabetesRisk, Outcome]\nIndex: []",
      "text/html": "<div>\n<style scoped>\n    .dataframe tbody tr th:only-of-type {\n        vertical-align: middle;\n    }\n\n    .dataframe tbody tr th {\n        vertical-align: top;\n    }\n\n    .dataframe thead th {\n        text-align: right;\n    }\n</style>\n<table border=\"1\" class=\"dataframe\">\n  <thead>\n    <tr style=\"text-align: right;\">\n      <th></th>\n      <th>Pregnancies</th>\n      <th>Glucose</th>\n      <th>SkinThickness</th>\n      <th>Insulin</th>\n      <th>BMI</th>\n      <th>DiabetesPedigreeFunction</th>\n      <th>Age</th>\n      <th>DiabetesRisk</th>\n      <th>Outcome</th>\n    </tr>\n  </thead>\n  <tbody>\n  </tbody>\n</table>\n</div>"
     },
     "execution_count": 8,
     "metadata": {},
     "output_type": "execute_result"
    }
   ],
   "source": [
    "# Selecting duplicate rows except first.\n",
    "# Occurrence based on all columns\n",
    "duplicates = diabetes_df[diabetes_df.duplicated()]\n",
    "\n",
    "print(\"Duplicate rows :\")\n",
    "duplicates"
   ],
   "metadata": {
    "collapsed": false,
    "pycharm": {
     "name": "#%%\n"
    }
   }
  },
  {
   "cell_type": "markdown",
   "source": [
    "### Ranchi-835215 dataset"
   ],
   "metadata": {
    "collapsed": false
   }
  },
  {
   "cell_type": "code",
   "execution_count": 9,
   "outputs": [],
   "source": [
    "ranchi_diabetes_df = pd.read_csv(os.path.join(\".\", \"data\", \"diabetes_2019_processed.csv\"))\n",
    "ranchi_diabetes_df = ranchi_diabetes_df.iloc[: , 1:] # Drop first column of dataframe"
   ],
   "metadata": {
    "collapsed": false,
    "pycharm": {
     "name": "#%%\n"
    }
   }
  },
  {
   "cell_type": "code",
   "execution_count": 10,
   "outputs": [
    {
     "data": {
      "text/plain": "   Age  Family_Diabetes  highBP   BMI  RegularMedicine  Stress  BPLevel  \\\n0    2                0       1  39.0              0.0       1      1.0   \n1    2                0       1  28.0              1.0       1      0.0   \n2    1                0       0  24.0              0.0       1      0.0   \n3    2                0       0  23.0              0.0       1      0.0   \n4    1                0       0  27.0              0.0       1      0.0   \n\n   Pregancies  Diabetic  \n0         0.0       0.0  \n1         0.0       0.0  \n2         0.0       0.0  \n3         0.0       0.0  \n4         0.0       0.0  ",
      "text/html": "<div>\n<style scoped>\n    .dataframe tbody tr th:only-of-type {\n        vertical-align: middle;\n    }\n\n    .dataframe tbody tr th {\n        vertical-align: top;\n    }\n\n    .dataframe thead th {\n        text-align: right;\n    }\n</style>\n<table border=\"1\" class=\"dataframe\">\n  <thead>\n    <tr style=\"text-align: right;\">\n      <th></th>\n      <th>Age</th>\n      <th>Family_Diabetes</th>\n      <th>highBP</th>\n      <th>BMI</th>\n      <th>RegularMedicine</th>\n      <th>Stress</th>\n      <th>BPLevel</th>\n      <th>Pregancies</th>\n      <th>Diabetic</th>\n    </tr>\n  </thead>\n  <tbody>\n    <tr>\n      <th>0</th>\n      <td>2</td>\n      <td>0</td>\n      <td>1</td>\n      <td>39.0</td>\n      <td>0.0</td>\n      <td>1</td>\n      <td>1.0</td>\n      <td>0.0</td>\n      <td>0.0</td>\n    </tr>\n    <tr>\n      <th>1</th>\n      <td>2</td>\n      <td>0</td>\n      <td>1</td>\n      <td>28.0</td>\n      <td>1.0</td>\n      <td>1</td>\n      <td>0.0</td>\n      <td>0.0</td>\n      <td>0.0</td>\n    </tr>\n    <tr>\n      <th>2</th>\n      <td>1</td>\n      <td>0</td>\n      <td>0</td>\n      <td>24.0</td>\n      <td>0.0</td>\n      <td>1</td>\n      <td>0.0</td>\n      <td>0.0</td>\n      <td>0.0</td>\n    </tr>\n    <tr>\n      <th>3</th>\n      <td>2</td>\n      <td>0</td>\n      <td>0</td>\n      <td>23.0</td>\n      <td>0.0</td>\n      <td>1</td>\n      <td>0.0</td>\n      <td>0.0</td>\n      <td>0.0</td>\n    </tr>\n    <tr>\n      <th>4</th>\n      <td>1</td>\n      <td>0</td>\n      <td>0</td>\n      <td>27.0</td>\n      <td>0.0</td>\n      <td>1</td>\n      <td>0.0</td>\n      <td>0.0</td>\n      <td>0.0</td>\n    </tr>\n  </tbody>\n</table>\n</div>"
     },
     "execution_count": 10,
     "metadata": {},
     "output_type": "execute_result"
    }
   ],
   "source": [
    "ranchi_diabetes_df.head()"
   ],
   "metadata": {
    "collapsed": false,
    "pycharm": {
     "name": "#%%\n"
    }
   }
  },
  {
   "cell_type": "markdown",
   "source": [
    "### Validate Data"
   ],
   "metadata": {
    "collapsed": false
   }
  },
  {
   "cell_type": "code",
   "execution_count": 11,
   "outputs": [
    {
     "data": {
      "text/plain": "              Age  Family_Diabetes      highBP         BMI  RegularMedicine  \\\ncount  902.000000       902.000000  902.000000  902.000000       902.000000   \nmean     0.970067         0.480044    0.242794   25.537694         0.358093   \nstd      1.141582         0.499879    0.429009    5.274509         0.479706   \nmin      0.000000         0.000000    0.000000   15.000000         0.000000   \n25%      0.000000         0.000000    0.000000   22.000000         0.000000   \n50%      0.000000         0.000000    0.000000   24.000000         0.000000   \n75%      2.000000         1.000000    0.000000   28.000000         1.000000   \nmax      3.000000         1.000000    1.000000   45.000000         1.000000   \n\n           Stress     BPLevel  Pregancies    Diabetic  \ncount  902.000000  902.000000  902.000000  902.000000  \nmean     1.221729    0.292683    0.385809    0.291574  \nstd      0.807604    0.516897    0.909768    0.454739  \nmin      0.000000    0.000000    0.000000    0.000000  \n25%      1.000000    0.000000    0.000000    0.000000  \n50%      1.000000    0.000000    0.000000    0.000000  \n75%      2.000000    1.000000    0.000000    1.000000  \nmax      3.000000    2.000000    4.000000    1.000000  ",
      "text/html": "<div>\n<style scoped>\n    .dataframe tbody tr th:only-of-type {\n        vertical-align: middle;\n    }\n\n    .dataframe tbody tr th {\n        vertical-align: top;\n    }\n\n    .dataframe thead th {\n        text-align: right;\n    }\n</style>\n<table border=\"1\" class=\"dataframe\">\n  <thead>\n    <tr style=\"text-align: right;\">\n      <th></th>\n      <th>Age</th>\n      <th>Family_Diabetes</th>\n      <th>highBP</th>\n      <th>BMI</th>\n      <th>RegularMedicine</th>\n      <th>Stress</th>\n      <th>BPLevel</th>\n      <th>Pregancies</th>\n      <th>Diabetic</th>\n    </tr>\n  </thead>\n  <tbody>\n    <tr>\n      <th>count</th>\n      <td>902.000000</td>\n      <td>902.000000</td>\n      <td>902.000000</td>\n      <td>902.000000</td>\n      <td>902.000000</td>\n      <td>902.000000</td>\n      <td>902.000000</td>\n      <td>902.000000</td>\n      <td>902.000000</td>\n    </tr>\n    <tr>\n      <th>mean</th>\n      <td>0.970067</td>\n      <td>0.480044</td>\n      <td>0.242794</td>\n      <td>25.537694</td>\n      <td>0.358093</td>\n      <td>1.221729</td>\n      <td>0.292683</td>\n      <td>0.385809</td>\n      <td>0.291574</td>\n    </tr>\n    <tr>\n      <th>std</th>\n      <td>1.141582</td>\n      <td>0.499879</td>\n      <td>0.429009</td>\n      <td>5.274509</td>\n      <td>0.479706</td>\n      <td>0.807604</td>\n      <td>0.516897</td>\n      <td>0.909768</td>\n      <td>0.454739</td>\n    </tr>\n    <tr>\n      <th>min</th>\n      <td>0.000000</td>\n      <td>0.000000</td>\n      <td>0.000000</td>\n      <td>15.000000</td>\n      <td>0.000000</td>\n      <td>0.000000</td>\n      <td>0.000000</td>\n      <td>0.000000</td>\n      <td>0.000000</td>\n    </tr>\n    <tr>\n      <th>25%</th>\n      <td>0.000000</td>\n      <td>0.000000</td>\n      <td>0.000000</td>\n      <td>22.000000</td>\n      <td>0.000000</td>\n      <td>1.000000</td>\n      <td>0.000000</td>\n      <td>0.000000</td>\n      <td>0.000000</td>\n    </tr>\n    <tr>\n      <th>50%</th>\n      <td>0.000000</td>\n      <td>0.000000</td>\n      <td>0.000000</td>\n      <td>24.000000</td>\n      <td>0.000000</td>\n      <td>1.000000</td>\n      <td>0.000000</td>\n      <td>0.000000</td>\n      <td>0.000000</td>\n    </tr>\n    <tr>\n      <th>75%</th>\n      <td>2.000000</td>\n      <td>1.000000</td>\n      <td>0.000000</td>\n      <td>28.000000</td>\n      <td>1.000000</td>\n      <td>2.000000</td>\n      <td>1.000000</td>\n      <td>0.000000</td>\n      <td>1.000000</td>\n    </tr>\n    <tr>\n      <th>max</th>\n      <td>3.000000</td>\n      <td>1.000000</td>\n      <td>1.000000</td>\n      <td>45.000000</td>\n      <td>1.000000</td>\n      <td>3.000000</td>\n      <td>2.000000</td>\n      <td>4.000000</td>\n      <td>1.000000</td>\n    </tr>\n  </tbody>\n</table>\n</div>"
     },
     "execution_count": 11,
     "metadata": {},
     "output_type": "execute_result"
    }
   ],
   "source": [
    "ranchi_diabetes_df.describe()"
   ],
   "metadata": {
    "collapsed": false,
    "pycharm": {
     "name": "#%%\n"
    }
   }
  },
  {
   "cell_type": "code",
   "execution_count": 12,
   "outputs": [
    {
     "data": {
      "text/plain": "Age                0\nFamily_Diabetes    0\nhighBP             0\nBMI                0\nRegularMedicine    0\nStress             0\nBPLevel            0\nPregancies         0\nDiabetic           0\ndtype: int64"
     },
     "execution_count": 12,
     "metadata": {},
     "output_type": "execute_result"
    }
   ],
   "source": [
    "ranchi_diabetes_df.isnull().sum()"
   ],
   "metadata": {
    "collapsed": false,
    "pycharm": {
     "name": "#%%\n"
    }
   }
  },
  {
   "cell_type": "markdown",
   "source": [
    "<a id='section_2'></a>\n",
    "\n",
    "## Section 2. Dataframe Balancing & Split Dataframe on Features and Target"
   ],
   "metadata": {
    "collapsed": false
   }
  },
  {
   "cell_type": "markdown",
   "source": [
    "### Pima Indians dataset"
   ],
   "metadata": {
    "collapsed": false
   }
  },
  {
   "cell_type": "code",
   "execution_count": 13,
   "outputs": [],
   "source": [
    "# choose the most relevant features based on data analysis in 01_Process_Data_and_EDA.ipynb\n",
    "features = [\"Pregnancies\", \"Glucose\", \"Insulin\", \"BMI\", \"DiabetesPedigreeFunction\", \"Age\", \"DiabetesRisk\", \"Outcome\"]\n",
    "scaled_df = scale_normalize(df=diabetes_df, features=features)"
   ],
   "metadata": {
    "collapsed": false,
    "pycharm": {
     "name": "#%%\n"
    }
   }
  },
  {
   "cell_type": "code",
   "execution_count": 14,
   "outputs": [],
   "source": [
    "# separate the dataframe onto features and target\n",
    "features_df = scaled_df.drop(\"Outcome\", axis=\"columns\")\n",
    "target_df = diabetes_df[['Outcome']]"
   ],
   "metadata": {
    "collapsed": false,
    "pycharm": {
     "name": "#%%\n"
    }
   }
  },
  {
   "cell_type": "code",
   "execution_count": 15,
   "outputs": [
    {
     "data": {
      "text/plain": "       Pregnancies     Glucose     Insulin         BMI  \\\ncount   429.000000  429.000000  429.000000  429.000000   \nmean      0.026907   -0.015174   -0.000175   -0.023233   \nstd       1.018347    0.969375    0.982606    0.981235   \nmin      -1.063322   -3.639559   -0.928170   -2.138477   \n25%      -0.760402   -0.664852   -0.928170   -0.740982   \n50%      -0.457482   -0.179186   -0.178863   -0.013120   \n75%       0.754197    0.610022    0.431984    0.569169   \nmax       4.086316    2.400917    5.131437    3.553402   \n\n       DiabetesPedigreeFunction         Age  DiabetesRisk  \ncount                429.000000  429.000000    429.000000  \nmean                   0.003571    0.010063      0.005302  \nstd                    0.990420    1.000519      1.002535  \nmin                   -1.214084   -0.985966     -1.813348  \n25%                   -0.716011   -0.706566     -0.768248  \n50%                   -0.247065   -0.334032     -0.151034  \n75%                    0.498588    0.597303      0.700950  \nmax                    5.322033    4.602044      2.181508  ",
      "text/html": "<div>\n<style scoped>\n    .dataframe tbody tr th:only-of-type {\n        vertical-align: middle;\n    }\n\n    .dataframe tbody tr th {\n        vertical-align: top;\n    }\n\n    .dataframe thead th {\n        text-align: right;\n    }\n</style>\n<table border=\"1\" class=\"dataframe\">\n  <thead>\n    <tr style=\"text-align: right;\">\n      <th></th>\n      <th>Pregnancies</th>\n      <th>Glucose</th>\n      <th>Insulin</th>\n      <th>BMI</th>\n      <th>DiabetesPedigreeFunction</th>\n      <th>Age</th>\n      <th>DiabetesRisk</th>\n    </tr>\n  </thead>\n  <tbody>\n    <tr>\n      <th>count</th>\n      <td>429.000000</td>\n      <td>429.000000</td>\n      <td>429.000000</td>\n      <td>429.000000</td>\n      <td>429.000000</td>\n      <td>429.000000</td>\n      <td>429.000000</td>\n    </tr>\n    <tr>\n      <th>mean</th>\n      <td>0.026907</td>\n      <td>-0.015174</td>\n      <td>-0.000175</td>\n      <td>-0.023233</td>\n      <td>0.003571</td>\n      <td>0.010063</td>\n      <td>0.005302</td>\n    </tr>\n    <tr>\n      <th>std</th>\n      <td>1.018347</td>\n      <td>0.969375</td>\n      <td>0.982606</td>\n      <td>0.981235</td>\n      <td>0.990420</td>\n      <td>1.000519</td>\n      <td>1.002535</td>\n    </tr>\n    <tr>\n      <th>min</th>\n      <td>-1.063322</td>\n      <td>-3.639559</td>\n      <td>-0.928170</td>\n      <td>-2.138477</td>\n      <td>-1.214084</td>\n      <td>-0.985966</td>\n      <td>-1.813348</td>\n    </tr>\n    <tr>\n      <th>25%</th>\n      <td>-0.760402</td>\n      <td>-0.664852</td>\n      <td>-0.928170</td>\n      <td>-0.740982</td>\n      <td>-0.716011</td>\n      <td>-0.706566</td>\n      <td>-0.768248</td>\n    </tr>\n    <tr>\n      <th>50%</th>\n      <td>-0.457482</td>\n      <td>-0.179186</td>\n      <td>-0.178863</td>\n      <td>-0.013120</td>\n      <td>-0.247065</td>\n      <td>-0.334032</td>\n      <td>-0.151034</td>\n    </tr>\n    <tr>\n      <th>75%</th>\n      <td>0.754197</td>\n      <td>0.610022</td>\n      <td>0.431984</td>\n      <td>0.569169</td>\n      <td>0.498588</td>\n      <td>0.597303</td>\n      <td>0.700950</td>\n    </tr>\n    <tr>\n      <th>max</th>\n      <td>4.086316</td>\n      <td>2.400917</td>\n      <td>5.131437</td>\n      <td>3.553402</td>\n      <td>5.322033</td>\n      <td>4.602044</td>\n      <td>2.181508</td>\n    </tr>\n  </tbody>\n</table>\n</div>"
     },
     "execution_count": 15,
     "metadata": {},
     "output_type": "execute_result"
    }
   ],
   "source": [
    "SEED = 25\n",
    "n_folds = 3\n",
    "\n",
    "# split the data on test and train\n",
    "X_train, X_test, y_train, y_test = train_test_split(features_df, target_df, test_size=0.2, random_state=SEED)\n",
    "samples_per_fold = len(y_test)\n",
    "X_train.describe()"
   ],
   "metadata": {
    "collapsed": false,
    "pycharm": {
     "name": "#%%\n"
    }
   }
  },
  {
   "cell_type": "markdown",
   "source": [
    "#### Dataset balancing. Random over-sampling with imblearn\n",
    "\n",
    "We can notice that our datasets are imbalanced, so logically to increase performance we need to balance train set.\n",
    "Note that we balance only train set, since we want to stay test set the same to make fair comparison of the model results on test set."
   ],
   "metadata": {
    "collapsed": false
   }
  },
  {
   "cell_type": "code",
   "execution_count": 16,
   "outputs": [
    {
     "data": {
      "text/plain": "Outcome\n0          358\n1          179\ndtype: int64"
     },
     "execution_count": 16,
     "metadata": {},
     "output_type": "execute_result"
    }
   ],
   "source": [
    "# analyse value proportions\n",
    "target_df.value_counts()"
   ],
   "metadata": {
    "collapsed": false,
    "pycharm": {
     "name": "#%%\n"
    }
   }
  },
  {
   "cell_type": "code",
   "execution_count": 17,
   "outputs": [
    {
     "data": {
      "text/plain": "Outcome\n0          291\n1          138\ndtype: int64"
     },
     "execution_count": 17,
     "metadata": {},
     "output_type": "execute_result"
    }
   ],
   "source": [
    "y_train.value_counts()"
   ],
   "metadata": {
    "collapsed": false,
    "pycharm": {
     "name": "#%%\n"
    }
   }
  },
  {
   "cell_type": "code",
   "execution_count": 18,
   "outputs": [
    {
     "name": "stdout",
     "output_type": "stream",
     "text": [
      "Original dataset shape 429\n",
      "Resample dataset shape 582\n"
     ]
    },
    {
     "data": {
      "text/plain": "Outcome\n0          291\n1          291\ndtype: int64"
     },
     "execution_count": 18,
     "metadata": {},
     "output_type": "execute_result"
    }
   ],
   "source": [
    "from imblearn.over_sampling import RandomOverSampler\n",
    "\n",
    "ros = RandomOverSampler(random_state=SEED)\n",
    "\n",
    "# fit predictor and target variable\n",
    "ros_X_train, ros_y_train = ros.fit_resample(X_train, y_train)\n",
    "\n",
    "print('Original dataset shape', len(y_train))\n",
    "print('Resample dataset shape', len(ros_y_train))\n",
    "print('\\nResults after balancing')\n",
    "ros_y_train.value_counts()"
   ],
   "metadata": {
    "collapsed": false,
    "pycharm": {
     "name": "#%%\n"
    }
   }
  },
  {
   "cell_type": "markdown",
   "source": [
    "#### Dataset balancing. Synthetic Minority Oversampling Technique (SMOTE)"
   ],
   "metadata": {
    "collapsed": false
   }
  },
  {
   "cell_type": "code",
   "execution_count": 19,
   "outputs": [
    {
     "name": "stdout",
     "output_type": "stream",
     "text": [
      "Original dataset shape 429\n",
      "Resample dataset shape 582\n"
     ]
    },
    {
     "data": {
      "text/plain": "Outcome\n0          291\n1          291\ndtype: int64"
     },
     "execution_count": 19,
     "metadata": {},
     "output_type": "execute_result"
    }
   ],
   "source": [
    "from imblearn.over_sampling import SMOTE\n",
    "\n",
    "smote = SMOTE(random_state=SEED)\n",
    "\n",
    "# fit predictor and target variable\n",
    "smote_X_train, smote_y_train = smote.fit_resample(X_train, y_train)\n",
    "\n",
    "print('Original dataset shape', len(y_train))\n",
    "print('Resample dataset shape', len(smote_y_train))\n",
    "print('\\nResults after balancing')\n",
    "smote_y_train.value_counts()"
   ],
   "metadata": {
    "collapsed": false,
    "pycharm": {
     "name": "#%%\n"
    }
   }
  },
  {
   "cell_type": "markdown",
   "source": [
    "### Ranchi-835215 dataset"
   ],
   "metadata": {
    "collapsed": false
   }
  },
  {
   "cell_type": "code",
   "execution_count": 20,
   "outputs": [
    {
     "data": {
      "text/plain": "              Age  Family_Diabetes      highBP         BMI  RegularMedicine  \\\ncount  721.000000       721.000000  721.000000  721.000000       721.000000   \nmean    -0.017527         0.008018   -0.013115   -0.007282        -0.012107   \nstd      0.990853         1.000982    0.992704    1.003187         0.997028   \nmin     -0.850228        -0.960854   -0.566255   -1.998962        -0.746899   \n25%     -0.850228        -0.960854   -0.566255   -0.671087        -0.746899   \n50%     -0.850228        -0.960854   -0.566255   -0.291695        -0.746899   \n75%      0.902699         1.040741   -0.566255    0.467090         1.338869   \nmax      1.779162         1.040741    1.765990    3.691927         1.338869   \n\n           Stress     BPLevel  Pregancies  \ncount  721.000000  721.000000  721.000000  \nmean    -0.016955   -0.010804   -0.035341  \nstd      1.008187    0.998468    0.972357  \nmin     -1.513622   -0.566544   -0.424309  \n25%     -0.274705   -0.566544   -0.424309  \n50%     -0.274705   -0.566544   -0.424309  \n75%      0.964213    1.369149   -0.424309  \nmax      2.203130    3.304843    3.974853  ",
      "text/html": "<div>\n<style scoped>\n    .dataframe tbody tr th:only-of-type {\n        vertical-align: middle;\n    }\n\n    .dataframe tbody tr th {\n        vertical-align: top;\n    }\n\n    .dataframe thead th {\n        text-align: right;\n    }\n</style>\n<table border=\"1\" class=\"dataframe\">\n  <thead>\n    <tr style=\"text-align: right;\">\n      <th></th>\n      <th>Age</th>\n      <th>Family_Diabetes</th>\n      <th>highBP</th>\n      <th>BMI</th>\n      <th>RegularMedicine</th>\n      <th>Stress</th>\n      <th>BPLevel</th>\n      <th>Pregancies</th>\n    </tr>\n  </thead>\n  <tbody>\n    <tr>\n      <th>count</th>\n      <td>721.000000</td>\n      <td>721.000000</td>\n      <td>721.000000</td>\n      <td>721.000000</td>\n      <td>721.000000</td>\n      <td>721.000000</td>\n      <td>721.000000</td>\n      <td>721.000000</td>\n    </tr>\n    <tr>\n      <th>mean</th>\n      <td>-0.017527</td>\n      <td>0.008018</td>\n      <td>-0.013115</td>\n      <td>-0.007282</td>\n      <td>-0.012107</td>\n      <td>-0.016955</td>\n      <td>-0.010804</td>\n      <td>-0.035341</td>\n    </tr>\n    <tr>\n      <th>std</th>\n      <td>0.990853</td>\n      <td>1.000982</td>\n      <td>0.992704</td>\n      <td>1.003187</td>\n      <td>0.997028</td>\n      <td>1.008187</td>\n      <td>0.998468</td>\n      <td>0.972357</td>\n    </tr>\n    <tr>\n      <th>min</th>\n      <td>-0.850228</td>\n      <td>-0.960854</td>\n      <td>-0.566255</td>\n      <td>-1.998962</td>\n      <td>-0.746899</td>\n      <td>-1.513622</td>\n      <td>-0.566544</td>\n      <td>-0.424309</td>\n    </tr>\n    <tr>\n      <th>25%</th>\n      <td>-0.850228</td>\n      <td>-0.960854</td>\n      <td>-0.566255</td>\n      <td>-0.671087</td>\n      <td>-0.746899</td>\n      <td>-0.274705</td>\n      <td>-0.566544</td>\n      <td>-0.424309</td>\n    </tr>\n    <tr>\n      <th>50%</th>\n      <td>-0.850228</td>\n      <td>-0.960854</td>\n      <td>-0.566255</td>\n      <td>-0.291695</td>\n      <td>-0.746899</td>\n      <td>-0.274705</td>\n      <td>-0.566544</td>\n      <td>-0.424309</td>\n    </tr>\n    <tr>\n      <th>75%</th>\n      <td>0.902699</td>\n      <td>1.040741</td>\n      <td>-0.566255</td>\n      <td>0.467090</td>\n      <td>1.338869</td>\n      <td>0.964213</td>\n      <td>1.369149</td>\n      <td>-0.424309</td>\n    </tr>\n    <tr>\n      <th>max</th>\n      <td>1.779162</td>\n      <td>1.040741</td>\n      <td>1.765990</td>\n      <td>3.691927</td>\n      <td>1.338869</td>\n      <td>2.203130</td>\n      <td>3.304843</td>\n      <td>3.974853</td>\n    </tr>\n  </tbody>\n</table>\n</div>"
     },
     "execution_count": 20,
     "metadata": {},
     "output_type": "execute_result"
    }
   ],
   "source": [
    "# choose the most relevant features\n",
    "features = [\"Age\", \"Family_Diabetes\", \"highBP\", \"BMI\", \"RegularMedicine\", \"Stress\", \"BPLevel\", \"Pregancies\", \"Diabetic\"]\n",
    "scaled_df = scale_normalize(df=ranchi_diabetes_df, features=features)\n",
    "\n",
    "# separate the dataframe onto features and target\n",
    "ranchi_features_df = scaled_df.drop(\"Diabetic\", axis=\"columns\")\n",
    "ranchi_target_df = ranchi_diabetes_df[['Diabetic']]\n",
    "\n",
    "# split the data on test and train\n",
    "ranchi_X_train, ranchi_X_test, ranchi_y_train, ranchi_y_test = train_test_split(ranchi_features_df, ranchi_target_df, test_size=0.2, random_state=SEED)\n",
    "ranchi__samples_per_fold = len(ranchi_y_test)\n",
    "ranchi_X_train.describe()"
   ],
   "metadata": {
    "collapsed": false,
    "pycharm": {
     "name": "#%%\n"
    }
   }
  },
  {
   "cell_type": "markdown",
   "source": [
    "#### Random over-sampling with imblearn"
   ],
   "metadata": {
    "collapsed": false
   }
  },
  {
   "cell_type": "code",
   "execution_count": 21,
   "outputs": [
    {
     "data": {
      "text/plain": "Diabetic\n0.0         639\n1.0         263\ndtype: int64"
     },
     "execution_count": 21,
     "metadata": {},
     "output_type": "execute_result"
    }
   ],
   "source": [
    "# analyse value proportions\n",
    "ranchi_target_df.value_counts()"
   ],
   "metadata": {
    "collapsed": false,
    "pycharm": {
     "name": "#%%\n"
    }
   }
  },
  {
   "cell_type": "code",
   "execution_count": 22,
   "outputs": [
    {
     "data": {
      "text/plain": "Diabetic\n0.0         513\n1.0         208\ndtype: int64"
     },
     "execution_count": 22,
     "metadata": {},
     "output_type": "execute_result"
    }
   ],
   "source": [
    "ranchi_y_train.value_counts()"
   ],
   "metadata": {
    "collapsed": false,
    "pycharm": {
     "name": "#%%\n"
    }
   }
  },
  {
   "cell_type": "code",
   "execution_count": 23,
   "outputs": [
    {
     "name": "stdout",
     "output_type": "stream",
     "text": [
      "Original dataset shape 721\n",
      "Resample dataset shape 1026\n"
     ]
    },
    {
     "data": {
      "text/plain": "Diabetic\n0.0         513\n1.0         513\ndtype: int64"
     },
     "execution_count": 23,
     "metadata": {},
     "output_type": "execute_result"
    }
   ],
   "source": [
    "# fit predictor and target variable\n",
    "ros_ranchi_X_train, ros_ranchi_y_train = ros.fit_resample(ranchi_X_train, ranchi_y_train)\n",
    "\n",
    "print('Original dataset shape', len(ranchi_y_train))\n",
    "print('Resample dataset shape', len(ros_ranchi_y_train))\n",
    "print('\\nResults after balancing')\n",
    "ros_ranchi_y_train.value_counts()"
   ],
   "metadata": {
    "collapsed": false,
    "pycharm": {
     "name": "#%%\n"
    }
   }
  },
  {
   "cell_type": "markdown",
   "source": [
    "#### Synthetic Minority Oversampling Technique (SMOTE)"
   ],
   "metadata": {
    "collapsed": false
   }
  },
  {
   "cell_type": "code",
   "execution_count": 24,
   "outputs": [
    {
     "name": "stdout",
     "output_type": "stream",
     "text": [
      "Original dataset shape 721\n",
      "Resample dataset shape 1026\n"
     ]
    },
    {
     "data": {
      "text/plain": "Diabetic\n0.0         513\n1.0         513\ndtype: int64"
     },
     "execution_count": 24,
     "metadata": {},
     "output_type": "execute_result"
    }
   ],
   "source": [
    "# fit predictor and target variable\n",
    "smote_ranchi_X_train, smote_ranchi_y_train = smote.fit_resample(ranchi_X_train, ranchi_y_train)\n",
    "\n",
    "print('Original dataset shape', len(ranchi_y_train))\n",
    "print('Resample dataset shape', len(smote_ranchi_y_train))\n",
    "print('\\nResults after balancing')\n",
    "smote_ranchi_y_train.value_counts()"
   ],
   "metadata": {
    "collapsed": false,
    "pycharm": {
     "name": "#%%\n"
    }
   }
  },
  {
   "cell_type": "markdown",
   "source": [
    "<a id='section_3'></a>\n",
    "\n",
    "## Section 3. Train, Validate and Test Models"
   ],
   "metadata": {
    "collapsed": false
   }
  },
  {
   "cell_type": "markdown",
   "source": [
    "Now when the train set is balanced, we can start model development. In this section we are going to train, validate and test models, for each of the best ML and DL model for different datasets we save results in best_results_df to compare them later.\n",
    "\n",
    "Here the main approach is: fit on train set, tune hyper-parameters on validate set and evaluate on test set. We use the same test set for fair comparison."
   ],
   "metadata": {
    "collapsed": false
   }
  },
  {
   "cell_type": "code",
   "execution_count": 25,
   "outputs": [],
   "source": [
    "best_results_df = pd.DataFrame(columns=('Dataset_Name', 'Model_Name', 'F1_Score',\n",
    "                                   'Accuracy_Score',\n",
    "                                   'Model_Best_Params', 'Model_Pred'))"
   ],
   "metadata": {
    "collapsed": false,
    "pycharm": {
     "name": "#%%\n"
    }
   }
  },
  {
   "cell_type": "code",
   "execution_count": 26,
   "outputs": [],
   "source": [
    "def folds_iterator(n_folds, samples_per_fold, size):\n",
    "    \"\"\"\n",
    "    Iterator for GridSearch based on Cross-Validation\n",
    "\n",
    "    :param n_folds: number of folds for Cross-Validation\n",
    "    :param samples_per_fold: number of samples per fold\n",
    "    \"\"\"\n",
    "    for i in range(n_folds):\n",
    "        yield np.arange(0, size - samples_per_fold * (i + 1)), \\\n",
    "              np.arange(size - samples_per_fold * (i + 1), size - samples_per_fold * i)\n"
   ],
   "metadata": {
    "collapsed": false,
    "pycharm": {
     "name": "#%%\n"
    }
   }
  },
  {
   "cell_type": "code",
   "execution_count": 27,
   "outputs": [],
   "source": [
    "def validate_model(model, x, y, params, n_folds, samples_per_fold):\n",
    "    \"\"\"\n",
    "    Use GridSearchCV for a special model to find the best hyperparameters based on validation set\n",
    "    \"\"\"\n",
    "    grid_search = GridSearchCV(estimator=model,\n",
    "                               param_grid=params,\n",
    "                               scoring={\n",
    "                                   \"F1_Score\": make_scorer(f1_score, average='macro'),\n",
    "                                   \"Accuracy_Score\": make_scorer(accuracy_score),\n",
    "                               },\n",
    "                               refit=\"F1_Score\",\n",
    "                               n_jobs=-1,\n",
    "                               cv=folds_iterator(n_folds, samples_per_fold, x.shape[0]))\n",
    "    grid_search.fit(x, y.values.ravel())\n",
    "    best_index = grid_search.best_index_\n",
    "\n",
    "    return grid_search.best_estimator_,\\\n",
    "           grid_search.cv_results_[\"mean_test_F1_Score\"][best_index],\\\n",
    "           grid_search.cv_results_[\"mean_test_Accuracy_Score\"][best_index],\\\n",
    "           grid_search.best_params_\n",
    "\n",
    "\n",
    "def test_evaluation(cur_best_model, model_name, cur_best_params,\n",
    "                    cur_x_train, cur_y_train, cur_x_test, cur_y_test,\n",
    "                    dataset_title, show_plots, debug_mode):\n",
    "    \"\"\"\n",
    "    Evaluate model on test set.\n",
    "\n",
    "    :return: F1 score, accuracy and predicted values, which we use to visualisations for model comparison later.\n",
    "    \"\"\"\n",
    "    cur_best_model.fit(cur_x_train, cur_y_train.values.ravel()) # refit model on the whole train set\n",
    "    cur_model_pred = cur_best_model.predict(cur_x_test)\n",
    "    test_f1_score = f1_score(cur_y_test, cur_model_pred, average='macro')\n",
    "    test_accuracy = accuracy_score(cur_y_test, cur_model_pred)\n",
    "\n",
    "    if debug_mode:\n",
    "        print(\"#\" * 20, f' {dataset_title} ', \"#\" * 20)\n",
    "        print('Test model: ', model_name)\n",
    "        print('Test model parameters:')\n",
    "        pprint(cur_best_params)\n",
    "\n",
    "        # print the scores\n",
    "        print()\n",
    "        print(classification_report(cur_y_test, cur_model_pred, digits=3))\n",
    "\n",
    "        if show_plots:\n",
    "            # plot the confusion matrix\n",
    "            cm = confusion_matrix(cur_y_test, cur_model_pred, labels=cur_best_model.classes_)\n",
    "            disp = ConfusionMatrixDisplay(confusion_matrix=cm, display_labels=[\"ill\", \"Not ill\"])\n",
    "            disp.plot()\n",
    "            plt.show()\n",
    "    return test_f1_score, test_accuracy, cur_model_pred\n"
   ],
   "metadata": {
    "collapsed": false,
    "pycharm": {
     "name": "#%%\n"
    }
   }
  },
  {
   "cell_type": "markdown",
   "source": [
    "#### Test ML models\n",
    "\n",
    "In this part we find the best ML model among RandomForestClassifier, DecisionTreeClassifier, SVM and XGBoost."
   ],
   "metadata": {
    "collapsed": false
   }
  },
  {
   "cell_type": "code",
   "execution_count": 28,
   "outputs": [],
   "source": [
    "def test_ML_models(best_results_df, X_train, y_train, X_test, y_test, dataset_title, show_plots, debug_mode):\n",
    "    \"\"\"\n",
    "    Find the best model from defined list.\n",
    "    Tune each model on a validation set with GridSearchCV and\n",
    "    return best_model with its hyper-parameters, which has the highest F1 score\n",
    "    \"\"\"\n",
    "    results_df = pd.DataFrame(columns=('Dataset_Name', 'Model_Name', 'F1_Score',\n",
    "                                       'Accuracy_Score',\n",
    "                                       'Model_Best_Params'))\n",
    "\n",
    "    config_models = [\n",
    "        {\n",
    "            'model_name': 'RandomForestClassifier',\n",
    "            'model': RandomForestClassifier(random_state=SEED),\n",
    "            'params': {\n",
    "                \"bootstrap\": [True, False],\n",
    "                \"max_depth\": [3, 4, 6, 10],\n",
    "                \"min_samples_split\": [2, 6],\n",
    "                \"min_samples_leaf\": [1, 2, 4],\n",
    "                \"n_estimators\": [5 * i for i in range(1, 7)],\n",
    "                \"max_features\": [0.6, 'auto', 'sqrt']\n",
    "            }\n",
    "        },\n",
    "        {\n",
    "            'model_name': 'DecisionTreeClassifier',\n",
    "            'model': DecisionTreeClassifier(random_state=SEED),\n",
    "            'params': {\n",
    "                \"max_depth\": [2, 3, 4, 6, 10],\n",
    "                \"min_samples_split\": [2, 6],\n",
    "                \"min_samples_leaf\": [1, 2, 4],\n",
    "                \"max_features\": [0.6, 'auto', 'sqrt'],\n",
    "                \"criterion\": [\"gini\", \"entropy\"]\n",
    "            }\n",
    "        },\n",
    "        {\n",
    "            'model_name': 'SVC',\n",
    "            'model': SVC(random_state=SEED),\n",
    "            'params': {\n",
    "                'C': [0.1, 1, 10, 100, 1000],\n",
    "                'gamma': [1, 0.1, 0.01, 0.001, 0.0001],\n",
    "                'kernel': ['rbf'],\n",
    "            }\n",
    "        },\n",
    "\n",
    "        # For XGBoost parameters tuning we used this article --\n",
    "        # https://www.analyticsvidhya.com/blog/2016/03/complete-guide-parameter-tuning-xgboost-with-codes-python/\n",
    "        #\n",
    "        # For faster running this notebook we left only the best combination of parameters,\n",
    "        # but for experiments e used next ones:\n",
    "        # 'params': {\n",
    "        #     'learning_rate': [0.1],\n",
    "        #     'n_estimators': [100],\n",
    "        #     'max_depth': range(3,10,2),\n",
    "        #     'min_child_weight': range(1,6,2),\n",
    "        #     'gamma': [i/10.0 for i in range(0,5)],\n",
    "        #     'objective':  ['binary:logistic'],\n",
    "        #     'nthread': [8]\n",
    "        # }\n",
    "        #\n",
    "        {\n",
    "            'model_name': 'XGBClassifier',\n",
    "            'model': XGBClassifier(random_state=SEED),\n",
    "            'params': {\n",
    "                'learning_rate': [0.1],\n",
    "                'n_estimators': [100],\n",
    "                'max_depth': [4],\n",
    "                'min_child_weight': [1],\n",
    "                'gamma': [0.3],\n",
    "                'objective':  ['binary:logistic'],\n",
    "                'nthread': [8]\n",
    "            }\n",
    "        },\n",
    "    ]\n",
    "\n",
    "    best_f1_score = -np.Inf\n",
    "    best_accuracy = -np.Inf\n",
    "    best_model_pred = []\n",
    "    best_model_name = 'No model'\n",
    "    best_params = None\n",
    "    idx = 0\n",
    "    # find the best model among defined in config_models\n",
    "    for model_config in config_models:\n",
    "        cur_model, cur_f1_score, cur_accuracy, cur_params = validate_model(deepcopy(model_config['model']),\n",
    "                                                                    X_train, y_train, model_config['params'],\n",
    "                                                                    n_folds, samples_per_fold)\n",
    "\n",
    "        test_f1_score, test_accuracy, cur_model_pred = test_evaluation(cur_model, model_config['model_name'], cur_params,\n",
    "                                                       X_train, y_train, X_test, y_test, dataset_title, show_plots, debug_mode)\n",
    "        # save test results of each model in dataframe\n",
    "        results_df.loc[idx] = [dataset_title,\n",
    "                               model_config['model_name'],\n",
    "                               test_f1_score,\n",
    "                               test_accuracy,\n",
    "                               cur_params]\n",
    "        idx += 1\n",
    "\n",
    "        if test_f1_score > best_f1_score:\n",
    "            best_f1_score = test_f1_score\n",
    "            best_accuracy = test_accuracy\n",
    "            best_model_name = model_config['model_name']\n",
    "            best_params = cur_params\n",
    "            best_model_pred = cur_model_pred\n",
    "\n",
    "    # append results of best model in best_results_df\n",
    "    best_results_df.loc[best_results_df.shape[0]] = [dataset_title,\n",
    "                                                     best_model_name,\n",
    "                                                     best_f1_score,\n",
    "                                                     best_accuracy,\n",
    "                                                     best_params,\n",
    "                                                     best_model_pred]\n",
    "\n",
    "    return results_df"
   ],
   "metadata": {
    "collapsed": false,
    "pycharm": {
     "name": "#%%\n"
    }
   }
  },
  {
   "cell_type": "markdown",
   "source": [
    "#### Results for Pima Indians dataset\n",
    "\n",
    "If you want, you can set show_plots to True and debug_mode to True to make deeper analysis of each tuned model results on the dataset."
   ],
   "metadata": {
    "collapsed": false
   }
  },
  {
   "cell_type": "code",
   "execution_count": 29,
   "outputs": [
    {
     "name": "stdout",
     "output_type": "stream",
     "text": [
      "[21:23:18] WARNING: ../src/learner.cc:1115: Starting in XGBoost 1.3.0, the default evaluation metric used with the objective 'binary:logistic' was changed from 'error' to 'logloss'. Explicitly set eval_metric if you'd like to restore the old behavior.\n",
      "[21:23:19] WARNING: ../src/learner.cc:1115: Starting in XGBoost 1.3.0, the default evaluation metric used with the objective 'binary:logistic' was changed from 'error' to 'logloss'. Explicitly set eval_metric if you'd like to restore the old behavior.\n"
     ]
    },
    {
     "data": {
      "text/plain": "             Dataset_Name              Model_Name  F1_Score  Accuracy_Score  \\\n0  Pima Indians, Original  RandomForestClassifier  0.788650        0.814815   \n1  Pima Indians, Original  DecisionTreeClassifier  0.783764        0.796296   \n2  Pima Indians, Original                     SVC  0.824121        0.842593   \n3  Pima Indians, Original           XGBClassifier  0.814998        0.833333   \n\n                                   Model_Best_Params  \n0  {'bootstrap': False, 'max_depth': 3, 'max_feat...  \n1  {'criterion': 'entropy', 'max_depth': 3, 'max_...  \n2        {'C': 100, 'gamma': 0.001, 'kernel': 'rbf'}  \n3  {'gamma': 0.3, 'learning_rate': 0.1, 'max_dept...  ",
      "text/html": "<div>\n<style scoped>\n    .dataframe tbody tr th:only-of-type {\n        vertical-align: middle;\n    }\n\n    .dataframe tbody tr th {\n        vertical-align: top;\n    }\n\n    .dataframe thead th {\n        text-align: right;\n    }\n</style>\n<table border=\"1\" class=\"dataframe\">\n  <thead>\n    <tr style=\"text-align: right;\">\n      <th></th>\n      <th>Dataset_Name</th>\n      <th>Model_Name</th>\n      <th>F1_Score</th>\n      <th>Accuracy_Score</th>\n      <th>Model_Best_Params</th>\n    </tr>\n  </thead>\n  <tbody>\n    <tr>\n      <th>0</th>\n      <td>Pima Indians, Original</td>\n      <td>RandomForestClassifier</td>\n      <td>0.788650</td>\n      <td>0.814815</td>\n      <td>{'bootstrap': False, 'max_depth': 3, 'max_feat...</td>\n    </tr>\n    <tr>\n      <th>1</th>\n      <td>Pima Indians, Original</td>\n      <td>DecisionTreeClassifier</td>\n      <td>0.783764</td>\n      <td>0.796296</td>\n      <td>{'criterion': 'entropy', 'max_depth': 3, 'max_...</td>\n    </tr>\n    <tr>\n      <th>2</th>\n      <td>Pima Indians, Original</td>\n      <td>SVC</td>\n      <td>0.824121</td>\n      <td>0.842593</td>\n      <td>{'C': 100, 'gamma': 0.001, 'kernel': 'rbf'}</td>\n    </tr>\n    <tr>\n      <th>3</th>\n      <td>Pima Indians, Original</td>\n      <td>XGBClassifier</td>\n      <td>0.814998</td>\n      <td>0.833333</td>\n      <td>{'gamma': 0.3, 'learning_rate': 0.1, 'max_dept...</td>\n    </tr>\n  </tbody>\n</table>\n</div>"
     },
     "execution_count": 29,
     "metadata": {},
     "output_type": "execute_result"
    }
   ],
   "source": [
    "ML_results_df = test_ML_models(best_results_df, X_train, y_train, X_test, y_test, \"Pima Indians, Original\", show_plots=False, debug_mode=False)\n",
    "ML_results_df"
   ],
   "metadata": {
    "collapsed": false,
    "pycharm": {
     "name": "#%%\n"
    }
   }
  },
  {
   "cell_type": "code",
   "execution_count": 30,
   "outputs": [
    {
     "name": "stdout",
     "output_type": "stream",
     "text": [
      "[21:23:36] WARNING: ../src/learner.cc:1115: Starting in XGBoost 1.3.0, the default evaluation metric used with the objective 'binary:logistic' was changed from 'error' to 'logloss'. Explicitly set eval_metric if you'd like to restore the old behavior.\n",
      "[21:23:36] WARNING: ../src/learner.cc:1115: Starting in XGBoost 1.3.0, the default evaluation metric used with the objective 'binary:logistic' was changed from 'error' to 'logloss'. Explicitly set eval_metric if you'd like to restore the old behavior.\n"
     ]
    },
    {
     "data": {
      "text/plain": "        Dataset_Name              Model_Name  F1_Score  Accuracy_Score  \\\n0  Pima Indians, ROS  RandomForestClassifier  0.817293        0.833333   \n1  Pima Indians, ROS  DecisionTreeClassifier  0.708333        0.740741   \n2  Pima Indians, ROS                     SVC  0.704110        0.740741   \n3  Pima Indians, ROS           XGBClassifier  0.851852        0.861111   \n\n                                   Model_Best_Params  \n0  {'bootstrap': False, 'max_depth': 10, 'max_fea...  \n1  {'criterion': 'entropy', 'max_depth': 10, 'max...  \n2            {'C': 100, 'gamma': 1, 'kernel': 'rbf'}  \n3  {'gamma': 0.3, 'learning_rate': 0.1, 'max_dept...  ",
      "text/html": "<div>\n<style scoped>\n    .dataframe tbody tr th:only-of-type {\n        vertical-align: middle;\n    }\n\n    .dataframe tbody tr th {\n        vertical-align: top;\n    }\n\n    .dataframe thead th {\n        text-align: right;\n    }\n</style>\n<table border=\"1\" class=\"dataframe\">\n  <thead>\n    <tr style=\"text-align: right;\">\n      <th></th>\n      <th>Dataset_Name</th>\n      <th>Model_Name</th>\n      <th>F1_Score</th>\n      <th>Accuracy_Score</th>\n      <th>Model_Best_Params</th>\n    </tr>\n  </thead>\n  <tbody>\n    <tr>\n      <th>0</th>\n      <td>Pima Indians, ROS</td>\n      <td>RandomForestClassifier</td>\n      <td>0.817293</td>\n      <td>0.833333</td>\n      <td>{'bootstrap': False, 'max_depth': 10, 'max_fea...</td>\n    </tr>\n    <tr>\n      <th>1</th>\n      <td>Pima Indians, ROS</td>\n      <td>DecisionTreeClassifier</td>\n      <td>0.708333</td>\n      <td>0.740741</td>\n      <td>{'criterion': 'entropy', 'max_depth': 10, 'max...</td>\n    </tr>\n    <tr>\n      <th>2</th>\n      <td>Pima Indians, ROS</td>\n      <td>SVC</td>\n      <td>0.704110</td>\n      <td>0.740741</td>\n      <td>{'C': 100, 'gamma': 1, 'kernel': 'rbf'}</td>\n    </tr>\n    <tr>\n      <th>3</th>\n      <td>Pima Indians, ROS</td>\n      <td>XGBClassifier</td>\n      <td>0.851852</td>\n      <td>0.861111</td>\n      <td>{'gamma': 0.3, 'learning_rate': 0.1, 'max_dept...</td>\n    </tr>\n  </tbody>\n</table>\n</div>"
     },
     "execution_count": 30,
     "metadata": {},
     "output_type": "execute_result"
    }
   ],
   "source": [
    "ros_ML_results_df = test_ML_models(best_results_df, ros_X_train, ros_y_train, X_test, y_test, \"Pima Indians, ROS\", show_plots=False, debug_mode=False)\n",
    "ros_ML_results_df"
   ],
   "metadata": {
    "collapsed": false,
    "pycharm": {
     "name": "#%%\n"
    }
   }
  },
  {
   "cell_type": "code",
   "execution_count": 31,
   "outputs": [
    {
     "name": "stdout",
     "output_type": "stream",
     "text": [
      "[21:24:00] WARNING: ../src/learner.cc:1115: Starting in XGBoost 1.3.0, the default evaluation metric used with the objective 'binary:logistic' was changed from 'error' to 'logloss'. Explicitly set eval_metric if you'd like to restore the old behavior.\n",
      "[21:24:00] WARNING: ../src/learner.cc:1115: Starting in XGBoost 1.3.0, the default evaluation metric used with the objective 'binary:logistic' was changed from 'error' to 'logloss'. Explicitly set eval_metric if you'd like to restore the old behavior.\n"
     ]
    },
    {
     "data": {
      "text/plain": "          Dataset_Name              Model_Name  F1_Score  Accuracy_Score  \\\n0  Pima Indians, SMOTE  RandomForestClassifier  0.821324        0.833333   \n1  Pima Indians, SMOTE  DecisionTreeClassifier  0.772840        0.787037   \n2  Pima Indians, SMOTE                     SVC  0.781618        0.796296   \n3  Pima Indians, SMOTE           XGBClassifier  0.839465        0.851852   \n\n                                   Model_Best_Params  \n0  {'bootstrap': True, 'max_depth': 10, 'max_feat...  \n1  {'criterion': 'entropy', 'max_depth': 6, 'max_...  \n2           {'C': 10, 'gamma': 0.1, 'kernel': 'rbf'}  \n3  {'gamma': 0.3, 'learning_rate': 0.1, 'max_dept...  ",
      "text/html": "<div>\n<style scoped>\n    .dataframe tbody tr th:only-of-type {\n        vertical-align: middle;\n    }\n\n    .dataframe tbody tr th {\n        vertical-align: top;\n    }\n\n    .dataframe thead th {\n        text-align: right;\n    }\n</style>\n<table border=\"1\" class=\"dataframe\">\n  <thead>\n    <tr style=\"text-align: right;\">\n      <th></th>\n      <th>Dataset_Name</th>\n      <th>Model_Name</th>\n      <th>F1_Score</th>\n      <th>Accuracy_Score</th>\n      <th>Model_Best_Params</th>\n    </tr>\n  </thead>\n  <tbody>\n    <tr>\n      <th>0</th>\n      <td>Pima Indians, SMOTE</td>\n      <td>RandomForestClassifier</td>\n      <td>0.821324</td>\n      <td>0.833333</td>\n      <td>{'bootstrap': True, 'max_depth': 10, 'max_feat...</td>\n    </tr>\n    <tr>\n      <th>1</th>\n      <td>Pima Indians, SMOTE</td>\n      <td>DecisionTreeClassifier</td>\n      <td>0.772840</td>\n      <td>0.787037</td>\n      <td>{'criterion': 'entropy', 'max_depth': 6, 'max_...</td>\n    </tr>\n    <tr>\n      <th>2</th>\n      <td>Pima Indians, SMOTE</td>\n      <td>SVC</td>\n      <td>0.781618</td>\n      <td>0.796296</td>\n      <td>{'C': 10, 'gamma': 0.1, 'kernel': 'rbf'}</td>\n    </tr>\n    <tr>\n      <th>3</th>\n      <td>Pima Indians, SMOTE</td>\n      <td>XGBClassifier</td>\n      <td>0.839465</td>\n      <td>0.851852</td>\n      <td>{'gamma': 0.3, 'learning_rate': 0.1, 'max_dept...</td>\n    </tr>\n  </tbody>\n</table>\n</div>"
     },
     "execution_count": 31,
     "metadata": {},
     "output_type": "execute_result"
    }
   ],
   "source": [
    "smote_ML_results_df = test_ML_models(best_results_df, smote_X_train, smote_y_train, X_test, y_test, \"Pima Indians, SMOTE\",\n",
    "                                         show_plots=False, debug_mode=False)\n",
    "smote_ML_results_df"
   ],
   "metadata": {
    "collapsed": false,
    "pycharm": {
     "name": "#%%\n"
    }
   }
  },
  {
   "cell_type": "markdown",
   "source": [
    "#### Results for Ranchi dataset\n",
    "\n",
    "If you want, you can set show_plots to True and debug_mode to True to make deeper analysis of each tuned model results on the dataset."
   ],
   "metadata": {
    "collapsed": false
   }
  },
  {
   "cell_type": "code",
   "execution_count": 32,
   "outputs": [
    {
     "name": "stdout",
     "output_type": "stream",
     "text": [
      "[21:24:31] WARNING: ../src/learner.cc:1115: Starting in XGBoost 1.3.0, the default evaluation metric used with the objective 'binary:logistic' was changed from 'error' to 'logloss'. Explicitly set eval_metric if you'd like to restore the old behavior.\n",
      "[21:24:31] WARNING: ../src/learner.cc:1115: Starting in XGBoost 1.3.0, the default evaluation metric used with the objective 'binary:logistic' was changed from 'error' to 'logloss'. Explicitly set eval_metric if you'd like to restore the old behavior.\n"
     ]
    },
    {
     "data": {
      "text/plain": "       Dataset_Name              Model_Name  F1_Score  Accuracy_Score  \\\n0  Ranchi, Original  RandomForestClassifier  0.927030        0.939227   \n1  Ranchi, Original  DecisionTreeClassifier  0.933299        0.944751   \n2  Ranchi, Original                     SVC  0.926218        0.939227   \n3  Ranchi, Original           XGBClassifier  0.929239        0.939227   \n\n                                   Model_Best_Params  \n0  {'bootstrap': False, 'max_depth': 10, 'max_fea...  \n1  {'criterion': 'gini', 'max_depth': 10, 'max_fe...  \n2            {'C': 100, 'gamma': 1, 'kernel': 'rbf'}  \n3  {'gamma': 0.3, 'learning_rate': 0.1, 'max_dept...  ",
      "text/html": "<div>\n<style scoped>\n    .dataframe tbody tr th:only-of-type {\n        vertical-align: middle;\n    }\n\n    .dataframe tbody tr th {\n        vertical-align: top;\n    }\n\n    .dataframe thead th {\n        text-align: right;\n    }\n</style>\n<table border=\"1\" class=\"dataframe\">\n  <thead>\n    <tr style=\"text-align: right;\">\n      <th></th>\n      <th>Dataset_Name</th>\n      <th>Model_Name</th>\n      <th>F1_Score</th>\n      <th>Accuracy_Score</th>\n      <th>Model_Best_Params</th>\n    </tr>\n  </thead>\n  <tbody>\n    <tr>\n      <th>0</th>\n      <td>Ranchi, Original</td>\n      <td>RandomForestClassifier</td>\n      <td>0.927030</td>\n      <td>0.939227</td>\n      <td>{'bootstrap': False, 'max_depth': 10, 'max_fea...</td>\n    </tr>\n    <tr>\n      <th>1</th>\n      <td>Ranchi, Original</td>\n      <td>DecisionTreeClassifier</td>\n      <td>0.933299</td>\n      <td>0.944751</td>\n      <td>{'criterion': 'gini', 'max_depth': 10, 'max_fe...</td>\n    </tr>\n    <tr>\n      <th>2</th>\n      <td>Ranchi, Original</td>\n      <td>SVC</td>\n      <td>0.926218</td>\n      <td>0.939227</td>\n      <td>{'C': 100, 'gamma': 1, 'kernel': 'rbf'}</td>\n    </tr>\n    <tr>\n      <th>3</th>\n      <td>Ranchi, Original</td>\n      <td>XGBClassifier</td>\n      <td>0.929239</td>\n      <td>0.939227</td>\n      <td>{'gamma': 0.3, 'learning_rate': 0.1, 'max_dept...</td>\n    </tr>\n  </tbody>\n</table>\n</div>"
     },
     "execution_count": 32,
     "metadata": {},
     "output_type": "execute_result"
    }
   ],
   "source": [
    "ranchi_ML_results_df = test_ML_models(best_results_df, ranchi_X_train, ranchi_y_train,\n",
    "                                     ranchi_X_test, ranchi_y_test, \"Ranchi, Original\",\n",
    "                                     show_plots=False, debug_mode=False)\n",
    "ranchi_ML_results_df"
   ],
   "metadata": {
    "collapsed": false,
    "pycharm": {
     "name": "#%%\n"
    }
   }
  },
  {
   "cell_type": "code",
   "execution_count": 33,
   "outputs": [
    {
     "name": "stdout",
     "output_type": "stream",
     "text": [
      "[21:24:51] WARNING: ../src/learner.cc:1115: Starting in XGBoost 1.3.0, the default evaluation metric used with the objective 'binary:logistic' was changed from 'error' to 'logloss'. Explicitly set eval_metric if you'd like to restore the old behavior.\n",
      "[21:24:51] WARNING: ../src/learner.cc:1115: Starting in XGBoost 1.3.0, the default evaluation metric used with the objective 'binary:logistic' was changed from 'error' to 'logloss'. Explicitly set eval_metric if you'd like to restore the old behavior.\n"
     ]
    },
    {
     "data": {
      "text/plain": "  Dataset_Name              Model_Name  F1_Score  Accuracy_Score  \\\n0  Ranchi, ROS  RandomForestClassifier  0.948286        0.955801   \n1  Ranchi, ROS  DecisionTreeClassifier  0.911989        0.922652   \n2  Ranchi, ROS                     SVC  0.922429        0.933702   \n3  Ranchi, ROS           XGBClassifier  0.917914        0.928177   \n\n                                   Model_Best_Params  \n0  {'bootstrap': True, 'max_depth': 10, 'max_feat...  \n1  {'criterion': 'gini', 'max_depth': 10, 'max_fe...  \n2            {'C': 100, 'gamma': 1, 'kernel': 'rbf'}  \n3  {'gamma': 0.3, 'learning_rate': 0.1, 'max_dept...  ",
      "text/html": "<div>\n<style scoped>\n    .dataframe tbody tr th:only-of-type {\n        vertical-align: middle;\n    }\n\n    .dataframe tbody tr th {\n        vertical-align: top;\n    }\n\n    .dataframe thead th {\n        text-align: right;\n    }\n</style>\n<table border=\"1\" class=\"dataframe\">\n  <thead>\n    <tr style=\"text-align: right;\">\n      <th></th>\n      <th>Dataset_Name</th>\n      <th>Model_Name</th>\n      <th>F1_Score</th>\n      <th>Accuracy_Score</th>\n      <th>Model_Best_Params</th>\n    </tr>\n  </thead>\n  <tbody>\n    <tr>\n      <th>0</th>\n      <td>Ranchi, ROS</td>\n      <td>RandomForestClassifier</td>\n      <td>0.948286</td>\n      <td>0.955801</td>\n      <td>{'bootstrap': True, 'max_depth': 10, 'max_feat...</td>\n    </tr>\n    <tr>\n      <th>1</th>\n      <td>Ranchi, ROS</td>\n      <td>DecisionTreeClassifier</td>\n      <td>0.911989</td>\n      <td>0.922652</td>\n      <td>{'criterion': 'gini', 'max_depth': 10, 'max_fe...</td>\n    </tr>\n    <tr>\n      <th>2</th>\n      <td>Ranchi, ROS</td>\n      <td>SVC</td>\n      <td>0.922429</td>\n      <td>0.933702</td>\n      <td>{'C': 100, 'gamma': 1, 'kernel': 'rbf'}</td>\n    </tr>\n    <tr>\n      <th>3</th>\n      <td>Ranchi, ROS</td>\n      <td>XGBClassifier</td>\n      <td>0.917914</td>\n      <td>0.928177</td>\n      <td>{'gamma': 0.3, 'learning_rate': 0.1, 'max_dept...</td>\n    </tr>\n  </tbody>\n</table>\n</div>"
     },
     "execution_count": 33,
     "metadata": {},
     "output_type": "execute_result"
    }
   ],
   "source": [
    "ranchi_ros_ML_results_df = test_ML_models(best_results_df, ros_ranchi_X_train, ros_ranchi_y_train,\n",
    "                                      ranchi_X_test, ranchi_y_test, \"Ranchi, ROS\",\n",
    "                                      show_plots=False, debug_mode=False)\n",
    "ranchi_ros_ML_results_df"
   ],
   "metadata": {
    "collapsed": false,
    "pycharm": {
     "name": "#%%\n"
    }
   }
  },
  {
   "cell_type": "code",
   "execution_count": 34,
   "outputs": [
    {
     "name": "stdout",
     "output_type": "stream",
     "text": [
      "[21:25:47] WARNING: ../src/learner.cc:1115: Starting in XGBoost 1.3.0, the default evaluation metric used with the objective 'binary:logistic' was changed from 'error' to 'logloss'. Explicitly set eval_metric if you'd like to restore the old behavior.\n",
      "[21:25:48] WARNING: ../src/learner.cc:1115: Starting in XGBoost 1.3.0, the default evaluation metric used with the objective 'binary:logistic' was changed from 'error' to 'logloss'. Explicitly set eval_metric if you'd like to restore the old behavior.\n"
     ]
    },
    {
     "data": {
      "text/plain": "    Dataset_Name              Model_Name  F1_Score  Accuracy_Score  \\\n0  Ranchi, SMOTE  RandomForestClassifier  0.891674        0.906077   \n1  Ranchi, SMOTE  DecisionTreeClassifier  0.899417        0.911602   \n2  Ranchi, SMOTE                     SVC  0.907626        0.922652   \n3  Ranchi, SMOTE           XGBClassifier  0.923175        0.933702   \n\n                                   Model_Best_Params  \n0  {'bootstrap': True, 'max_depth': 10, 'max_feat...  \n1  {'criterion': 'gini', 'max_depth': 10, 'max_fe...  \n2            {'C': 100, 'gamma': 1, 'kernel': 'rbf'}  \n3  {'gamma': 0.3, 'learning_rate': 0.1, 'max_dept...  ",
      "text/html": "<div>\n<style scoped>\n    .dataframe tbody tr th:only-of-type {\n        vertical-align: middle;\n    }\n\n    .dataframe tbody tr th {\n        vertical-align: top;\n    }\n\n    .dataframe thead th {\n        text-align: right;\n    }\n</style>\n<table border=\"1\" class=\"dataframe\">\n  <thead>\n    <tr style=\"text-align: right;\">\n      <th></th>\n      <th>Dataset_Name</th>\n      <th>Model_Name</th>\n      <th>F1_Score</th>\n      <th>Accuracy_Score</th>\n      <th>Model_Best_Params</th>\n    </tr>\n  </thead>\n  <tbody>\n    <tr>\n      <th>0</th>\n      <td>Ranchi, SMOTE</td>\n      <td>RandomForestClassifier</td>\n      <td>0.891674</td>\n      <td>0.906077</td>\n      <td>{'bootstrap': True, 'max_depth': 10, 'max_feat...</td>\n    </tr>\n    <tr>\n      <th>1</th>\n      <td>Ranchi, SMOTE</td>\n      <td>DecisionTreeClassifier</td>\n      <td>0.899417</td>\n      <td>0.911602</td>\n      <td>{'criterion': 'gini', 'max_depth': 10, 'max_fe...</td>\n    </tr>\n    <tr>\n      <th>2</th>\n      <td>Ranchi, SMOTE</td>\n      <td>SVC</td>\n      <td>0.907626</td>\n      <td>0.922652</td>\n      <td>{'C': 100, 'gamma': 1, 'kernel': 'rbf'}</td>\n    </tr>\n    <tr>\n      <th>3</th>\n      <td>Ranchi, SMOTE</td>\n      <td>XGBClassifier</td>\n      <td>0.923175</td>\n      <td>0.933702</td>\n      <td>{'gamma': 0.3, 'learning_rate': 0.1, 'max_dept...</td>\n    </tr>\n  </tbody>\n</table>\n</div>"
     },
     "execution_count": 34,
     "metadata": {},
     "output_type": "execute_result"
    }
   ],
   "source": [
    "ranchi_smote_ML_results_df = test_ML_models(best_results_df, smote_ranchi_X_train, smote_ranchi_y_train,\n",
    "                                            ranchi_X_test, ranchi_y_test, \"Ranchi, SMOTE\",\n",
    "                                            show_plots=False, debug_mode=False)\n",
    "ranchi_smote_ML_results_df"
   ],
   "metadata": {
    "collapsed": false,
    "pycharm": {
     "name": "#%%\n"
    }
   }
  },
  {
   "cell_type": "markdown",
   "source": [
    "### Test DL models"
   ],
   "metadata": {
    "collapsed": false
   }
  },
  {
   "cell_type": "code",
   "execution_count": 35,
   "outputs": [],
   "source": [
    "def validate_MLPClassifier(X_train_scaled, y_train, debug_mode=False):\n",
    "    \"\"\"\n",
    "    Create and tune MLPClassifier with GridSearchCV.\n",
    "\n",
    "    :return: fitted model object, F1 score, accuracy score and hyperparameters of best model\n",
    "    \"\"\"\n",
    "    vmlp = MLPClassifier(max_iter=100, random_state=SEED)\n",
    "\n",
    "    parameter_space = {\n",
    "        'hidden_layer_sizes': [(50,50,50), (50,100,50), (100,)],\n",
    "        'activation': ['tanh', 'relu'],\n",
    "        'solver': ['sgd', 'adam'],\n",
    "        'alpha': [0.0001, 0.05],\n",
    "        'learning_rate': ['constant','adaptive'],\n",
    "    }\n",
    "\n",
    "    clf = GridSearchCV(vmlp,\n",
    "                       parameter_space,\n",
    "                       n_jobs=-1,\n",
    "                       cv=3,\n",
    "                       scoring={\n",
    "                           \"F1_Score\": make_scorer(f1_score, average='macro'),\n",
    "                           \"Accuracy_Score\": make_scorer(accuracy_score),\n",
    "                       },\n",
    "                       refit=\"F1_Score\")\n",
    "    clf.fit(X_train_scaled, y_train)\n",
    "\n",
    "    # print all results\n",
    "    if debug_mode:\n",
    "        means = clf.cv_results_['mean_test_score']\n",
    "        stds = clf.cv_results_['std_test_score']\n",
    "        for mean, std, params in zip(means, stds, clf.cv_results_['params']):\n",
    "            print(\"%0.3f (+/-%0.03f) for %r\" % (mean, std * 2, params))\n",
    "\n",
    "    best_index = clf.best_index_\n",
    "    return clf.best_estimator_,\\\n",
    "           clf.cv_results_[\"mean_test_F1_Score\"][best_index],\\\n",
    "           clf.cv_results_[\"mean_test_Accuracy_Score\"][best_index],\\\n",
    "           clf.best_params_\n",
    "\n",
    "\n",
    "def test_NN_model(cur_X_train, cur_y_train, cur_X_test, cur_y_test, features_dim, show_plots, debug_mode):\n",
    "    \"\"\"\n",
    "    Create and test own developed NN with 2 hidden layers.\n",
    "    We took this idea from this paper -- https://www.sciencedirect.com/science/article/pii/S2405959521000205\n",
    "    [Section 3.5. Neural network model implementation]. However, we also transformed it for our needs.\n",
    "\n",
    "    :param features_dim: 'input_dim' parameter for the first layer\n",
    "    \"\"\"\n",
    "    model = Sequential()\n",
    "\n",
    "    # create params dict for NN, it is already tuned manually\n",
    "    model_params = {\n",
    "        'layers': [\n",
    "            {'units': 32, 'activation': 'relu'},\n",
    "            {'units': 16, 'activation': 'relu'},\n",
    "            {'units': 1, 'activation': 'sigmoid'},\n",
    "        ],\n",
    "        'optimizer': 'adam',\n",
    "        'loss': 'binary_crossentropy',\n",
    "        'metrics': ['accuracy'],\n",
    "        'epochs': 200\n",
    "    }\n",
    "\n",
    "    # Add first hidden layer\n",
    "    model.add(Dense(model_params['layers'][0]['units'], activation=model_params['layers'][0]['activation'], input_dim=features_dim))\n",
    "    # Second hidden layer\n",
    "    model.add(Dense(model_params['layers'][1]['units'], activation=model_params['layers'][1]['activation']))\n",
    "    # Output layer\n",
    "    model.add(Dense(model_params['layers'][2]['units'], activation=model_params['layers'][2]['activation']))\n",
    "    # Compile the model\n",
    "    model.compile(optimizer=model_params['optimizer'], loss=model_params['loss'], metrics=model_params['metrics'])\n",
    "    run_hist_2 = model.fit(cur_X_train, cur_y_train, epochs=model_params['epochs'], verbose=0)\n",
    "\n",
    "    if show_plots:\n",
    "        fig, ax = plt.subplots()\n",
    "        ax.plot(run_hist_2.history[\"loss\"], 'r', marker='.', label=\"Train Loss\")\n",
    "        plt.show()\n",
    "\n",
    "    # Train and Test accuracy\n",
    "    train_accuracy = model.evaluate(cur_X_train, cur_y_train, verbose=0)\n",
    "    test_accuracy = model.evaluate(cur_X_test, cur_y_test, verbose=0)\n",
    "    if debug_mode:\n",
    "        print(\"Training Accuracy: %.2f%%\\n\" % (train_accuracy[1]*100))\n",
    "        print(\"Testing Accuracy: %.2f%%\\n\" % (test_accuracy[1]*100))\n",
    "\n",
    "    y_test_pred = model.predict_classes(cur_X_test)\n",
    "    test_f1_score = f1_score(cur_y_test, y_test_pred, average='macro')\n",
    "    test_accuracy = accuracy_score(cur_y_test, y_test_pred)\n",
    "\n",
    "    if show_plots:\n",
    "        cm = confusion_matrix(cur_y_test, y_test_pred)\n",
    "        ax = sns.heatmap(cm,\n",
    "                         annot=True,\n",
    "                         xticklabels=[\"Not ill\",'ill'],\n",
    "                         yticklabels=[\"Not ill\",'ill'])\n",
    "        ax.set_xlabel('Prediction')\n",
    "        ax.set_ylabel('Actual')\n",
    "        plt.show()\n",
    "\n",
    "    return model_params, test_f1_score, test_accuracy, y_test_pred.ravel()\n",
    "\n",
    "\n",
    "def test_DL_models(X_train, y_train, X_test, y_test, dataset_title, features_dim, show_plots=False, debug_mode=False):\n",
    "    # note that we have already scaled our data on the beginning of Section 2 of this notebook,\n",
    "    # so we do not need to use StandardScaler or similar\n",
    "    cur_model, cur_f1_score, cur_accuracy, cur_params = validate_MLPClassifier(X_train, y_train, debug_mode)\n",
    "    MLPClassifier_info = {\n",
    "        'model_name': 'MLPClassifier',\n",
    "        'model_params': cur_params\n",
    "    }\n",
    "    # get test results for MLPClassifier\n",
    "    MLPClassifier_info['test_f1_score'], MLPClassifier_info['test_accuracy'], MLPClassifier_info['model_pred'] =\\\n",
    "        test_evaluation(cur_model, MLPClassifier_info['model_name'], cur_params,\n",
    "                        X_train, y_train, X_test, y_test, dataset_title, show_plots, debug_mode)\n",
    "\n",
    "    if debug_mode:\n",
    "        print('\\nModel name: ', \"MLPClassifier\")\n",
    "        print('Best model validation params: ')\n",
    "        print('Mean Test F1 Score: ', cur_f1_score)\n",
    "        print('Mean Test Accuracy Score: ', cur_accuracy)\n",
    "        pprint(cur_params)\n",
    "\n",
    "    results_df = pd.DataFrame(columns=('Dataset_Name', 'Model_Name', 'F1_Score',\n",
    "                                       'Accuracy_Score',\n",
    "                                       'Model_Best_Params'))\n",
    "\n",
    "    best_f1_score = -np.Inf\n",
    "    best_model_pred = []\n",
    "    best_accuracy = -np.Inf\n",
    "    best_model_name = 'No model'\n",
    "    best_params = None\n",
    "    idx = 0\n",
    "    NN_info = {\n",
    "        'model_name': 'NN with 2 hidden layers',\n",
    "    }\n",
    "    # get test results for own NN\n",
    "    NN_info['model_params'], NN_info['test_f1_score'], NN_info['test_accuracy'], NN_info['model_pred'] =\\\n",
    "        test_NN_model(X_train, y_train, X_test, y_test, features_dim, show_plots, debug_mode)\n",
    "\n",
    "    # find the best DL model\n",
    "    for model_config in [MLPClassifier_info, NN_info]:\n",
    "        results_df.loc[idx] = [dataset_title,\n",
    "                               model_config['model_name'],\n",
    "                               model_config['test_f1_score'],\n",
    "                               model_config['test_accuracy'],\n",
    "                               model_config['model_params']]\n",
    "        idx += 1\n",
    "\n",
    "        if model_config['test_f1_score'] > best_f1_score:\n",
    "            best_f1_score = model_config['test_f1_score']\n",
    "            best_accuracy = model_config['test_accuracy']\n",
    "            best_model_name = model_config['model_name']\n",
    "            best_params = model_config['model_params']\n",
    "            best_model_pred = model_config['model_pred']\n",
    "\n",
    "    best_results_df.loc[best_results_df.shape[0]] = [dataset_title,\n",
    "                                                     best_model_name,\n",
    "                                                     best_f1_score,\n",
    "                                                     best_accuracy,\n",
    "                                                     best_params,\n",
    "                                                     best_model_pred]\n",
    "\n",
    "    return results_df\n"
   ],
   "metadata": {
    "collapsed": false,
    "pycharm": {
     "name": "#%%\n"
    }
   }
  },
  {
   "cell_type": "markdown",
   "source": [
    "#### Results for Pima Indians dataset"
   ],
   "metadata": {
    "collapsed": false
   }
  },
  {
   "cell_type": "code",
   "execution_count": 36,
   "outputs": [
    {
     "name": "stderr",
     "output_type": "stream",
     "text": [
      "2022-01-16 21:25:59.844563: E tensorflow/stream_executor/cuda/cuda_driver.cc:271] failed call to cuInit: CUDA_ERROR_NO_DEVICE: no CUDA-capable device is detected\n",
      "2022-01-16 21:25:59.844619: I tensorflow/stream_executor/cuda/cuda_diagnostics.cc:156] kernel driver does not appear to be running on this host (Strix-15-GL503GE): /proc/driver/nvidia/version does not exist\n",
      "2022-01-16 21:25:59.845090: I tensorflow/core/platform/cpu_feature_guard.cc:151] This TensorFlow binary is optimized with oneAPI Deep Neural Network Library (oneDNN) to use the following CPU instructions in performance-critical operations:  AVX2 FMA\n",
      "To enable them in other operations, rebuild TensorFlow with the appropriate compiler flags.\n"
     ]
    },
    {
     "data": {
      "text/plain": "             Dataset_Name               Model_Name  F1_Score  Accuracy_Score  \\\n0  Pima Indians, Original            MLPClassifier  0.837594        0.851852   \n1  Pima Indians, Original  NN with 2 hidden layers  0.765106        0.787037   \n\n                                   Model_Best_Params  \n0  {'activation': 'tanh', 'alpha': 0.0001, 'hidde...  \n1  {'layers': [{'units': 32, 'activation': 'relu'...  ",
      "text/html": "<div>\n<style scoped>\n    .dataframe tbody tr th:only-of-type {\n        vertical-align: middle;\n    }\n\n    .dataframe tbody tr th {\n        vertical-align: top;\n    }\n\n    .dataframe thead th {\n        text-align: right;\n    }\n</style>\n<table border=\"1\" class=\"dataframe\">\n  <thead>\n    <tr style=\"text-align: right;\">\n      <th></th>\n      <th>Dataset_Name</th>\n      <th>Model_Name</th>\n      <th>F1_Score</th>\n      <th>Accuracy_Score</th>\n      <th>Model_Best_Params</th>\n    </tr>\n  </thead>\n  <tbody>\n    <tr>\n      <th>0</th>\n      <td>Pima Indians, Original</td>\n      <td>MLPClassifier</td>\n      <td>0.837594</td>\n      <td>0.851852</td>\n      <td>{'activation': 'tanh', 'alpha': 0.0001, 'hidde...</td>\n    </tr>\n    <tr>\n      <th>1</th>\n      <td>Pima Indians, Original</td>\n      <td>NN with 2 hidden layers</td>\n      <td>0.765106</td>\n      <td>0.787037</td>\n      <td>{'layers': [{'units': 32, 'activation': 'relu'...</td>\n    </tr>\n  </tbody>\n</table>\n</div>"
     },
     "execution_count": 36,
     "metadata": {},
     "output_type": "execute_result"
    }
   ],
   "source": [
    "test_DL_models(X_train, y_train, X_test, y_test, 'Pima Indians, Original', features_dim=7, show_plots=False, debug_mode=False)"
   ],
   "metadata": {
    "collapsed": false,
    "pycharm": {
     "name": "#%%\n"
    }
   }
  },
  {
   "cell_type": "code",
   "execution_count": 37,
   "outputs": [
    {
     "data": {
      "text/plain": "        Dataset_Name               Model_Name  F1_Score  Accuracy_Score  \\\n0  Pima Indians, ROS            MLPClassifier  0.781618        0.796296   \n1  Pima Indians, ROS  NN with 2 hidden layers  0.755413        0.768519   \n\n                                   Model_Best_Params  \n0  {'activation': 'relu', 'alpha': 0.0001, 'hidde...  \n1  {'layers': [{'units': 32, 'activation': 'relu'...  ",
      "text/html": "<div>\n<style scoped>\n    .dataframe tbody tr th:only-of-type {\n        vertical-align: middle;\n    }\n\n    .dataframe tbody tr th {\n        vertical-align: top;\n    }\n\n    .dataframe thead th {\n        text-align: right;\n    }\n</style>\n<table border=\"1\" class=\"dataframe\">\n  <thead>\n    <tr style=\"text-align: right;\">\n      <th></th>\n      <th>Dataset_Name</th>\n      <th>Model_Name</th>\n      <th>F1_Score</th>\n      <th>Accuracy_Score</th>\n      <th>Model_Best_Params</th>\n    </tr>\n  </thead>\n  <tbody>\n    <tr>\n      <th>0</th>\n      <td>Pima Indians, ROS</td>\n      <td>MLPClassifier</td>\n      <td>0.781618</td>\n      <td>0.796296</td>\n      <td>{'activation': 'relu', 'alpha': 0.0001, 'hidde...</td>\n    </tr>\n    <tr>\n      <th>1</th>\n      <td>Pima Indians, ROS</td>\n      <td>NN with 2 hidden layers</td>\n      <td>0.755413</td>\n      <td>0.768519</td>\n      <td>{'layers': [{'units': 32, 'activation': 'relu'...</td>\n    </tr>\n  </tbody>\n</table>\n</div>"
     },
     "execution_count": 37,
     "metadata": {},
     "output_type": "execute_result"
    }
   ],
   "source": [
    "test_DL_models(ros_X_train, ros_y_train, X_test, y_test, 'Pima Indians, ROS', features_dim=7, show_plots=False, debug_mode=False)"
   ],
   "metadata": {
    "collapsed": false,
    "pycharm": {
     "name": "#%%\n"
    }
   }
  },
  {
   "cell_type": "code",
   "execution_count": 39,
   "outputs": [
    {
     "data": {
      "text/plain": "          Dataset_Name               Model_Name  F1_Score  Accuracy_Score  \\\n0  Pima Indians, SMOTE            MLPClassifier  0.787478        0.796296   \n1  Pima Indians, SMOTE  NN with 2 hidden layers  0.814114        0.824074   \n\n                                   Model_Best_Params  \n0  {'activation': 'relu', 'alpha': 0.0001, 'hidde...  \n1  {'layers': [{'units': 32, 'activation': 'relu'...  ",
      "text/html": "<div>\n<style scoped>\n    .dataframe tbody tr th:only-of-type {\n        vertical-align: middle;\n    }\n\n    .dataframe tbody tr th {\n        vertical-align: top;\n    }\n\n    .dataframe thead th {\n        text-align: right;\n    }\n</style>\n<table border=\"1\" class=\"dataframe\">\n  <thead>\n    <tr style=\"text-align: right;\">\n      <th></th>\n      <th>Dataset_Name</th>\n      <th>Model_Name</th>\n      <th>F1_Score</th>\n      <th>Accuracy_Score</th>\n      <th>Model_Best_Params</th>\n    </tr>\n  </thead>\n  <tbody>\n    <tr>\n      <th>0</th>\n      <td>Pima Indians, SMOTE</td>\n      <td>MLPClassifier</td>\n      <td>0.787478</td>\n      <td>0.796296</td>\n      <td>{'activation': 'relu', 'alpha': 0.0001, 'hidde...</td>\n    </tr>\n    <tr>\n      <th>1</th>\n      <td>Pima Indians, SMOTE</td>\n      <td>NN with 2 hidden layers</td>\n      <td>0.814114</td>\n      <td>0.824074</td>\n      <td>{'layers': [{'units': 32, 'activation': 'relu'...</td>\n    </tr>\n  </tbody>\n</table>\n</div>"
     },
     "execution_count": 39,
     "metadata": {},
     "output_type": "execute_result"
    }
   ],
   "source": [
    "test_DL_models(smote_X_train, smote_y_train, X_test, y_test, 'Pima Indians, SMOTE', features_dim=7, show_plots=False, debug_mode=False)"
   ],
   "metadata": {
    "collapsed": false,
    "pycharm": {
     "name": "#%%\n"
    }
   }
  },
  {
   "cell_type": "markdown",
   "source": [
    "#### Results for Ranchi dataset"
   ],
   "metadata": {
    "collapsed": false
   }
  },
  {
   "cell_type": "code",
   "execution_count": 40,
   "outputs": [
    {
     "data": {
      "text/plain": "       Dataset_Name               Model_Name  F1_Score  Accuracy_Score  \\\n0  Ranchi, Original            MLPClassifier  0.926218        0.939227   \n1  Ranchi, Original  NN with 2 hidden layers  0.934019        0.944751   \n\n                                   Model_Best_Params  \n0  {'activation': 'relu', 'alpha': 0.0001, 'hidde...  \n1  {'layers': [{'units': 32, 'activation': 'relu'...  ",
      "text/html": "<div>\n<style scoped>\n    .dataframe tbody tr th:only-of-type {\n        vertical-align: middle;\n    }\n\n    .dataframe tbody tr th {\n        vertical-align: top;\n    }\n\n    .dataframe thead th {\n        text-align: right;\n    }\n</style>\n<table border=\"1\" class=\"dataframe\">\n  <thead>\n    <tr style=\"text-align: right;\">\n      <th></th>\n      <th>Dataset_Name</th>\n      <th>Model_Name</th>\n      <th>F1_Score</th>\n      <th>Accuracy_Score</th>\n      <th>Model_Best_Params</th>\n    </tr>\n  </thead>\n  <tbody>\n    <tr>\n      <th>0</th>\n      <td>Ranchi, Original</td>\n      <td>MLPClassifier</td>\n      <td>0.926218</td>\n      <td>0.939227</td>\n      <td>{'activation': 'relu', 'alpha': 0.0001, 'hidde...</td>\n    </tr>\n    <tr>\n      <th>1</th>\n      <td>Ranchi, Original</td>\n      <td>NN with 2 hidden layers</td>\n      <td>0.934019</td>\n      <td>0.944751</td>\n      <td>{'layers': [{'units': 32, 'activation': 'relu'...</td>\n    </tr>\n  </tbody>\n</table>\n</div>"
     },
     "execution_count": 40,
     "metadata": {},
     "output_type": "execute_result"
    }
   ],
   "source": [
    "test_DL_models(ranchi_X_train, ranchi_y_train, ranchi_X_test, ranchi_y_test, 'Ranchi, Original', features_dim=8, show_plots=False, debug_mode=False)"
   ],
   "metadata": {
    "collapsed": false,
    "pycharm": {
     "name": "#%%\n"
    }
   }
  },
  {
   "cell_type": "code",
   "execution_count": 41,
   "outputs": [
    {
     "data": {
      "text/plain": "  Dataset_Name               Model_Name  F1_Score  Accuracy_Score  \\\n0  Ranchi, ROS            MLPClassifier  0.909500        0.922652   \n1  Ranchi, ROS  NN with 2 hidden layers  0.898514        0.911602   \n\n                                   Model_Best_Params  \n0  {'activation': 'relu', 'alpha': 0.0001, 'hidde...  \n1  {'layers': [{'units': 32, 'activation': 'relu'...  ",
      "text/html": "<div>\n<style scoped>\n    .dataframe tbody tr th:only-of-type {\n        vertical-align: middle;\n    }\n\n    .dataframe tbody tr th {\n        vertical-align: top;\n    }\n\n    .dataframe thead th {\n        text-align: right;\n    }\n</style>\n<table border=\"1\" class=\"dataframe\">\n  <thead>\n    <tr style=\"text-align: right;\">\n      <th></th>\n      <th>Dataset_Name</th>\n      <th>Model_Name</th>\n      <th>F1_Score</th>\n      <th>Accuracy_Score</th>\n      <th>Model_Best_Params</th>\n    </tr>\n  </thead>\n  <tbody>\n    <tr>\n      <th>0</th>\n      <td>Ranchi, ROS</td>\n      <td>MLPClassifier</td>\n      <td>0.909500</td>\n      <td>0.922652</td>\n      <td>{'activation': 'relu', 'alpha': 0.0001, 'hidde...</td>\n    </tr>\n    <tr>\n      <th>1</th>\n      <td>Ranchi, ROS</td>\n      <td>NN with 2 hidden layers</td>\n      <td>0.898514</td>\n      <td>0.911602</td>\n      <td>{'layers': [{'units': 32, 'activation': 'relu'...</td>\n    </tr>\n  </tbody>\n</table>\n</div>"
     },
     "execution_count": 41,
     "metadata": {},
     "output_type": "execute_result"
    }
   ],
   "source": [
    "test_DL_models(ros_ranchi_X_train, ros_ranchi_y_train, ranchi_X_test, ranchi_y_test, 'Ranchi, ROS', features_dim=8, show_plots=False, debug_mode=False)"
   ],
   "metadata": {
    "collapsed": false,
    "pycharm": {
     "name": "#%%\n"
    }
   }
  },
  {
   "cell_type": "code",
   "execution_count": 42,
   "outputs": [
    {
     "data": {
      "text/plain": "    Dataset_Name               Model_Name  F1_Score  Accuracy_Score  \\\n0  Ranchi, SMOTE            MLPClassifier  0.907626        0.922652   \n1  Ranchi, SMOTE  NN with 2 hidden layers  0.908586        0.922652   \n\n                                   Model_Best_Params  \n0  {'activation': 'relu', 'alpha': 0.05, 'hidden_...  \n1  {'layers': [{'units': 32, 'activation': 'relu'...  ",
      "text/html": "<div>\n<style scoped>\n    .dataframe tbody tr th:only-of-type {\n        vertical-align: middle;\n    }\n\n    .dataframe tbody tr th {\n        vertical-align: top;\n    }\n\n    .dataframe thead th {\n        text-align: right;\n    }\n</style>\n<table border=\"1\" class=\"dataframe\">\n  <thead>\n    <tr style=\"text-align: right;\">\n      <th></th>\n      <th>Dataset_Name</th>\n      <th>Model_Name</th>\n      <th>F1_Score</th>\n      <th>Accuracy_Score</th>\n      <th>Model_Best_Params</th>\n    </tr>\n  </thead>\n  <tbody>\n    <tr>\n      <th>0</th>\n      <td>Ranchi, SMOTE</td>\n      <td>MLPClassifier</td>\n      <td>0.907626</td>\n      <td>0.922652</td>\n      <td>{'activation': 'relu', 'alpha': 0.05, 'hidden_...</td>\n    </tr>\n    <tr>\n      <th>1</th>\n      <td>Ranchi, SMOTE</td>\n      <td>NN with 2 hidden layers</td>\n      <td>0.908586</td>\n      <td>0.922652</td>\n      <td>{'layers': [{'units': 32, 'activation': 'relu'...</td>\n    </tr>\n  </tbody>\n</table>\n</div>"
     },
     "execution_count": 42,
     "metadata": {},
     "output_type": "execute_result"
    }
   ],
   "source": [
    "test_DL_models(smote_ranchi_X_train, smote_ranchi_y_train, ranchi_X_test, ranchi_y_test, 'Ranchi, SMOTE',\n",
    "               features_dim=8, show_plots=False, debug_mode=False)"
   ],
   "metadata": {
    "collapsed": false,
    "pycharm": {
     "name": "#%%\n"
    }
   }
  },
  {
   "cell_type": "markdown",
   "source": [
    "<a id='section_4'></a>\n",
    "\n",
    "## Section 4. Compare Results for Different Datasets"
   ],
   "metadata": {
    "collapsed": false
   }
  },
  {
   "cell_type": "code",
   "execution_count": 47,
   "outputs": [],
   "source": [
    "def display_models_info(best_results_df):\n",
    "    title_to_test_df = {\n",
    "        \"Pima Indians\": y_test,\n",
    "        \"Ranchi\": ranchi_y_test\n",
    "    }\n",
    "    for i in range(best_results_df.shape[0]):\n",
    "        model_name, dataset_title, cur_model_pred = best_results_df.at[i, 'Model_Name'], best_results_df.at[i, 'Dataset_Name'],\\\n",
    "                                                    best_results_df.at[i, 'Model_Pred']\n",
    "        print('\\n', \"#\" * 20, f' {dataset_title} ', \"#\" * 20)\n",
    "        print('Model name: ', model_name)\n",
    "        cur_y_test = title_to_test_df[dataset_title.split(',')[0]]\n",
    "\n",
    "        # print the scores\n",
    "        print()\n",
    "        print(classification_report(cur_y_test, cur_model_pred, digits=3))\n",
    "\n",
    "        # plot the confusion matrix\n",
    "        cm = confusion_matrix(cur_y_test, cur_model_pred)\n",
    "        disp = ConfusionMatrixDisplay(confusion_matrix=cm, display_labels=[\"ill\", \"Not ill\"])\n",
    "        disp.plot()\n",
    "        plt.show()"
   ],
   "metadata": {
    "collapsed": false,
    "pycharm": {
     "name": "#%%\n"
    }
   }
  },
  {
   "cell_type": "markdown",
   "source": [
    "### Print the final table of results\n",
    "\n",
    "Analyse classification report and confusion matrix for each of the best ML and DL models for different datasets.\n",
    "\n",
    "Note, ROS in Dataset_Name column means RandomOverSampler from balancing library imblearn.over_sampling."
   ],
   "metadata": {
    "collapsed": false
   }
  },
  {
   "cell_type": "code",
   "execution_count": 48,
   "outputs": [
    {
     "data": {
      "text/plain": "              Dataset_Name               Model_Name  F1_Score  Accuracy_Score  \\\n0   Pima Indians, Original                      SVC  0.824121        0.842593   \n6   Pima Indians, Original            MLPClassifier  0.837594        0.851852   \n1        Pima Indians, ROS            XGBClassifier  0.851852        0.861111   \n7        Pima Indians, ROS            MLPClassifier  0.781618        0.796296   \n2      Pima Indians, SMOTE            XGBClassifier  0.839465        0.851852   \n8      Pima Indians, SMOTE  NN with 2 hidden layers  0.814114        0.824074   \n3         Ranchi, Original   DecisionTreeClassifier  0.933299        0.944751   \n9         Ranchi, Original  NN with 2 hidden layers  0.934019        0.944751   \n4              Ranchi, ROS   RandomForestClassifier  0.948286        0.955801   \n10             Ranchi, ROS            MLPClassifier  0.909500        0.922652   \n5            Ranchi, SMOTE            XGBClassifier  0.923175        0.933702   \n11           Ranchi, SMOTE  NN with 2 hidden layers  0.908586        0.922652   \n\n                                    Model_Best_Params  \\\n0         {'C': 100, 'gamma': 0.001, 'kernel': 'rbf'}   \n6   {'activation': 'tanh', 'alpha': 0.0001, 'hidde...   \n1   {'gamma': 0.3, 'learning_rate': 0.1, 'max_dept...   \n7   {'activation': 'relu', 'alpha': 0.0001, 'hidde...   \n2   {'gamma': 0.3, 'learning_rate': 0.1, 'max_dept...   \n8   {'layers': [{'units': 32, 'activation': 'relu'...   \n3   {'criterion': 'gini', 'max_depth': 10, 'max_fe...   \n9   {'layers': [{'units': 32, 'activation': 'relu'...   \n4   {'bootstrap': True, 'max_depth': 10, 'max_feat...   \n10  {'activation': 'relu', 'alpha': 0.0001, 'hidde...   \n5   {'gamma': 0.3, 'learning_rate': 0.1, 'max_dept...   \n11  {'layers': [{'units': 32, 'activation': 'relu'...   \n\n                                           Model_Pred  \n0   [1, 0, 0, 0, 0, 0, 0, 1, 1, 1, 0, 0, 1, 1, 1, ...  \n6   [1, 0, 0, 0, 0, 0, 0, 1, 1, 1, 0, 0, 1, 1, 1, ...  \n1   [0, 0, 0, 0, 1, 0, 1, 1, 1, 1, 0, 0, 1, 1, 1, ...  \n7   [1, 0, 0, 0, 1, 0, 0, 1, 1, 1, 0, 0, 1, 1, 1, ...  \n2   [0, 0, 0, 0, 1, 0, 1, 1, 1, 1, 0, 0, 1, 1, 0, ...  \n8   [1, 0, 0, 0, 1, 0, 0, 1, 1, 1, 1, 0, 1, 1, 0, ...  \n3   [1.0, 1.0, 0.0, 0.0, 0.0, 0.0, 0.0, 0.0, 0.0, ...  \n9   [1, 1, 0, 0, 0, 0, 0, 0, 0, 0, 0, 0, 0, 0, 1, ...  \n4   [1.0, 1.0, 0.0, 0.0, 0.0, 0.0, 0.0, 0.0, 0.0, ...  \n10  [1.0, 1.0, 0.0, 0.0, 0.0, 0.0, 0.0, 0.0, 0.0, ...  \n5   [1.0, 1.0, 0.0, 0.0, 0.0, 0.0, 0.0, 0.0, 0.0, ...  \n11  [1, 1, 0, 0, 0, 0, 0, 0, 0, 0, 0, 0, 0, 0, 1, ...  ",
      "text/html": "<div>\n<style scoped>\n    .dataframe tbody tr th:only-of-type {\n        vertical-align: middle;\n    }\n\n    .dataframe tbody tr th {\n        vertical-align: top;\n    }\n\n    .dataframe thead th {\n        text-align: right;\n    }\n</style>\n<table border=\"1\" class=\"dataframe\">\n  <thead>\n    <tr style=\"text-align: right;\">\n      <th></th>\n      <th>Dataset_Name</th>\n      <th>Model_Name</th>\n      <th>F1_Score</th>\n      <th>Accuracy_Score</th>\n      <th>Model_Best_Params</th>\n      <th>Model_Pred</th>\n    </tr>\n  </thead>\n  <tbody>\n    <tr>\n      <th>0</th>\n      <td>Pima Indians, Original</td>\n      <td>SVC</td>\n      <td>0.824121</td>\n      <td>0.842593</td>\n      <td>{'C': 100, 'gamma': 0.001, 'kernel': 'rbf'}</td>\n      <td>[1, 0, 0, 0, 0, 0, 0, 1, 1, 1, 0, 0, 1, 1, 1, ...</td>\n    </tr>\n    <tr>\n      <th>6</th>\n      <td>Pima Indians, Original</td>\n      <td>MLPClassifier</td>\n      <td>0.837594</td>\n      <td>0.851852</td>\n      <td>{'activation': 'tanh', 'alpha': 0.0001, 'hidde...</td>\n      <td>[1, 0, 0, 0, 0, 0, 0, 1, 1, 1, 0, 0, 1, 1, 1, ...</td>\n    </tr>\n    <tr>\n      <th>1</th>\n      <td>Pima Indians, ROS</td>\n      <td>XGBClassifier</td>\n      <td>0.851852</td>\n      <td>0.861111</td>\n      <td>{'gamma': 0.3, 'learning_rate': 0.1, 'max_dept...</td>\n      <td>[0, 0, 0, 0, 1, 0, 1, 1, 1, 1, 0, 0, 1, 1, 1, ...</td>\n    </tr>\n    <tr>\n      <th>7</th>\n      <td>Pima Indians, ROS</td>\n      <td>MLPClassifier</td>\n      <td>0.781618</td>\n      <td>0.796296</td>\n      <td>{'activation': 'relu', 'alpha': 0.0001, 'hidde...</td>\n      <td>[1, 0, 0, 0, 1, 0, 0, 1, 1, 1, 0, 0, 1, 1, 1, ...</td>\n    </tr>\n    <tr>\n      <th>2</th>\n      <td>Pima Indians, SMOTE</td>\n      <td>XGBClassifier</td>\n      <td>0.839465</td>\n      <td>0.851852</td>\n      <td>{'gamma': 0.3, 'learning_rate': 0.1, 'max_dept...</td>\n      <td>[0, 0, 0, 0, 1, 0, 1, 1, 1, 1, 0, 0, 1, 1, 0, ...</td>\n    </tr>\n    <tr>\n      <th>8</th>\n      <td>Pima Indians, SMOTE</td>\n      <td>NN with 2 hidden layers</td>\n      <td>0.814114</td>\n      <td>0.824074</td>\n      <td>{'layers': [{'units': 32, 'activation': 'relu'...</td>\n      <td>[1, 0, 0, 0, 1, 0, 0, 1, 1, 1, 1, 0, 1, 1, 0, ...</td>\n    </tr>\n    <tr>\n      <th>3</th>\n      <td>Ranchi, Original</td>\n      <td>DecisionTreeClassifier</td>\n      <td>0.933299</td>\n      <td>0.944751</td>\n      <td>{'criterion': 'gini', 'max_depth': 10, 'max_fe...</td>\n      <td>[1.0, 1.0, 0.0, 0.0, 0.0, 0.0, 0.0, 0.0, 0.0, ...</td>\n    </tr>\n    <tr>\n      <th>9</th>\n      <td>Ranchi, Original</td>\n      <td>NN with 2 hidden layers</td>\n      <td>0.934019</td>\n      <td>0.944751</td>\n      <td>{'layers': [{'units': 32, 'activation': 'relu'...</td>\n      <td>[1, 1, 0, 0, 0, 0, 0, 0, 0, 0, 0, 0, 0, 0, 1, ...</td>\n    </tr>\n    <tr>\n      <th>4</th>\n      <td>Ranchi, ROS</td>\n      <td>RandomForestClassifier</td>\n      <td>0.948286</td>\n      <td>0.955801</td>\n      <td>{'bootstrap': True, 'max_depth': 10, 'max_feat...</td>\n      <td>[1.0, 1.0, 0.0, 0.0, 0.0, 0.0, 0.0, 0.0, 0.0, ...</td>\n    </tr>\n    <tr>\n      <th>10</th>\n      <td>Ranchi, ROS</td>\n      <td>MLPClassifier</td>\n      <td>0.909500</td>\n      <td>0.922652</td>\n      <td>{'activation': 'relu', 'alpha': 0.0001, 'hidde...</td>\n      <td>[1.0, 1.0, 0.0, 0.0, 0.0, 0.0, 0.0, 0.0, 0.0, ...</td>\n    </tr>\n    <tr>\n      <th>5</th>\n      <td>Ranchi, SMOTE</td>\n      <td>XGBClassifier</td>\n      <td>0.923175</td>\n      <td>0.933702</td>\n      <td>{'gamma': 0.3, 'learning_rate': 0.1, 'max_dept...</td>\n      <td>[1.0, 1.0, 0.0, 0.0, 0.0, 0.0, 0.0, 0.0, 0.0, ...</td>\n    </tr>\n    <tr>\n      <th>11</th>\n      <td>Ranchi, SMOTE</td>\n      <td>NN with 2 hidden layers</td>\n      <td>0.908586</td>\n      <td>0.922652</td>\n      <td>{'layers': [{'units': 32, 'activation': 'relu'...</td>\n      <td>[1, 1, 0, 0, 0, 0, 0, 0, 0, 0, 0, 0, 0, 0, 1, ...</td>\n    </tr>\n  </tbody>\n</table>\n</div>"
     },
     "execution_count": 48,
     "metadata": {},
     "output_type": "execute_result"
    }
   ],
   "source": [
    "best_results_df.sort_values('Dataset_Name')"
   ],
   "metadata": {
    "collapsed": false,
    "pycharm": {
     "name": "#%%\n"
    }
   }
  },
  {
   "cell_type": "code",
   "execution_count": 49,
   "outputs": [
    {
     "name": "stdout",
     "output_type": "stream",
     "text": [
      "\n",
      " ####################  Pima Indians, Original  ####################\n",
      "Model name:  SVC\n",
      "\n",
      "              precision    recall  f1-score   support\n",
      "\n",
      "           0      0.829     0.940     0.881        67\n",
      "           1      0.875     0.683     0.767        41\n",
      "\n",
      "    accuracy                          0.843       108\n",
      "   macro avg      0.852     0.812     0.824       108\n",
      "weighted avg      0.846     0.843     0.838       108\n",
      "\n"
     ]
    },
    {
     "data": {
      "text/plain": "<Figure size 1500x500 with 2 Axes>",
      "image/png": "[encoded data removed]"
     },
     "metadata": {},
     "output_type": "display_data"
    },
    {
     "name": "stdout",
     "output_type": "stream",
     "text": [
      "\n",
      " ####################  Pima Indians, ROS  ####################\n",
      "Model name:  XGBClassifier\n",
      "\n",
      "              precision    recall  f1-score   support\n",
      "\n",
      "           0      0.882     0.896     0.889        67\n",
      "           1      0.825     0.805     0.815        41\n",
      "\n",
      "    accuracy                          0.861       108\n",
      "   macro avg      0.854     0.850     0.852       108\n",
      "weighted avg      0.861     0.861     0.861       108\n",
      "\n"
     ]
    },
    {
     "data": {
      "text/plain": "<Figure size 1500x500 with 2 Axes>",
      "image/png": "[encoded data removed]"
     },
     "metadata": {},
     "output_type": "display_data"
    },
    {
     "name": "stdout",
     "output_type": "stream",
     "text": [
      "\n",
      " ####################  Pima Indians, SMOTE  ####################\n",
      "Model name:  XGBClassifier\n",
      "\n",
      "              precision    recall  f1-score   support\n",
      "\n",
      "           0      0.859     0.910     0.884        67\n",
      "           1      0.838     0.756     0.795        41\n",
      "\n",
      "    accuracy                          0.852       108\n",
      "   macro avg      0.848     0.833     0.839       108\n",
      "weighted avg      0.851     0.852     0.850       108\n",
      "\n"
     ]
    },
    {
     "data": {
      "text/plain": "<Figure size 1500x500 with 2 Axes>",
      "image/png": "[encoded data removed]"
     },
     "metadata": {},
     "output_type": "display_data"
    },
    {
     "name": "stdout",
     "output_type": "stream",
     "text": [
      "\n",
      " ####################  Ranchi, Original  ####################\n",
      "Model name:  DecisionTreeClassifier\n",
      "\n",
      "              precision    recall  f1-score   support\n",
      "\n",
      "         0.0      0.946     0.976     0.961       126\n",
      "         1.0      0.941     0.873     0.906        55\n",
      "\n",
      "    accuracy                          0.945       181\n",
      "   macro avg      0.944     0.924     0.933       181\n",
      "weighted avg      0.945     0.945     0.944       181\n",
      "\n"
     ]
    },
    {
     "data": {
      "text/plain": "<Figure size 1500x500 with 2 Axes>",
      "image/png": "[encoded data removed]"
     },
     "metadata": {},
     "output_type": "display_data"
    },
    {
     "name": "stdout",
     "output_type": "stream",
     "text": [
      "\n",
      " ####################  Ranchi, ROS  ####################\n",
      "Model name:  RandomForestClassifier\n",
      "\n",
      "              precision    recall  f1-score   support\n",
      "\n",
      "         0.0      0.976     0.960     0.968       126\n",
      "         1.0      0.912     0.945     0.929        55\n",
      "\n",
      "    accuracy                          0.956       181\n",
      "   macro avg      0.944     0.953     0.948       181\n",
      "weighted avg      0.957     0.956     0.956       181\n",
      "\n"
     ]
    },
    {
     "data": {
      "text/plain": "<Figure size 1500x500 with 2 Axes>",
      "image/png": "[encoded data removed]"
     },
     "metadata": {},
     "output_type": "display_data"
    },
    {
     "name": "stdout",
     "output_type": "stream",
     "text": [
      "\n",
      " ####################  Ranchi, SMOTE  ####################\n",
      "Model name:  XGBClassifier\n",
      "\n",
      "              precision    recall  f1-score   support\n",
      "\n",
      "         0.0      0.967     0.937     0.952       126\n",
      "         1.0      0.864     0.927     0.895        55\n",
      "\n",
      "    accuracy                          0.934       181\n",
      "   macro avg      0.916     0.932     0.923       181\n",
      "weighted avg      0.936     0.934     0.934       181\n",
      "\n"
     ]
    },
    {
     "data": {
      "text/plain": "<Figure size 1500x500 with 2 Axes>",
      "image/png": "[encoded data removed]"
     },
     "metadata": {},
     "output_type": "display_data"
    },
    {
     "name": "stdout",
     "output_type": "stream",
     "text": [
      "\n",
      " ####################  Pima Indians, Original  ####################\n",
      "Model name:  MLPClassifier\n",
      "\n",
      "              precision    recall  f1-score   support\n",
      "\n",
      "           0      0.849     0.925     0.886        67\n",
      "           1      0.857     0.732     0.789        41\n",
      "\n",
      "    accuracy                          0.852       108\n",
      "   macro avg      0.853     0.829     0.838       108\n",
      "weighted avg      0.852     0.852     0.849       108\n",
      "\n"
     ]
    },
    {
     "data": {
      "text/plain": "<Figure size 1500x500 with 2 Axes>",
      "image/png": "[encoded data removed]"
     },
     "metadata": {},
     "output_type": "display_data"
    },
    {
     "name": "stdout",
     "output_type": "stream",
     "text": [
      "\n",
      " ####################  Pima Indians, ROS  ####################\n",
      "Model name:  MLPClassifier\n",
      "\n",
      "              precision    recall  f1-score   support\n",
      "\n",
      "           0      0.826     0.851     0.838        67\n",
      "           1      0.744     0.707     0.725        41\n",
      "\n",
      "    accuracy                          0.796       108\n",
      "   macro avg      0.785     0.779     0.782       108\n",
      "weighted avg      0.795     0.796     0.795       108\n",
      "\n"
     ]
    },
    {
     "data": {
      "text/plain": "<Figure size 1500x500 with 2 Axes>",
      "image/png": "[encoded data removed]"
     },
     "metadata": {},
     "output_type": "display_data"
    },
    {
     "name": "stdout",
     "output_type": "stream",
     "text": [
      "\n",
      " ####################  Pima Indians, SMOTE  ####################\n",
      "Model name:  NN with 2 hidden layers\n",
      "\n",
      "              precision    recall  f1-score   support\n",
      "\n",
      "           0      0.864     0.851     0.857        67\n",
      "           1      0.762     0.780     0.771        41\n",
      "\n",
      "    accuracy                          0.824       108\n",
      "   macro avg      0.813     0.816     0.814       108\n",
      "weighted avg      0.825     0.824     0.824       108\n",
      "\n"
     ]
    },
    {
     "data": {
      "text/plain": "<Figure size 1500x500 with 2 Axes>",
      "image/png": "[encoded data removed]"
     },
     "metadata": {},
     "output_type": "display_data"
    },
    {
     "name": "stdout",
     "output_type": "stream",
     "text": [
      "\n",
      " ####################  Ranchi, Original  ####################\n",
      "Model name:  NN with 2 hidden layers\n",
      "\n",
      "              precision    recall  f1-score   support\n",
      "\n",
      "         0.0      0.953     0.968     0.961       126\n",
      "         1.0      0.925     0.891     0.907        55\n",
      "\n",
      "    accuracy                          0.945       181\n",
      "   macro avg      0.939     0.930     0.934       181\n",
      "weighted avg      0.944     0.945     0.944       181\n",
      "\n"
     ]
    },
    {
     "data": {
      "text/plain": "<Figure size 1500x500 with 2 Axes>",
      "image/png": "[encoded data removed]"
     },
     "metadata": {},
     "output_type": "display_data"
    },
    {
     "name": "stdout",
     "output_type": "stream",
     "text": [
      "\n",
      " ####################  Ranchi, ROS  ####################\n",
      "Model name:  MLPClassifier\n",
      "\n",
      "              precision    recall  f1-score   support\n",
      "\n",
      "         0.0      0.952     0.937     0.944       126\n",
      "         1.0      0.860     0.891     0.875        55\n",
      "\n",
      "    accuracy                          0.923       181\n",
      "   macro avg      0.906     0.914     0.909       181\n",
      "weighted avg      0.924     0.923     0.923       181\n",
      "\n"
     ]
    },
    {
     "data": {
      "text/plain": "<Figure size 1500x500 with 2 Axes>",
      "image/png": "[encoded data removed]"
     },
     "metadata": {},
     "output_type": "display_data"
    },
    {
     "name": "stdout",
     "output_type": "stream",
     "text": [
      "\n",
      " ####################  Ranchi, SMOTE  ####################\n",
      "Model name:  NN with 2 hidden layers\n",
      "\n",
      "              precision    recall  f1-score   support\n",
      "\n",
      "         0.0      0.944     0.944     0.944       126\n",
      "         1.0      0.873     0.873     0.873        55\n",
      "\n",
      "    accuracy                          0.923       181\n",
      "   macro avg      0.909     0.909     0.909       181\n",
      "weighted avg      0.923     0.923     0.923       181\n",
      "\n"
     ]
    },
    {
     "data": {
      "text/plain": "<Figure size 1500x500 with 2 Axes>",
      "image/png": "[encoded data removed]"
     },
     "metadata": {},
     "output_type": "display_data"
    }
   ],
   "source": [
    "display_models_info(best_results_df)"
   ],
   "metadata": {
    "collapsed": false,
    "pycharm": {
     "name": "#%%\n"
    }
   }
  },
  {
   "cell_type": "markdown",
   "source": [
    "<a id='conclusion'></a>\n",
    "\n",
    "## Conclusion"
   ],
   "metadata": {
    "collapsed": false
   }
  },
  {
   "cell_type": "code",
   "execution_count": 50,
   "outputs": [
    {
     "data": {
      "text/plain": "              Dataset_Name               Model_Name  F1_Score  Accuracy_Score  \\\n0   Pima Indians, Original                      SVC  0.824121        0.842593   \n6   Pima Indians, Original            MLPClassifier  0.837594        0.851852   \n1        Pima Indians, ROS            XGBClassifier  0.851852        0.861111   \n7        Pima Indians, ROS            MLPClassifier  0.781618        0.796296   \n2      Pima Indians, SMOTE            XGBClassifier  0.839465        0.851852   \n8      Pima Indians, SMOTE  NN with 2 hidden layers  0.814114        0.824074   \n3         Ranchi, Original   DecisionTreeClassifier  0.933299        0.944751   \n9         Ranchi, Original  NN with 2 hidden layers  0.934019        0.944751   \n4              Ranchi, ROS   RandomForestClassifier  0.948286        0.955801   \n10             Ranchi, ROS            MLPClassifier  0.909500        0.922652   \n5            Ranchi, SMOTE            XGBClassifier  0.923175        0.933702   \n11           Ranchi, SMOTE  NN with 2 hidden layers  0.908586        0.922652   \n\n                                    Model_Best_Params  \\\n0         {'C': 100, 'gamma': 0.001, 'kernel': 'rbf'}   \n6   {'activation': 'tanh', 'alpha': 0.0001, 'hidde...   \n1   {'gamma': 0.3, 'learning_rate': 0.1, 'max_dept...   \n7   {'activation': 'relu', 'alpha': 0.0001, 'hidde...   \n2   {'gamma': 0.3, 'learning_rate': 0.1, 'max_dept...   \n8   {'layers': [{'units': 32, 'activation': 'relu'...   \n3   {'criterion': 'gini', 'max_depth': 10, 'max_fe...   \n9   {'layers': [{'units': 32, 'activation': 'relu'...   \n4   {'bootstrap': True, 'max_depth': 10, 'max_feat...   \n10  {'activation': 'relu', 'alpha': 0.0001, 'hidde...   \n5   {'gamma': 0.3, 'learning_rate': 0.1, 'max_dept...   \n11  {'layers': [{'units': 32, 'activation': 'relu'...   \n\n                                           Model_Pred  \n0   [1, 0, 0, 0, 0, 0, 0, 1, 1, 1, 0, 0, 1, 1, 1, ...  \n6   [1, 0, 0, 0, 0, 0, 0, 1, 1, 1, 0, 0, 1, 1, 1, ...  \n1   [0, 0, 0, 0, 1, 0, 1, 1, 1, 1, 0, 0, 1, 1, 1, ...  \n7   [1, 0, 0, 0, 1, 0, 0, 1, 1, 1, 0, 0, 1, 1, 1, ...  \n2   [0, 0, 0, 0, 1, 0, 1, 1, 1, 1, 0, 0, 1, 1, 0, ...  \n8   [1, 0, 0, 0, 1, 0, 0, 1, 1, 1, 1, 0, 1, 1, 0, ...  \n3   [1.0, 1.0, 0.0, 0.0, 0.0, 0.0, 0.0, 0.0, 0.0, ...  \n9   [1, 1, 0, 0, 0, 0, 0, 0, 0, 0, 0, 0, 0, 0, 1, ...  \n4   [1.0, 1.0, 0.0, 0.0, 0.0, 0.0, 0.0, 0.0, 0.0, ...  \n10  [1.0, 1.0, 0.0, 0.0, 0.0, 0.0, 0.0, 0.0, 0.0, ...  \n5   [1.0, 1.0, 0.0, 0.0, 0.0, 0.0, 0.0, 0.0, 0.0, ...  \n11  [1, 1, 0, 0, 0, 0, 0, 0, 0, 0, 0, 0, 0, 0, 1, ...  ",
      "text/html": "<div>\n<style scoped>\n    .dataframe tbody tr th:only-of-type {\n        vertical-align: middle;\n    }\n\n    .dataframe tbody tr th {\n        vertical-align: top;\n    }\n\n    .dataframe thead th {\n        text-align: right;\n    }\n</style>\n<table border=\"1\" class=\"dataframe\">\n  <thead>\n    <tr style=\"text-align: right;\">\n      <th></th>\n      <th>Dataset_Name</th>\n      <th>Model_Name</th>\n      <th>F1_Score</th>\n      <th>Accuracy_Score</th>\n      <th>Model_Best_Params</th>\n      <th>Model_Pred</th>\n    </tr>\n  </thead>\n  <tbody>\n    <tr>\n      <th>0</th>\n      <td>Pima Indians, Original</td>\n      <td>SVC</td>\n      <td>0.824121</td>\n      <td>0.842593</td>\n      <td>{'C': 100, 'gamma': 0.001, 'kernel': 'rbf'}</td>\n      <td>[1, 0, 0, 0, 0, 0, 0, 1, 1, 1, 0, 0, 1, 1, 1, ...</td>\n    </tr>\n    <tr>\n      <th>6</th>\n      <td>Pima Indians, Original</td>\n      <td>MLPClassifier</td>\n      <td>0.837594</td>\n      <td>0.851852</td>\n      <td>{'activation': 'tanh', 'alpha': 0.0001, 'hidde...</td>\n      <td>[1, 0, 0, 0, 0, 0, 0, 1, 1, 1, 0, 0, 1, 1, 1, ...</td>\n    </tr>\n    <tr>\n      <th>1</th>\n      <td>Pima Indians, ROS</td>\n      <td>XGBClassifier</td>\n      <td>0.851852</td>\n      <td>0.861111</td>\n      <td>{'gamma': 0.3, 'learning_rate': 0.1, 'max_dept...</td>\n      <td>[0, 0, 0, 0, 1, 0, 1, 1, 1, 1, 0, 0, 1, 1, 1, ...</td>\n    </tr>\n    <tr>\n      <th>7</th>\n      <td>Pima Indians, ROS</td>\n      <td>MLPClassifier</td>\n      <td>0.781618</td>\n      <td>0.796296</td>\n      <td>{'activation': 'relu', 'alpha': 0.0001, 'hidde...</td>\n      <td>[1, 0, 0, 0, 1, 0, 0, 1, 1, 1, 0, 0, 1, 1, 1, ...</td>\n    </tr>\n    <tr>\n      <th>2</th>\n      <td>Pima Indians, SMOTE</td>\n      <td>XGBClassifier</td>\n      <td>0.839465</td>\n      <td>0.851852</td>\n      <td>{'gamma': 0.3, 'learning_rate': 0.1, 'max_dept...</td>\n      <td>[0, 0, 0, 0, 1, 0, 1, 1, 1, 1, 0, 0, 1, 1, 0, ...</td>\n    </tr>\n    <tr>\n      <th>8</th>\n      <td>Pima Indians, SMOTE</td>\n      <td>NN with 2 hidden layers</td>\n      <td>0.814114</td>\n      <td>0.824074</td>\n      <td>{'layers': [{'units': 32, 'activation': 'relu'...</td>\n      <td>[1, 0, 0, 0, 1, 0, 0, 1, 1, 1, 1, 0, 1, 1, 0, ...</td>\n    </tr>\n    <tr>\n      <th>3</th>\n      <td>Ranchi, Original</td>\n      <td>DecisionTreeClassifier</td>\n      <td>0.933299</td>\n      <td>0.944751</td>\n      <td>{'criterion': 'gini', 'max_depth': 10, 'max_fe...</td>\n      <td>[1.0, 1.0, 0.0, 0.0, 0.0, 0.0, 0.0, 0.0, 0.0, ...</td>\n    </tr>\n    <tr>\n      <th>9</th>\n      <td>Ranchi, Original</td>\n      <td>NN with 2 hidden layers</td>\n      <td>0.934019</td>\n      <td>0.944751</td>\n      <td>{'layers': [{'units': 32, 'activation': 'relu'...</td>\n      <td>[1, 1, 0, 0, 0, 0, 0, 0, 0, 0, 0, 0, 0, 0, 1, ...</td>\n    </tr>\n    <tr>\n      <th>4</th>\n      <td>Ranchi, ROS</td>\n      <td>RandomForestClassifier</td>\n      <td>0.948286</td>\n      <td>0.955801</td>\n      <td>{'bootstrap': True, 'max_depth': 10, 'max_feat...</td>\n      <td>[1.0, 1.0, 0.0, 0.0, 0.0, 0.0, 0.0, 0.0, 0.0, ...</td>\n    </tr>\n    <tr>\n      <th>10</th>\n      <td>Ranchi, ROS</td>\n      <td>MLPClassifier</td>\n      <td>0.909500</td>\n      <td>0.922652</td>\n      <td>{'activation': 'relu', 'alpha': 0.0001, 'hidde...</td>\n      <td>[1.0, 1.0, 0.0, 0.0, 0.0, 0.0, 0.0, 0.0, 0.0, ...</td>\n    </tr>\n    <tr>\n      <th>5</th>\n      <td>Ranchi, SMOTE</td>\n      <td>XGBClassifier</td>\n      <td>0.923175</td>\n      <td>0.933702</td>\n      <td>{'gamma': 0.3, 'learning_rate': 0.1, 'max_dept...</td>\n      <td>[1.0, 1.0, 0.0, 0.0, 0.0, 0.0, 0.0, 0.0, 0.0, ...</td>\n    </tr>\n    <tr>\n      <th>11</th>\n      <td>Ranchi, SMOTE</td>\n      <td>NN with 2 hidden layers</td>\n      <td>0.908586</td>\n      <td>0.922652</td>\n      <td>{'layers': [{'units': 32, 'activation': 'relu'...</td>\n      <td>[1, 1, 0, 0, 0, 0, 0, 0, 0, 0, 0, 0, 0, 0, 1, ...</td>\n    </tr>\n  </tbody>\n</table>\n</div>"
     },
     "execution_count": 50,
     "metadata": {},
     "output_type": "execute_result"
    }
   ],
   "source": [
    "best_results_df.sort_values('Dataset_Name')"
   ],
   "metadata": {
    "collapsed": false,
    "pycharm": {
     "name": "#%%\n"
    }
   }
  },
  {
   "cell_type": "markdown",
   "source": [
    "To summarize all above results, we can highlight the next takeaways:\n",
    "* Based on F1 score for **Pima Indians dataset with random over-sampling**, **XGBClassifier** shown the best performance -- **0.851852** . It can be explained in facts that dataframe has a small number of features, and idea of gradient boosting very good corresponds to our problem, when we try to understand complicated disease pattern. Also we got good performance pruning after balancing train set.\n",
    "<br/><br/>\n",
    "* Based on F1 score for **Ranchi dataset with randon over-sampling**, **RandomForestClassifier** shown the best performance -- **0.948286**. It can be explained in similar manner, but also in this dataset we have in several times higher correlation among features and target, hence, Random Forest could understand this pattern better.\n",
    "<br/><br/>\n",
    "* After **testing on different datasets**, we can conclude that our approach shows pretty good results on different datasets. The main point is in feature correlation.In Pima Indians dataset there are a lot of outliers based on their features, so 85% result is a pretty close to maximum result, which we can get from that dataset\n",
    "<br/><br/>\n",
    "* **Investigation of the problem area** is pretty useful, especially in medicine problems. After it we came up with several optimization ways like deleting records with incorrect values from medicine point, for example, when blood pressure is 0, so this person is died, so it is mistake in the dataset.\n",
    "<br/><br/>\n",
    "* During running experiments, different balancing algorithms shown best results, highlighting **importance of dataset balancing**, even it is synthetic balanced. Nevertheless, we need to be alert with this technique to avoid overfitting anf make good test.\n",
    "<br/><br/>\n",
    "* Either we understand that **feature engineering** can increase performance better, even than more deep fin-tuning of hyper-parameters. Due to the EDA process we were able to come up with some thresholds to decide when one has a risk of coming down with diabetes. This, in turn, let us create a unique feature that assigns a certain risk to a person that, eventually, leads to higher model scores as this feature incorporates the information that the other ones convey, slightly enhancing their effect.\n",
    "<br/><br/>\n",
    "* Even with GridSearchCV we need to understand at least ranges of main model parameters based on EDA and previous experience.\n",
    "<br/><br/>\n",
    "* During paper analysis with the same problem it is good point to be sceptical and except different approaches, also analyse size and parameters of dataset, on which authors conducted experiments. Dataset is the main component in data science."
   ],
   "metadata": {
    "collapsed": false,
    "pycharm": {
     "name": "#%% md\n"
    }
   }
  },
  {
   "cell_type": "code",
   "execution_count": null,
   "outputs": [],
   "source": [],
   "metadata": {
    "collapsed": false,
    "pycharm": {
     "name": "#%%\n"
    }
   }
  }
 ],
 "metadata": {
  "kernelspec": {
   "display_name": "Python 3",
   "language": "python",
   "name": "python3"
  },
  "language_info": {
   "codemirror_mode": {
    "name": "ipython",
    "version": 2
   },
   "file_extension": ".py",
   "mimetype": "text/x-python",
   "name": "python",
   "nbconvert_exporter": "python",
   "pygments_lexer": "ipython2",
   "version": "2.7.6"
  }
 },
 "nbformat": 4,
 "nbformat_minor": 0
}